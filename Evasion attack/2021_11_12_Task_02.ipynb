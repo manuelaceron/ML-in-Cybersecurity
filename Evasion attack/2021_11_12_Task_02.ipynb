{
  "nbformat": 4,
  "nbformat_minor": 0,
  "metadata": {
    "colab": {
      "name": "2021_11_12_Task_02.ipynb",
      "provenance": [],
      "collapsed_sections": []
    },
    "kernelspec": {
      "display_name": "Python 3 (ipykernel)",
      "language": "python",
      "name": "python3"
    },
    "language_info": {
      "codemirror_mode": {
        "name": "ipython",
        "version": 3
      },
      "file_extension": ".py",
      "mimetype": "text/x-python",
      "name": "python",
      "nbconvert_exporter": "python",
      "pygments_lexer": "ipython3",
      "version": "3.9.7"
    },
    "accelerator": "GPU",
    "widgets": {
      "application/vnd.jupyter.widget-state+json": {
        "a95ac6823908497289e2e6d3c59691cb": {
          "model_module": "@jupyter-widgets/controls",
          "model_name": "HBoxModel",
          "model_module_version": "1.5.0",
          "state": {
            "_view_name": "HBoxView",
            "_dom_classes": [],
            "_model_name": "HBoxModel",
            "_view_module": "@jupyter-widgets/controls",
            "_model_module_version": "1.5.0",
            "_view_count": null,
            "_view_module_version": "1.5.0",
            "box_style": "",
            "layout": "IPY_MODEL_2a00bfc43b6e403cb774f7c1f1dc4212",
            "_model_module": "@jupyter-widgets/controls",
            "children": [
              "IPY_MODEL_2bba129e2c354027a951a9651af60039",
              "IPY_MODEL_1cfead8703bd411ea238ecd46293b744",
              "IPY_MODEL_22e331ab459446efbcd285c1b0f0aa9a"
            ]
          }
        },
        "2a00bfc43b6e403cb774f7c1f1dc4212": {
          "model_module": "@jupyter-widgets/base",
          "model_name": "LayoutModel",
          "model_module_version": "1.2.0",
          "state": {
            "_view_name": "LayoutView",
            "grid_template_rows": null,
            "right": null,
            "justify_content": null,
            "_view_module": "@jupyter-widgets/base",
            "overflow": null,
            "_model_module_version": "1.2.0",
            "_view_count": null,
            "flex_flow": null,
            "width": null,
            "min_width": null,
            "border": null,
            "align_items": null,
            "bottom": null,
            "_model_module": "@jupyter-widgets/base",
            "top": null,
            "grid_column": null,
            "overflow_y": null,
            "overflow_x": null,
            "grid_auto_flow": null,
            "grid_area": null,
            "grid_template_columns": null,
            "flex": null,
            "_model_name": "LayoutModel",
            "justify_items": null,
            "grid_row": null,
            "max_height": null,
            "align_content": null,
            "visibility": null,
            "align_self": null,
            "height": null,
            "min_height": null,
            "padding": null,
            "grid_auto_rows": null,
            "grid_gap": null,
            "max_width": null,
            "order": null,
            "_view_module_version": "1.2.0",
            "grid_template_areas": null,
            "object_position": null,
            "object_fit": null,
            "grid_auto_columns": null,
            "margin": null,
            "display": null,
            "left": null
          }
        },
        "2bba129e2c354027a951a9651af60039": {
          "model_module": "@jupyter-widgets/controls",
          "model_name": "HTMLModel",
          "model_module_version": "1.5.0",
          "state": {
            "_view_name": "HTMLView",
            "style": "IPY_MODEL_88bfe0c9867646bea6ae64b193eb18c3",
            "_dom_classes": [],
            "description": "",
            "_model_name": "HTMLModel",
            "placeholder": "​",
            "_view_module": "@jupyter-widgets/controls",
            "_model_module_version": "1.5.0",
            "value": "",
            "_view_count": null,
            "_view_module_version": "1.5.0",
            "description_tooltip": null,
            "_model_module": "@jupyter-widgets/controls",
            "layout": "IPY_MODEL_6c5b1abce7ab4e2cad448857d708634b"
          }
        },
        "1cfead8703bd411ea238ecd46293b744": {
          "model_module": "@jupyter-widgets/controls",
          "model_name": "FloatProgressModel",
          "model_module_version": "1.5.0",
          "state": {
            "_view_name": "ProgressView",
            "style": "IPY_MODEL_1a073a647e02489a8f577127555ef597",
            "_dom_classes": [],
            "description": "",
            "_model_name": "FloatProgressModel",
            "bar_style": "success",
            "max": 9912422,
            "_view_module": "@jupyter-widgets/controls",
            "_model_module_version": "1.5.0",
            "value": 9912422,
            "_view_count": null,
            "_view_module_version": "1.5.0",
            "orientation": "horizontal",
            "min": 0,
            "description_tooltip": null,
            "_model_module": "@jupyter-widgets/controls",
            "layout": "IPY_MODEL_ce6bc4bf2084467caaaa8da7cd3293bc"
          }
        },
        "22e331ab459446efbcd285c1b0f0aa9a": {
          "model_module": "@jupyter-widgets/controls",
          "model_name": "HTMLModel",
          "model_module_version": "1.5.0",
          "state": {
            "_view_name": "HTMLView",
            "style": "IPY_MODEL_8e0f70f144aa4d098af0e9563deae310",
            "_dom_classes": [],
            "description": "",
            "_model_name": "HTMLModel",
            "placeholder": "​",
            "_view_module": "@jupyter-widgets/controls",
            "_model_module_version": "1.5.0",
            "value": " 9913344/? [00:00&lt;00:00, 52250453.65it/s]",
            "_view_count": null,
            "_view_module_version": "1.5.0",
            "description_tooltip": null,
            "_model_module": "@jupyter-widgets/controls",
            "layout": "IPY_MODEL_26da15ab2e764eb98ccf2f49c7f4afb3"
          }
        },
        "88bfe0c9867646bea6ae64b193eb18c3": {
          "model_module": "@jupyter-widgets/controls",
          "model_name": "DescriptionStyleModel",
          "model_module_version": "1.5.0",
          "state": {
            "_view_name": "StyleView",
            "_model_name": "DescriptionStyleModel",
            "description_width": "",
            "_view_module": "@jupyter-widgets/base",
            "_model_module_version": "1.5.0",
            "_view_count": null,
            "_view_module_version": "1.2.0",
            "_model_module": "@jupyter-widgets/controls"
          }
        },
        "6c5b1abce7ab4e2cad448857d708634b": {
          "model_module": "@jupyter-widgets/base",
          "model_name": "LayoutModel",
          "model_module_version": "1.2.0",
          "state": {
            "_view_name": "LayoutView",
            "grid_template_rows": null,
            "right": null,
            "justify_content": null,
            "_view_module": "@jupyter-widgets/base",
            "overflow": null,
            "_model_module_version": "1.2.0",
            "_view_count": null,
            "flex_flow": null,
            "width": null,
            "min_width": null,
            "border": null,
            "align_items": null,
            "bottom": null,
            "_model_module": "@jupyter-widgets/base",
            "top": null,
            "grid_column": null,
            "overflow_y": null,
            "overflow_x": null,
            "grid_auto_flow": null,
            "grid_area": null,
            "grid_template_columns": null,
            "flex": null,
            "_model_name": "LayoutModel",
            "justify_items": null,
            "grid_row": null,
            "max_height": null,
            "align_content": null,
            "visibility": null,
            "align_self": null,
            "height": null,
            "min_height": null,
            "padding": null,
            "grid_auto_rows": null,
            "grid_gap": null,
            "max_width": null,
            "order": null,
            "_view_module_version": "1.2.0",
            "grid_template_areas": null,
            "object_position": null,
            "object_fit": null,
            "grid_auto_columns": null,
            "margin": null,
            "display": null,
            "left": null
          }
        },
        "1a073a647e02489a8f577127555ef597": {
          "model_module": "@jupyter-widgets/controls",
          "model_name": "ProgressStyleModel",
          "model_module_version": "1.5.0",
          "state": {
            "_view_name": "StyleView",
            "_model_name": "ProgressStyleModel",
            "description_width": "",
            "_view_module": "@jupyter-widgets/base",
            "_model_module_version": "1.5.0",
            "_view_count": null,
            "_view_module_version": "1.2.0",
            "bar_color": null,
            "_model_module": "@jupyter-widgets/controls"
          }
        },
        "ce6bc4bf2084467caaaa8da7cd3293bc": {
          "model_module": "@jupyter-widgets/base",
          "model_name": "LayoutModel",
          "model_module_version": "1.2.0",
          "state": {
            "_view_name": "LayoutView",
            "grid_template_rows": null,
            "right": null,
            "justify_content": null,
            "_view_module": "@jupyter-widgets/base",
            "overflow": null,
            "_model_module_version": "1.2.0",
            "_view_count": null,
            "flex_flow": null,
            "width": null,
            "min_width": null,
            "border": null,
            "align_items": null,
            "bottom": null,
            "_model_module": "@jupyter-widgets/base",
            "top": null,
            "grid_column": null,
            "overflow_y": null,
            "overflow_x": null,
            "grid_auto_flow": null,
            "grid_area": null,
            "grid_template_columns": null,
            "flex": null,
            "_model_name": "LayoutModel",
            "justify_items": null,
            "grid_row": null,
            "max_height": null,
            "align_content": null,
            "visibility": null,
            "align_self": null,
            "height": null,
            "min_height": null,
            "padding": null,
            "grid_auto_rows": null,
            "grid_gap": null,
            "max_width": null,
            "order": null,
            "_view_module_version": "1.2.0",
            "grid_template_areas": null,
            "object_position": null,
            "object_fit": null,
            "grid_auto_columns": null,
            "margin": null,
            "display": null,
            "left": null
          }
        },
        "8e0f70f144aa4d098af0e9563deae310": {
          "model_module": "@jupyter-widgets/controls",
          "model_name": "DescriptionStyleModel",
          "model_module_version": "1.5.0",
          "state": {
            "_view_name": "StyleView",
            "_model_name": "DescriptionStyleModel",
            "description_width": "",
            "_view_module": "@jupyter-widgets/base",
            "_model_module_version": "1.5.0",
            "_view_count": null,
            "_view_module_version": "1.2.0",
            "_model_module": "@jupyter-widgets/controls"
          }
        },
        "26da15ab2e764eb98ccf2f49c7f4afb3": {
          "model_module": "@jupyter-widgets/base",
          "model_name": "LayoutModel",
          "model_module_version": "1.2.0",
          "state": {
            "_view_name": "LayoutView",
            "grid_template_rows": null,
            "right": null,
            "justify_content": null,
            "_view_module": "@jupyter-widgets/base",
            "overflow": null,
            "_model_module_version": "1.2.0",
            "_view_count": null,
            "flex_flow": null,
            "width": null,
            "min_width": null,
            "border": null,
            "align_items": null,
            "bottom": null,
            "_model_module": "@jupyter-widgets/base",
            "top": null,
            "grid_column": null,
            "overflow_y": null,
            "overflow_x": null,
            "grid_auto_flow": null,
            "grid_area": null,
            "grid_template_columns": null,
            "flex": null,
            "_model_name": "LayoutModel",
            "justify_items": null,
            "grid_row": null,
            "max_height": null,
            "align_content": null,
            "visibility": null,
            "align_self": null,
            "height": null,
            "min_height": null,
            "padding": null,
            "grid_auto_rows": null,
            "grid_gap": null,
            "max_width": null,
            "order": null,
            "_view_module_version": "1.2.0",
            "grid_template_areas": null,
            "object_position": null,
            "object_fit": null,
            "grid_auto_columns": null,
            "margin": null,
            "display": null,
            "left": null
          }
        },
        "8b2315da803e49eebddf6e0a07d3dcff": {
          "model_module": "@jupyter-widgets/controls",
          "model_name": "HBoxModel",
          "model_module_version": "1.5.0",
          "state": {
            "_view_name": "HBoxView",
            "_dom_classes": [],
            "_model_name": "HBoxModel",
            "_view_module": "@jupyter-widgets/controls",
            "_model_module_version": "1.5.0",
            "_view_count": null,
            "_view_module_version": "1.5.0",
            "box_style": "",
            "layout": "IPY_MODEL_b760f0f113104a59a20ac706d9c92fe0",
            "_model_module": "@jupyter-widgets/controls",
            "children": [
              "IPY_MODEL_7410b7be72634544b4e870db52fa91bc",
              "IPY_MODEL_70ef44397b374ee09135c3e3625c3fb9",
              "IPY_MODEL_8d24f1c0839e4589835cc63b46cd70d2"
            ]
          }
        },
        "b760f0f113104a59a20ac706d9c92fe0": {
          "model_module": "@jupyter-widgets/base",
          "model_name": "LayoutModel",
          "model_module_version": "1.2.0",
          "state": {
            "_view_name": "LayoutView",
            "grid_template_rows": null,
            "right": null,
            "justify_content": null,
            "_view_module": "@jupyter-widgets/base",
            "overflow": null,
            "_model_module_version": "1.2.0",
            "_view_count": null,
            "flex_flow": null,
            "width": null,
            "min_width": null,
            "border": null,
            "align_items": null,
            "bottom": null,
            "_model_module": "@jupyter-widgets/base",
            "top": null,
            "grid_column": null,
            "overflow_y": null,
            "overflow_x": null,
            "grid_auto_flow": null,
            "grid_area": null,
            "grid_template_columns": null,
            "flex": null,
            "_model_name": "LayoutModel",
            "justify_items": null,
            "grid_row": null,
            "max_height": null,
            "align_content": null,
            "visibility": null,
            "align_self": null,
            "height": null,
            "min_height": null,
            "padding": null,
            "grid_auto_rows": null,
            "grid_gap": null,
            "max_width": null,
            "order": null,
            "_view_module_version": "1.2.0",
            "grid_template_areas": null,
            "object_position": null,
            "object_fit": null,
            "grid_auto_columns": null,
            "margin": null,
            "display": null,
            "left": null
          }
        },
        "7410b7be72634544b4e870db52fa91bc": {
          "model_module": "@jupyter-widgets/controls",
          "model_name": "HTMLModel",
          "model_module_version": "1.5.0",
          "state": {
            "_view_name": "HTMLView",
            "style": "IPY_MODEL_95319687dbec4203a7a12ce492864a63",
            "_dom_classes": [],
            "description": "",
            "_model_name": "HTMLModel",
            "placeholder": "​",
            "_view_module": "@jupyter-widgets/controls",
            "_model_module_version": "1.5.0",
            "value": "",
            "_view_count": null,
            "_view_module_version": "1.5.0",
            "description_tooltip": null,
            "_model_module": "@jupyter-widgets/controls",
            "layout": "IPY_MODEL_3c3d248f9f8149a5af76c8fc6413856c"
          }
        },
        "70ef44397b374ee09135c3e3625c3fb9": {
          "model_module": "@jupyter-widgets/controls",
          "model_name": "FloatProgressModel",
          "model_module_version": "1.5.0",
          "state": {
            "_view_name": "ProgressView",
            "style": "IPY_MODEL_7c845eda5cec48878e2983eb3db3de86",
            "_dom_classes": [],
            "description": "",
            "_model_name": "FloatProgressModel",
            "bar_style": "success",
            "max": 28881,
            "_view_module": "@jupyter-widgets/controls",
            "_model_module_version": "1.5.0",
            "value": 28881,
            "_view_count": null,
            "_view_module_version": "1.5.0",
            "orientation": "horizontal",
            "min": 0,
            "description_tooltip": null,
            "_model_module": "@jupyter-widgets/controls",
            "layout": "IPY_MODEL_ca0d8df9569b4a8596c5c5afb9c2f316"
          }
        },
        "8d24f1c0839e4589835cc63b46cd70d2": {
          "model_module": "@jupyter-widgets/controls",
          "model_name": "HTMLModel",
          "model_module_version": "1.5.0",
          "state": {
            "_view_name": "HTMLView",
            "style": "IPY_MODEL_530bb8740ce24f878dc9ac5f08fff2fd",
            "_dom_classes": [],
            "description": "",
            "_model_name": "HTMLModel",
            "placeholder": "​",
            "_view_module": "@jupyter-widgets/controls",
            "_model_module_version": "1.5.0",
            "value": " 29696/? [00:00&lt;00:00, 678813.06it/s]",
            "_view_count": null,
            "_view_module_version": "1.5.0",
            "description_tooltip": null,
            "_model_module": "@jupyter-widgets/controls",
            "layout": "IPY_MODEL_e242b9a856e9479599eb4c54d64a2825"
          }
        },
        "95319687dbec4203a7a12ce492864a63": {
          "model_module": "@jupyter-widgets/controls",
          "model_name": "DescriptionStyleModel",
          "model_module_version": "1.5.0",
          "state": {
            "_view_name": "StyleView",
            "_model_name": "DescriptionStyleModel",
            "description_width": "",
            "_view_module": "@jupyter-widgets/base",
            "_model_module_version": "1.5.0",
            "_view_count": null,
            "_view_module_version": "1.2.0",
            "_model_module": "@jupyter-widgets/controls"
          }
        },
        "3c3d248f9f8149a5af76c8fc6413856c": {
          "model_module": "@jupyter-widgets/base",
          "model_name": "LayoutModel",
          "model_module_version": "1.2.0",
          "state": {
            "_view_name": "LayoutView",
            "grid_template_rows": null,
            "right": null,
            "justify_content": null,
            "_view_module": "@jupyter-widgets/base",
            "overflow": null,
            "_model_module_version": "1.2.0",
            "_view_count": null,
            "flex_flow": null,
            "width": null,
            "min_width": null,
            "border": null,
            "align_items": null,
            "bottom": null,
            "_model_module": "@jupyter-widgets/base",
            "top": null,
            "grid_column": null,
            "overflow_y": null,
            "overflow_x": null,
            "grid_auto_flow": null,
            "grid_area": null,
            "grid_template_columns": null,
            "flex": null,
            "_model_name": "LayoutModel",
            "justify_items": null,
            "grid_row": null,
            "max_height": null,
            "align_content": null,
            "visibility": null,
            "align_self": null,
            "height": null,
            "min_height": null,
            "padding": null,
            "grid_auto_rows": null,
            "grid_gap": null,
            "max_width": null,
            "order": null,
            "_view_module_version": "1.2.0",
            "grid_template_areas": null,
            "object_position": null,
            "object_fit": null,
            "grid_auto_columns": null,
            "margin": null,
            "display": null,
            "left": null
          }
        },
        "7c845eda5cec48878e2983eb3db3de86": {
          "model_module": "@jupyter-widgets/controls",
          "model_name": "ProgressStyleModel",
          "model_module_version": "1.5.0",
          "state": {
            "_view_name": "StyleView",
            "_model_name": "ProgressStyleModel",
            "description_width": "",
            "_view_module": "@jupyter-widgets/base",
            "_model_module_version": "1.5.0",
            "_view_count": null,
            "_view_module_version": "1.2.0",
            "bar_color": null,
            "_model_module": "@jupyter-widgets/controls"
          }
        },
        "ca0d8df9569b4a8596c5c5afb9c2f316": {
          "model_module": "@jupyter-widgets/base",
          "model_name": "LayoutModel",
          "model_module_version": "1.2.0",
          "state": {
            "_view_name": "LayoutView",
            "grid_template_rows": null,
            "right": null,
            "justify_content": null,
            "_view_module": "@jupyter-widgets/base",
            "overflow": null,
            "_model_module_version": "1.2.0",
            "_view_count": null,
            "flex_flow": null,
            "width": null,
            "min_width": null,
            "border": null,
            "align_items": null,
            "bottom": null,
            "_model_module": "@jupyter-widgets/base",
            "top": null,
            "grid_column": null,
            "overflow_y": null,
            "overflow_x": null,
            "grid_auto_flow": null,
            "grid_area": null,
            "grid_template_columns": null,
            "flex": null,
            "_model_name": "LayoutModel",
            "justify_items": null,
            "grid_row": null,
            "max_height": null,
            "align_content": null,
            "visibility": null,
            "align_self": null,
            "height": null,
            "min_height": null,
            "padding": null,
            "grid_auto_rows": null,
            "grid_gap": null,
            "max_width": null,
            "order": null,
            "_view_module_version": "1.2.0",
            "grid_template_areas": null,
            "object_position": null,
            "object_fit": null,
            "grid_auto_columns": null,
            "margin": null,
            "display": null,
            "left": null
          }
        },
        "530bb8740ce24f878dc9ac5f08fff2fd": {
          "model_module": "@jupyter-widgets/controls",
          "model_name": "DescriptionStyleModel",
          "model_module_version": "1.5.0",
          "state": {
            "_view_name": "StyleView",
            "_model_name": "DescriptionStyleModel",
            "description_width": "",
            "_view_module": "@jupyter-widgets/base",
            "_model_module_version": "1.5.0",
            "_view_count": null,
            "_view_module_version": "1.2.0",
            "_model_module": "@jupyter-widgets/controls"
          }
        },
        "e242b9a856e9479599eb4c54d64a2825": {
          "model_module": "@jupyter-widgets/base",
          "model_name": "LayoutModel",
          "model_module_version": "1.2.0",
          "state": {
            "_view_name": "LayoutView",
            "grid_template_rows": null,
            "right": null,
            "justify_content": null,
            "_view_module": "@jupyter-widgets/base",
            "overflow": null,
            "_model_module_version": "1.2.0",
            "_view_count": null,
            "flex_flow": null,
            "width": null,
            "min_width": null,
            "border": null,
            "align_items": null,
            "bottom": null,
            "_model_module": "@jupyter-widgets/base",
            "top": null,
            "grid_column": null,
            "overflow_y": null,
            "overflow_x": null,
            "grid_auto_flow": null,
            "grid_area": null,
            "grid_template_columns": null,
            "flex": null,
            "_model_name": "LayoutModel",
            "justify_items": null,
            "grid_row": null,
            "max_height": null,
            "align_content": null,
            "visibility": null,
            "align_self": null,
            "height": null,
            "min_height": null,
            "padding": null,
            "grid_auto_rows": null,
            "grid_gap": null,
            "max_width": null,
            "order": null,
            "_view_module_version": "1.2.0",
            "grid_template_areas": null,
            "object_position": null,
            "object_fit": null,
            "grid_auto_columns": null,
            "margin": null,
            "display": null,
            "left": null
          }
        },
        "06eaa97838884ae9a0d5904ca9d3edd2": {
          "model_module": "@jupyter-widgets/controls",
          "model_name": "HBoxModel",
          "model_module_version": "1.5.0",
          "state": {
            "_view_name": "HBoxView",
            "_dom_classes": [],
            "_model_name": "HBoxModel",
            "_view_module": "@jupyter-widgets/controls",
            "_model_module_version": "1.5.0",
            "_view_count": null,
            "_view_module_version": "1.5.0",
            "box_style": "",
            "layout": "IPY_MODEL_58b42fc4c2f24a8f894aac7a4392ad12",
            "_model_module": "@jupyter-widgets/controls",
            "children": [
              "IPY_MODEL_d85a889385b7403f885a70b7ef7c7b65",
              "IPY_MODEL_357c56cf52fa4f48b2eec4f20d0af546",
              "IPY_MODEL_2bae17dde93f4ee683bb172e2bd490aa"
            ]
          }
        },
        "58b42fc4c2f24a8f894aac7a4392ad12": {
          "model_module": "@jupyter-widgets/base",
          "model_name": "LayoutModel",
          "model_module_version": "1.2.0",
          "state": {
            "_view_name": "LayoutView",
            "grid_template_rows": null,
            "right": null,
            "justify_content": null,
            "_view_module": "@jupyter-widgets/base",
            "overflow": null,
            "_model_module_version": "1.2.0",
            "_view_count": null,
            "flex_flow": null,
            "width": null,
            "min_width": null,
            "border": null,
            "align_items": null,
            "bottom": null,
            "_model_module": "@jupyter-widgets/base",
            "top": null,
            "grid_column": null,
            "overflow_y": null,
            "overflow_x": null,
            "grid_auto_flow": null,
            "grid_area": null,
            "grid_template_columns": null,
            "flex": null,
            "_model_name": "LayoutModel",
            "justify_items": null,
            "grid_row": null,
            "max_height": null,
            "align_content": null,
            "visibility": null,
            "align_self": null,
            "height": null,
            "min_height": null,
            "padding": null,
            "grid_auto_rows": null,
            "grid_gap": null,
            "max_width": null,
            "order": null,
            "_view_module_version": "1.2.0",
            "grid_template_areas": null,
            "object_position": null,
            "object_fit": null,
            "grid_auto_columns": null,
            "margin": null,
            "display": null,
            "left": null
          }
        },
        "d85a889385b7403f885a70b7ef7c7b65": {
          "model_module": "@jupyter-widgets/controls",
          "model_name": "HTMLModel",
          "model_module_version": "1.5.0",
          "state": {
            "_view_name": "HTMLView",
            "style": "IPY_MODEL_d619b066d9464062b9bc5b2389009668",
            "_dom_classes": [],
            "description": "",
            "_model_name": "HTMLModel",
            "placeholder": "​",
            "_view_module": "@jupyter-widgets/controls",
            "_model_module_version": "1.5.0",
            "value": "",
            "_view_count": null,
            "_view_module_version": "1.5.0",
            "description_tooltip": null,
            "_model_module": "@jupyter-widgets/controls",
            "layout": "IPY_MODEL_1684ca64558c477ebfe3403bead30149"
          }
        },
        "357c56cf52fa4f48b2eec4f20d0af546": {
          "model_module": "@jupyter-widgets/controls",
          "model_name": "FloatProgressModel",
          "model_module_version": "1.5.0",
          "state": {
            "_view_name": "ProgressView",
            "style": "IPY_MODEL_2f407cb793e94505b25c80a4593dbbb1",
            "_dom_classes": [],
            "description": "",
            "_model_name": "FloatProgressModel",
            "bar_style": "success",
            "max": 1648877,
            "_view_module": "@jupyter-widgets/controls",
            "_model_module_version": "1.5.0",
            "value": 1648877,
            "_view_count": null,
            "_view_module_version": "1.5.0",
            "orientation": "horizontal",
            "min": 0,
            "description_tooltip": null,
            "_model_module": "@jupyter-widgets/controls",
            "layout": "IPY_MODEL_20b42923443e4fbab557d4c6df6c4b26"
          }
        },
        "2bae17dde93f4ee683bb172e2bd490aa": {
          "model_module": "@jupyter-widgets/controls",
          "model_name": "HTMLModel",
          "model_module_version": "1.5.0",
          "state": {
            "_view_name": "HTMLView",
            "style": "IPY_MODEL_f877e79290c249bb80b1ae5fb72fcf02",
            "_dom_classes": [],
            "description": "",
            "_model_name": "HTMLModel",
            "placeholder": "​",
            "_view_module": "@jupyter-widgets/controls",
            "_model_module_version": "1.5.0",
            "value": " 1649664/? [00:00&lt;00:00, 16537819.89it/s]",
            "_view_count": null,
            "_view_module_version": "1.5.0",
            "description_tooltip": null,
            "_model_module": "@jupyter-widgets/controls",
            "layout": "IPY_MODEL_4a286aa077b741fc87615bec83766525"
          }
        },
        "d619b066d9464062b9bc5b2389009668": {
          "model_module": "@jupyter-widgets/controls",
          "model_name": "DescriptionStyleModel",
          "model_module_version": "1.5.0",
          "state": {
            "_view_name": "StyleView",
            "_model_name": "DescriptionStyleModel",
            "description_width": "",
            "_view_module": "@jupyter-widgets/base",
            "_model_module_version": "1.5.0",
            "_view_count": null,
            "_view_module_version": "1.2.0",
            "_model_module": "@jupyter-widgets/controls"
          }
        },
        "1684ca64558c477ebfe3403bead30149": {
          "model_module": "@jupyter-widgets/base",
          "model_name": "LayoutModel",
          "model_module_version": "1.2.0",
          "state": {
            "_view_name": "LayoutView",
            "grid_template_rows": null,
            "right": null,
            "justify_content": null,
            "_view_module": "@jupyter-widgets/base",
            "overflow": null,
            "_model_module_version": "1.2.0",
            "_view_count": null,
            "flex_flow": null,
            "width": null,
            "min_width": null,
            "border": null,
            "align_items": null,
            "bottom": null,
            "_model_module": "@jupyter-widgets/base",
            "top": null,
            "grid_column": null,
            "overflow_y": null,
            "overflow_x": null,
            "grid_auto_flow": null,
            "grid_area": null,
            "grid_template_columns": null,
            "flex": null,
            "_model_name": "LayoutModel",
            "justify_items": null,
            "grid_row": null,
            "max_height": null,
            "align_content": null,
            "visibility": null,
            "align_self": null,
            "height": null,
            "min_height": null,
            "padding": null,
            "grid_auto_rows": null,
            "grid_gap": null,
            "max_width": null,
            "order": null,
            "_view_module_version": "1.2.0",
            "grid_template_areas": null,
            "object_position": null,
            "object_fit": null,
            "grid_auto_columns": null,
            "margin": null,
            "display": null,
            "left": null
          }
        },
        "2f407cb793e94505b25c80a4593dbbb1": {
          "model_module": "@jupyter-widgets/controls",
          "model_name": "ProgressStyleModel",
          "model_module_version": "1.5.0",
          "state": {
            "_view_name": "StyleView",
            "_model_name": "ProgressStyleModel",
            "description_width": "",
            "_view_module": "@jupyter-widgets/base",
            "_model_module_version": "1.5.0",
            "_view_count": null,
            "_view_module_version": "1.2.0",
            "bar_color": null,
            "_model_module": "@jupyter-widgets/controls"
          }
        },
        "20b42923443e4fbab557d4c6df6c4b26": {
          "model_module": "@jupyter-widgets/base",
          "model_name": "LayoutModel",
          "model_module_version": "1.2.0",
          "state": {
            "_view_name": "LayoutView",
            "grid_template_rows": null,
            "right": null,
            "justify_content": null,
            "_view_module": "@jupyter-widgets/base",
            "overflow": null,
            "_model_module_version": "1.2.0",
            "_view_count": null,
            "flex_flow": null,
            "width": null,
            "min_width": null,
            "border": null,
            "align_items": null,
            "bottom": null,
            "_model_module": "@jupyter-widgets/base",
            "top": null,
            "grid_column": null,
            "overflow_y": null,
            "overflow_x": null,
            "grid_auto_flow": null,
            "grid_area": null,
            "grid_template_columns": null,
            "flex": null,
            "_model_name": "LayoutModel",
            "justify_items": null,
            "grid_row": null,
            "max_height": null,
            "align_content": null,
            "visibility": null,
            "align_self": null,
            "height": null,
            "min_height": null,
            "padding": null,
            "grid_auto_rows": null,
            "grid_gap": null,
            "max_width": null,
            "order": null,
            "_view_module_version": "1.2.0",
            "grid_template_areas": null,
            "object_position": null,
            "object_fit": null,
            "grid_auto_columns": null,
            "margin": null,
            "display": null,
            "left": null
          }
        },
        "f877e79290c249bb80b1ae5fb72fcf02": {
          "model_module": "@jupyter-widgets/controls",
          "model_name": "DescriptionStyleModel",
          "model_module_version": "1.5.0",
          "state": {
            "_view_name": "StyleView",
            "_model_name": "DescriptionStyleModel",
            "description_width": "",
            "_view_module": "@jupyter-widgets/base",
            "_model_module_version": "1.5.0",
            "_view_count": null,
            "_view_module_version": "1.2.0",
            "_model_module": "@jupyter-widgets/controls"
          }
        },
        "4a286aa077b741fc87615bec83766525": {
          "model_module": "@jupyter-widgets/base",
          "model_name": "LayoutModel",
          "model_module_version": "1.2.0",
          "state": {
            "_view_name": "LayoutView",
            "grid_template_rows": null,
            "right": null,
            "justify_content": null,
            "_view_module": "@jupyter-widgets/base",
            "overflow": null,
            "_model_module_version": "1.2.0",
            "_view_count": null,
            "flex_flow": null,
            "width": null,
            "min_width": null,
            "border": null,
            "align_items": null,
            "bottom": null,
            "_model_module": "@jupyter-widgets/base",
            "top": null,
            "grid_column": null,
            "overflow_y": null,
            "overflow_x": null,
            "grid_auto_flow": null,
            "grid_area": null,
            "grid_template_columns": null,
            "flex": null,
            "_model_name": "LayoutModel",
            "justify_items": null,
            "grid_row": null,
            "max_height": null,
            "align_content": null,
            "visibility": null,
            "align_self": null,
            "height": null,
            "min_height": null,
            "padding": null,
            "grid_auto_rows": null,
            "grid_gap": null,
            "max_width": null,
            "order": null,
            "_view_module_version": "1.2.0",
            "grid_template_areas": null,
            "object_position": null,
            "object_fit": null,
            "grid_auto_columns": null,
            "margin": null,
            "display": null,
            "left": null
          }
        },
        "d88f0dc4057b42a786a341915ac21fa9": {
          "model_module": "@jupyter-widgets/controls",
          "model_name": "HBoxModel",
          "model_module_version": "1.5.0",
          "state": {
            "_view_name": "HBoxView",
            "_dom_classes": [],
            "_model_name": "HBoxModel",
            "_view_module": "@jupyter-widgets/controls",
            "_model_module_version": "1.5.0",
            "_view_count": null,
            "_view_module_version": "1.5.0",
            "box_style": "",
            "layout": "IPY_MODEL_14919da5aacd4913a639eb7223b12bdb",
            "_model_module": "@jupyter-widgets/controls",
            "children": [
              "IPY_MODEL_c6bd1f2883aa4b46898f975ecf88e518",
              "IPY_MODEL_a665fbf87df7477cbb534bf60d30d205",
              "IPY_MODEL_50a1f835cf514f9f978d10c262a08a2e"
            ]
          }
        },
        "14919da5aacd4913a639eb7223b12bdb": {
          "model_module": "@jupyter-widgets/base",
          "model_name": "LayoutModel",
          "model_module_version": "1.2.0",
          "state": {
            "_view_name": "LayoutView",
            "grid_template_rows": null,
            "right": null,
            "justify_content": null,
            "_view_module": "@jupyter-widgets/base",
            "overflow": null,
            "_model_module_version": "1.2.0",
            "_view_count": null,
            "flex_flow": null,
            "width": null,
            "min_width": null,
            "border": null,
            "align_items": null,
            "bottom": null,
            "_model_module": "@jupyter-widgets/base",
            "top": null,
            "grid_column": null,
            "overflow_y": null,
            "overflow_x": null,
            "grid_auto_flow": null,
            "grid_area": null,
            "grid_template_columns": null,
            "flex": null,
            "_model_name": "LayoutModel",
            "justify_items": null,
            "grid_row": null,
            "max_height": null,
            "align_content": null,
            "visibility": null,
            "align_self": null,
            "height": null,
            "min_height": null,
            "padding": null,
            "grid_auto_rows": null,
            "grid_gap": null,
            "max_width": null,
            "order": null,
            "_view_module_version": "1.2.0",
            "grid_template_areas": null,
            "object_position": null,
            "object_fit": null,
            "grid_auto_columns": null,
            "margin": null,
            "display": null,
            "left": null
          }
        },
        "c6bd1f2883aa4b46898f975ecf88e518": {
          "model_module": "@jupyter-widgets/controls",
          "model_name": "HTMLModel",
          "model_module_version": "1.5.0",
          "state": {
            "_view_name": "HTMLView",
            "style": "IPY_MODEL_f9c0cf08dd814b9bb9b7676543c59925",
            "_dom_classes": [],
            "description": "",
            "_model_name": "HTMLModel",
            "placeholder": "​",
            "_view_module": "@jupyter-widgets/controls",
            "_model_module_version": "1.5.0",
            "value": "",
            "_view_count": null,
            "_view_module_version": "1.5.0",
            "description_tooltip": null,
            "_model_module": "@jupyter-widgets/controls",
            "layout": "IPY_MODEL_db48872154434a029130317b601c66b5"
          }
        },
        "a665fbf87df7477cbb534bf60d30d205": {
          "model_module": "@jupyter-widgets/controls",
          "model_name": "FloatProgressModel",
          "model_module_version": "1.5.0",
          "state": {
            "_view_name": "ProgressView",
            "style": "IPY_MODEL_aeaf336508824eac9e15cd13caa43bab",
            "_dom_classes": [],
            "description": "",
            "_model_name": "FloatProgressModel",
            "bar_style": "success",
            "max": 4542,
            "_view_module": "@jupyter-widgets/controls",
            "_model_module_version": "1.5.0",
            "value": 4542,
            "_view_count": null,
            "_view_module_version": "1.5.0",
            "orientation": "horizontal",
            "min": 0,
            "description_tooltip": null,
            "_model_module": "@jupyter-widgets/controls",
            "layout": "IPY_MODEL_48afd0c5291640a0ba3a295e9693c7a2"
          }
        },
        "50a1f835cf514f9f978d10c262a08a2e": {
          "model_module": "@jupyter-widgets/controls",
          "model_name": "HTMLModel",
          "model_module_version": "1.5.0",
          "state": {
            "_view_name": "HTMLView",
            "style": "IPY_MODEL_d89db4d889ef434f9308b673547f98c6",
            "_dom_classes": [],
            "description": "",
            "_model_name": "HTMLModel",
            "placeholder": "​",
            "_view_module": "@jupyter-widgets/controls",
            "_model_module_version": "1.5.0",
            "value": " 5120/? [00:00&lt;00:00, 126633.19it/s]",
            "_view_count": null,
            "_view_module_version": "1.5.0",
            "description_tooltip": null,
            "_model_module": "@jupyter-widgets/controls",
            "layout": "IPY_MODEL_23779512be1c47f2bfbabe581a8190f3"
          }
        },
        "f9c0cf08dd814b9bb9b7676543c59925": {
          "model_module": "@jupyter-widgets/controls",
          "model_name": "DescriptionStyleModel",
          "model_module_version": "1.5.0",
          "state": {
            "_view_name": "StyleView",
            "_model_name": "DescriptionStyleModel",
            "description_width": "",
            "_view_module": "@jupyter-widgets/base",
            "_model_module_version": "1.5.0",
            "_view_count": null,
            "_view_module_version": "1.2.0",
            "_model_module": "@jupyter-widgets/controls"
          }
        },
        "db48872154434a029130317b601c66b5": {
          "model_module": "@jupyter-widgets/base",
          "model_name": "LayoutModel",
          "model_module_version": "1.2.0",
          "state": {
            "_view_name": "LayoutView",
            "grid_template_rows": null,
            "right": null,
            "justify_content": null,
            "_view_module": "@jupyter-widgets/base",
            "overflow": null,
            "_model_module_version": "1.2.0",
            "_view_count": null,
            "flex_flow": null,
            "width": null,
            "min_width": null,
            "border": null,
            "align_items": null,
            "bottom": null,
            "_model_module": "@jupyter-widgets/base",
            "top": null,
            "grid_column": null,
            "overflow_y": null,
            "overflow_x": null,
            "grid_auto_flow": null,
            "grid_area": null,
            "grid_template_columns": null,
            "flex": null,
            "_model_name": "LayoutModel",
            "justify_items": null,
            "grid_row": null,
            "max_height": null,
            "align_content": null,
            "visibility": null,
            "align_self": null,
            "height": null,
            "min_height": null,
            "padding": null,
            "grid_auto_rows": null,
            "grid_gap": null,
            "max_width": null,
            "order": null,
            "_view_module_version": "1.2.0",
            "grid_template_areas": null,
            "object_position": null,
            "object_fit": null,
            "grid_auto_columns": null,
            "margin": null,
            "display": null,
            "left": null
          }
        },
        "aeaf336508824eac9e15cd13caa43bab": {
          "model_module": "@jupyter-widgets/controls",
          "model_name": "ProgressStyleModel",
          "model_module_version": "1.5.0",
          "state": {
            "_view_name": "StyleView",
            "_model_name": "ProgressStyleModel",
            "description_width": "",
            "_view_module": "@jupyter-widgets/base",
            "_model_module_version": "1.5.0",
            "_view_count": null,
            "_view_module_version": "1.2.0",
            "bar_color": null,
            "_model_module": "@jupyter-widgets/controls"
          }
        },
        "48afd0c5291640a0ba3a295e9693c7a2": {
          "model_module": "@jupyter-widgets/base",
          "model_name": "LayoutModel",
          "model_module_version": "1.2.0",
          "state": {
            "_view_name": "LayoutView",
            "grid_template_rows": null,
            "right": null,
            "justify_content": null,
            "_view_module": "@jupyter-widgets/base",
            "overflow": null,
            "_model_module_version": "1.2.0",
            "_view_count": null,
            "flex_flow": null,
            "width": null,
            "min_width": null,
            "border": null,
            "align_items": null,
            "bottom": null,
            "_model_module": "@jupyter-widgets/base",
            "top": null,
            "grid_column": null,
            "overflow_y": null,
            "overflow_x": null,
            "grid_auto_flow": null,
            "grid_area": null,
            "grid_template_columns": null,
            "flex": null,
            "_model_name": "LayoutModel",
            "justify_items": null,
            "grid_row": null,
            "max_height": null,
            "align_content": null,
            "visibility": null,
            "align_self": null,
            "height": null,
            "min_height": null,
            "padding": null,
            "grid_auto_rows": null,
            "grid_gap": null,
            "max_width": null,
            "order": null,
            "_view_module_version": "1.2.0",
            "grid_template_areas": null,
            "object_position": null,
            "object_fit": null,
            "grid_auto_columns": null,
            "margin": null,
            "display": null,
            "left": null
          }
        },
        "d89db4d889ef434f9308b673547f98c6": {
          "model_module": "@jupyter-widgets/controls",
          "model_name": "DescriptionStyleModel",
          "model_module_version": "1.5.0",
          "state": {
            "_view_name": "StyleView",
            "_model_name": "DescriptionStyleModel",
            "description_width": "",
            "_view_module": "@jupyter-widgets/base",
            "_model_module_version": "1.5.0",
            "_view_count": null,
            "_view_module_version": "1.2.0",
            "_model_module": "@jupyter-widgets/controls"
          }
        },
        "23779512be1c47f2bfbabe581a8190f3": {
          "model_module": "@jupyter-widgets/base",
          "model_name": "LayoutModel",
          "model_module_version": "1.2.0",
          "state": {
            "_view_name": "LayoutView",
            "grid_template_rows": null,
            "right": null,
            "justify_content": null,
            "_view_module": "@jupyter-widgets/base",
            "overflow": null,
            "_model_module_version": "1.2.0",
            "_view_count": null,
            "flex_flow": null,
            "width": null,
            "min_width": null,
            "border": null,
            "align_items": null,
            "bottom": null,
            "_model_module": "@jupyter-widgets/base",
            "top": null,
            "grid_column": null,
            "overflow_y": null,
            "overflow_x": null,
            "grid_auto_flow": null,
            "grid_area": null,
            "grid_template_columns": null,
            "flex": null,
            "_model_name": "LayoutModel",
            "justify_items": null,
            "grid_row": null,
            "max_height": null,
            "align_content": null,
            "visibility": null,
            "align_self": null,
            "height": null,
            "min_height": null,
            "padding": null,
            "grid_auto_rows": null,
            "grid_gap": null,
            "max_width": null,
            "order": null,
            "_view_module_version": "1.2.0",
            "grid_template_areas": null,
            "object_position": null,
            "object_fit": null,
            "grid_auto_columns": null,
            "margin": null,
            "display": null,
            "left": null
          }
        }
      }
    }
  },
  "cells": [
    {
      "cell_type": "markdown",
      "metadata": {
        "id": "4NzyqehHjUlG"
      },
      "source": [
        "# ML in Cybersecurity: Task II\n",
        "\n",
        "## Team\n",
        "  * **Team name**:  *fill this in*\n",
        "  * **Members**:  *fill this in. format: name1 (email1), name2 (email2), ...*\n",
        "\n",
        "\n",
        "## Logistics\n",
        "  * **Due date**: 25th Nov. 2021, 23:59:59 (email the completed notebook including outputs to mlcysec_ws2022_staff@lists.cispa.saarland)\n",
        "  * Email the completed notebook to mlcysec_ws2022_staff@lists.cispa.saarland \n",
        "  * Complete this in the previously established **teams of 3**\n",
        "  * Feel free to use the course forum to discuss.\n",
        "  \n",
        "  \n",
        "## About this Project\n",
        "In this project, we dive into the vulnerabilities of machine learning models and the difficulties of defending against them. To this end, we ask you to implement an evasion attack (craft adversarial examples) yourselves, and defend your own model.   \n",
        "\n",
        "\n",
        "## A Note on Grading\n",
        "The total number of points in this project is 100. We further provide the number of points achievable with each excercise. You should take particular care to document and visualize your results.\n",
        "\n",
        "Whenever possible, please use tools like tables or figures to compare the different findings\n",
        "\n",
        "\n",
        " \n",
        "## Filling-in the Notebook\n",
        "You'll be submitting this very notebook that is filled-in with (all) your code and analysis. Make sure you submit one that has been previously executed in-order. (So that results/graphs are already visible upon opening it). \n",
        "\n",
        "The notebook you submit **should compile** (or should be self-contained and sufficiently commented). Check tutorial 1 on how to set up the Python3 environment.\n",
        "\n",
        "It is extremely important that you **do not** re-order the existing sections. Apart from that, the code blocks that you need to fill-in are given by:\n",
        "```\n",
        "#\n",
        "#\n",
        "# ------- Your Code -------\n",
        "#\n",
        "#\n",
        "```\n",
        "Feel free to break this into multiple-cells. It's even better if you interleave explanations and code-blocks so that the entire notebook forms a readable \"story\".\n",
        "\n",
        "\n",
        "## Code of Honor\n",
        "We encourage discussing ideas and concepts with other students to help you learn and better understand the course content. However, the work you submit and present **must be original** and demonstrate your effort in solving the presented problems. **We will not tolerate** blatantly using existing solutions (such as from the internet), improper collaboration (e.g., sharing code or experimental data between groups) and plagiarism. If the honor code is not met, no points will be awarded.\n",
        "\n",
        " \n",
        "  ---"
      ]
    },
    {
      "cell_type": "code",
      "metadata": {
        "id": "3ewNwfFvbFaR"
      },
      "source": [
        "import time \n",
        " \n",
        "import numpy as np \n",
        "import matplotlib.pyplot as plt \n",
        "\n",
        "import json \n",
        "import time \n",
        "import pickle \n",
        "import sys \n",
        "import csv \n",
        "import os \n",
        "import os.path as osp \n",
        "import shutil \n",
        "\n",
        "import pandas as pd\n",
        "\n",
        "from IPython.display import display, HTML\n",
        " \n",
        "%matplotlib inline \n",
        "plt.rcParams['figure.figsize'] = (10.0, 8.0) # set default size of plots \n",
        "plt.rcParams['image.interpolation'] = 'nearest' \n",
        "plt.rcParams['image.cmap'] = 'gray' \n",
        " \n",
        "# for auto-reloading external modules \n",
        "# see http://stackoverflow.com/questions/1907993/autoreload-of-modules-in-ipython \n",
        "%load_ext autoreload\n",
        "%autoreload 2"
      ],
      "execution_count": 1,
      "outputs": []
    },
    {
      "cell_type": "code",
      "metadata": {
        "id": "640GrzbOevr0"
      },
      "source": [
        "# Some suggestions of our libraries that might be helpful for this project\n",
        "from collections import Counter          # an even easier way to count\n",
        "from multiprocessing import Pool         # for multiprocessing\n",
        "from tqdm import tqdm                    # fancy progress bars\n",
        "\n",
        "# Load other libraries here.\n",
        "# Keep it minimal! We should be easily able to reproduce your code.\n",
        "# We only support sklearn and pytorch.\n",
        "import torchvision\n",
        "import torchvision.datasets as datasets\n",
        "import torchvision.transforms as transforms\n",
        "import torch.utils.data as data\n",
        "\n",
        "# We preload pytorch as an example\n",
        "import torch\n",
        "import torch.nn as nn\n",
        "import torch.nn.functional as F\n",
        "import torch.optim as optim\n",
        "from torch.utils.data import DataLoader, Dataset, TensorDataset\n"
      ],
      "execution_count": 2,
      "outputs": []
    },
    {
      "cell_type": "code",
      "metadata": {
        "id": "BKunz5kAzSKB"
      },
      "source": [
        "log_interval = 10\n",
        "random_seed = 1\n",
        "torch.backends.cudnn.enabled = False\n",
        "torch.manual_seed(random_seed)\n",
        "rndm_state = 42"
      ],
      "execution_count": 3,
      "outputs": []
    },
    {
      "cell_type": "code",
      "metadata": {
        "id": "GJZPEAWYMhYB",
        "colab": {
          "base_uri": "https://localhost:8080/"
        },
        "outputId": "b553f06d-0b7e-4de3-bbbc-4c5f7fdd74b7"
      },
      "source": [
        "compute_mode = 'gpu'\n",
        "\n",
        "if compute_mode == 'cpu':\n",
        "    device = torch.device('cpu')\n",
        "elif compute_mode == 'gpu':\n",
        "    # If you are using pytorch on the GPU cluster, you have to manually specify which GPU device to use\n",
        "    # It is extremely important that you *do not* spawn multi-GPU jobs.\n",
        "    os.environ[\"CUDA_VISIBLE_DEVICES\"] = '0'    # Set device ID here\n",
        "    device = torch.device('cuda')\n",
        "else:\n",
        "    raise ValueError('Unrecognized compute mode')\n",
        "\n",
        "print(device)"
      ],
      "execution_count": 4,
      "outputs": [
        {
          "output_type": "stream",
          "name": "stdout",
          "text": [
            "cuda\n"
          ]
        }
      ]
    },
    {
      "cell_type": "markdown",
      "metadata": {
        "id": "nxi-lLD0mKHD"
      },
      "source": [
        "#### Helpers\n",
        "\n",
        "In case you choose to have some methods you plan to reuse during the notebook, define them here. This will avoid clutter and keep rest of the notebook succinct."
      ]
    },
    {
      "cell_type": "code",
      "metadata": {
        "id": "VBbigqdEmKd8"
      },
      "source": [
        "#\n",
        "#\n",
        "# ------- Your Code -------\n",
        "#\n",
        "#"
      ],
      "execution_count": null,
      "outputs": []
    },
    {
      "cell_type": "markdown",
      "metadata": {
        "id": "n1pcmKkyjT7y"
      },
      "source": [
        "# 1. Attacking an ML-model (30 points) \n",
        "\n",
        "In this section, we implement an attack ourselves. First, however, you need a model you can attack. Feel free to choose the DNN/ConvNN from task 1.\n",
        "\n"
      ]
    },
    {
      "cell_type": "markdown",
      "metadata": {
        "id": "QaJv_d_Dp7OM"
      },
      "source": [
        "## 1.1: Setting up the model and data (4 Points)\n",
        "\n",
        "Load the MNIST data, as done in task 1. \n",
        "\n",
        "Re-use the model from task 1 here and train it until it achieves reasonable accuracy (>92%).\n",
        "\n",
        "If you have the saved checkpoint from task 1, you can load it directly. But please compute here the test accuracy using this checkpoint.  \n",
        "\n",
        "**Hint:** In order to save computation time for the rest of exercise, you might consider having a relatively small model here.\n",
        "\n",
        "**Hint**: You might want to save the trained model to save time later."
      ]
    },
    {
      "cell_type": "code",
      "metadata": {
        "id": "c688qdGtO1v-"
      },
      "source": [
        "#\n",
        "#\n",
        "# ------- Your Code -------\n",
        "# Feel free to change this part depending on whether you would train a model or directly load a checkpoint \n",
        "#\n",
        "#\n",
        "\n",
        "# (1)load data \n",
        "# (2)define model\n",
        "# (3)define loss, optimizer \n",
        "# (4)train (You can re-use the trained model from project1)\n",
        "# (5)evaluate\n",
        "print('Epoch %d, Train acc: %f, Test acc: %f' % (epoch, train_acc, test_acc))"
      ],
      "execution_count": null,
      "outputs": []
    },
    {
      "cell_type": "code",
      "metadata": {
        "colab": {
          "base_uri": "https://localhost:8080/",
          "height": 440,
          "referenced_widgets": [
            "a95ac6823908497289e2e6d3c59691cb",
            "2a00bfc43b6e403cb774f7c1f1dc4212",
            "2bba129e2c354027a951a9651af60039",
            "1cfead8703bd411ea238ecd46293b744",
            "22e331ab459446efbcd285c1b0f0aa9a",
            "88bfe0c9867646bea6ae64b193eb18c3",
            "6c5b1abce7ab4e2cad448857d708634b",
            "1a073a647e02489a8f577127555ef597",
            "ce6bc4bf2084467caaaa8da7cd3293bc",
            "8e0f70f144aa4d098af0e9563deae310",
            "26da15ab2e764eb98ccf2f49c7f4afb3",
            "8b2315da803e49eebddf6e0a07d3dcff",
            "b760f0f113104a59a20ac706d9c92fe0",
            "7410b7be72634544b4e870db52fa91bc",
            "70ef44397b374ee09135c3e3625c3fb9",
            "8d24f1c0839e4589835cc63b46cd70d2",
            "95319687dbec4203a7a12ce492864a63",
            "3c3d248f9f8149a5af76c8fc6413856c",
            "7c845eda5cec48878e2983eb3db3de86",
            "ca0d8df9569b4a8596c5c5afb9c2f316",
            "530bb8740ce24f878dc9ac5f08fff2fd",
            "e242b9a856e9479599eb4c54d64a2825",
            "06eaa97838884ae9a0d5904ca9d3edd2",
            "58b42fc4c2f24a8f894aac7a4392ad12",
            "d85a889385b7403f885a70b7ef7c7b65",
            "357c56cf52fa4f48b2eec4f20d0af546",
            "2bae17dde93f4ee683bb172e2bd490aa",
            "d619b066d9464062b9bc5b2389009668",
            "1684ca64558c477ebfe3403bead30149",
            "2f407cb793e94505b25c80a4593dbbb1",
            "20b42923443e4fbab557d4c6df6c4b26",
            "f877e79290c249bb80b1ae5fb72fcf02",
            "4a286aa077b741fc87615bec83766525",
            "d88f0dc4057b42a786a341915ac21fa9",
            "14919da5aacd4913a639eb7223b12bdb",
            "c6bd1f2883aa4b46898f975ecf88e518",
            "a665fbf87df7477cbb534bf60d30d205",
            "50a1f835cf514f9f978d10c262a08a2e",
            "f9c0cf08dd814b9bb9b7676543c59925",
            "db48872154434a029130317b601c66b5",
            "aeaf336508824eac9e15cd13caa43bab",
            "48afd0c5291640a0ba3a295e9693c7a2",
            "d89db4d889ef434f9308b673547f98c6",
            "23779512be1c47f2bfbabe581a8190f3"
          ]
        },
        "id": "3dFANsT6GgWo",
        "outputId": "4ef13d2f-d18d-4d3d-f3df-2b0f8b81b919"
      },
      "source": [
        "# (1) Load test data\n",
        "batch_size = 2000\n",
        "root = './data'\n",
        "if not os.path.exists(root):\n",
        "    os.mkdir(root)\n",
        "trans = transforms.Compose([transforms.ToTensor(), transforms.Normalize((0.5,), (1.0,))])\n",
        "\n",
        "#trans = transforms.Compose([transforms.ToTensor(), transforms.Compose([transforms.ToTensor()]) ])\n",
        "\n",
        "\n",
        "# if not exist, download mnist dataset\n",
        "test_dataset = torchvision.datasets.MNIST(root=root, train=False, transform=trans, download=True) #this\n",
        "test_loader = torch.utils.data.DataLoader(dataset=test_dataset, batch_size=batch_size, shuffle=False)\n",
        "\n",
        "\n",
        "print(len(test_loader.dataset))"
      ],
      "execution_count": 5,
      "outputs": [
        {
          "output_type": "stream",
          "name": "stdout",
          "text": [
            "Downloading http://yann.lecun.com/exdb/mnist/train-images-idx3-ubyte.gz\n",
            "Downloading http://yann.lecun.com/exdb/mnist/train-images-idx3-ubyte.gz to ./data/MNIST/raw/train-images-idx3-ubyte.gz\n"
          ]
        },
        {
          "output_type": "display_data",
          "data": {
            "application/vnd.jupyter.widget-view+json": {
              "model_id": "a95ac6823908497289e2e6d3c59691cb",
              "version_minor": 0,
              "version_major": 2
            },
            "text/plain": [
              "  0%|          | 0/9912422 [00:00<?, ?it/s]"
            ]
          },
          "metadata": {}
        },
        {
          "output_type": "stream",
          "name": "stdout",
          "text": [
            "Extracting ./data/MNIST/raw/train-images-idx3-ubyte.gz to ./data/MNIST/raw\n",
            "\n",
            "Downloading http://yann.lecun.com/exdb/mnist/train-labels-idx1-ubyte.gz\n",
            "Downloading http://yann.lecun.com/exdb/mnist/train-labels-idx1-ubyte.gz to ./data/MNIST/raw/train-labels-idx1-ubyte.gz\n"
          ]
        },
        {
          "output_type": "display_data",
          "data": {
            "application/vnd.jupyter.widget-view+json": {
              "model_id": "8b2315da803e49eebddf6e0a07d3dcff",
              "version_minor": 0,
              "version_major": 2
            },
            "text/plain": [
              "  0%|          | 0/28881 [00:00<?, ?it/s]"
            ]
          },
          "metadata": {}
        },
        {
          "output_type": "stream",
          "name": "stdout",
          "text": [
            "Extracting ./data/MNIST/raw/train-labels-idx1-ubyte.gz to ./data/MNIST/raw\n",
            "\n",
            "Downloading http://yann.lecun.com/exdb/mnist/t10k-images-idx3-ubyte.gz\n",
            "Downloading http://yann.lecun.com/exdb/mnist/t10k-images-idx3-ubyte.gz to ./data/MNIST/raw/t10k-images-idx3-ubyte.gz\n"
          ]
        },
        {
          "output_type": "display_data",
          "data": {
            "application/vnd.jupyter.widget-view+json": {
              "model_id": "06eaa97838884ae9a0d5904ca9d3edd2",
              "version_minor": 0,
              "version_major": 2
            },
            "text/plain": [
              "  0%|          | 0/1648877 [00:00<?, ?it/s]"
            ]
          },
          "metadata": {}
        },
        {
          "output_type": "stream",
          "name": "stdout",
          "text": [
            "Extracting ./data/MNIST/raw/t10k-images-idx3-ubyte.gz to ./data/MNIST/raw\n",
            "\n",
            "Downloading http://yann.lecun.com/exdb/mnist/t10k-labels-idx1-ubyte.gz\n",
            "Downloading http://yann.lecun.com/exdb/mnist/t10k-labels-idx1-ubyte.gz to ./data/MNIST/raw/t10k-labels-idx1-ubyte.gz\n"
          ]
        },
        {
          "output_type": "display_data",
          "data": {
            "application/vnd.jupyter.widget-view+json": {
              "model_id": "d88f0dc4057b42a786a341915ac21fa9",
              "version_minor": 0,
              "version_major": 2
            },
            "text/plain": [
              "  0%|          | 0/4542 [00:00<?, ?it/s]"
            ]
          },
          "metadata": {}
        },
        {
          "output_type": "stream",
          "name": "stdout",
          "text": [
            "Extracting ./data/MNIST/raw/t10k-labels-idx1-ubyte.gz to ./data/MNIST/raw\n",
            "\n",
            "10000\n"
          ]
        }
      ]
    },
    {
      "cell_type": "code",
      "metadata": {
        "id": "zKiWh6zHs97J"
      },
      "source": [
        "# (2) Define Model\n",
        "\n",
        "use_cuda=True\n",
        "\n",
        "# LeNet Model definition\n",
        "class Net(nn.Module):\n",
        "    def __init__(self, input_size, hidden_layers, num_classes):\n",
        "        super(Net, self).__init__()\n",
        "        self.layers = []\n",
        "        self.layers.append(nn.Conv2d(input_size,hidden_layers[0],5))\n",
        "        self.layers.append(nn.ReLU())\n",
        "        self.layers.append(nn.MaxPool2d(stride = 1, kernel_size = 2))\n",
        "        self.layers.append(nn.Dropout(0.5))\n",
        "        self.layers.append(nn.Conv2d(hidden_layers[0],hidden_layers[1],5))\n",
        "        self.layers.append(nn.ReLU())\n",
        "        self.layers.append(nn.MaxPool2d(kernel_size = 2, stride = 1))\n",
        "        self.layers.append(nn.Dropout(0.5))\n",
        "        #self.layers.append(nn.Linear(hidden_layers[1],num_classes))\n",
        "        self.layers = nn.Sequential(*self.layers)\n",
        "        #self.f = nn.flatten()\n",
        "        self.fc = nn.Sequential(nn.Linear(46656,num_classes))\n",
        "        # self.fc2 = nn.Sequential(nn.Softmax())\n",
        "        self.fullnn = [self.layers,self.fc]\n",
        "\n",
        "    def forward(self, x):\n",
        "     \n",
        "        x = self.layers(x)\n",
        "        x = x.view(x.size(0), -1)\n",
        "        out1 = (self.fc(x))\n",
        "      \n",
        "        return out1"
      ],
      "execution_count": 6,
      "outputs": []
    },
    {
      "cell_type": "code",
      "metadata": {
        "colab": {
          "base_uri": "https://localhost:8080/"
        },
        "id": "CCvMKxsJLVUT",
        "outputId": "a0de111c-3a6b-45e3-affe-5715e45b93e3"
      },
      "source": [
        "# (4) Load model\n",
        "\n",
        "pretrained_model =\"/content/best_modelyes.ckpt\"\n",
        "\n",
        "# Define what device we are using\n",
        "#print(\"CUDA Available: \",torch.cuda.is_available())\n",
        "#device = torch.device(\"cuda\" if (use_cuda and torch.cuda.is_available()) else \"cpu\")\n",
        "\n",
        "# Initialize the network\n",
        "input_size =  1\n",
        "hidden_layers = [20,144]\n",
        "num_classes = 10\n",
        "model = Net(input_size, hidden_layers, num_classes).to(device)\n",
        "\n",
        "# Load the pretrained model\n",
        "model.load_state_dict(torch.load(pretrained_model, map_location='cpu'))\n",
        "\n",
        "# Set the model in evaluation mode. In this case this is for the Dropout layers\n",
        "model.eval()"
      ],
      "execution_count": 7,
      "outputs": [
        {
          "output_type": "execute_result",
          "data": {
            "text/plain": [
              "Net(\n",
              "  (layers): Sequential(\n",
              "    (0): Conv2d(1, 20, kernel_size=(5, 5), stride=(1, 1))\n",
              "    (1): ReLU()\n",
              "    (2): MaxPool2d(kernel_size=2, stride=1, padding=0, dilation=1, ceil_mode=False)\n",
              "    (3): Dropout(p=0.5, inplace=False)\n",
              "    (4): Conv2d(20, 144, kernel_size=(5, 5), stride=(1, 1))\n",
              "    (5): ReLU()\n",
              "    (6): MaxPool2d(kernel_size=2, stride=1, padding=0, dilation=1, ceil_mode=False)\n",
              "    (7): Dropout(p=0.5, inplace=False)\n",
              "  )\n",
              "  (fc): Sequential(\n",
              "    (0): Linear(in_features=46656, out_features=10, bias=True)\n",
              "  )\n",
              ")"
            ]
          },
          "metadata": {},
          "execution_count": 7
        }
      ]
    },
    {
      "cell_type": "code",
      "metadata": {
        "id": "bzJP_WGrvHtR"
      },
      "source": [
        "def test_or(test_loader_nn,model):\n",
        "   original = []\n",
        "   original_img = []\n",
        "   with torch.no_grad():\n",
        "      correct = 0\n",
        "      total = 0\n",
        "      for i, (images, labels) in enumerate(test_loader_nn):\n",
        "          \n",
        "          images = images.to(device)\n",
        "         \n",
        "          labels = labels.to(device)\n",
        "          outputs = model(images)\n",
        "          _, predicted = torch.max(outputs.data, 1)\n",
        "          total += labels.size(0)\n",
        "          correct += (predicted == labels).sum().item()\n",
        "          \n",
        "          for j in range(len(images)):\n",
        "            #print(predicted[j])\n",
        "            original.append((labels[j].item(), predicted[j].item()))\n",
        "            original_img.append(images[j].cpu().detach().numpy()  )\n",
        "          \n",
        "          # if total == 1000:\n",
        "          #     break\n",
        "      acc = 100 * correct / total\n",
        "      print\n",
        "      print('Accuracy of the network on the {} test images: {} %'.format(total, acc))\n",
        "   return test_loader_nn,original, original_img, acc"
      ],
      "execution_count": 8,
      "outputs": []
    },
    {
      "cell_type": "code",
      "metadata": {
        "colab": {
          "base_uri": "https://localhost:8080/"
        },
        "id": "huh4UTa6uXuj",
        "outputId": "7c1b1017-5bfb-4198-d56f-7d7ff5bc5561"
      },
      "source": [
        "# (5) Evaluate model\n",
        "\n",
        "\n",
        "test_loader,original, or_image, test_acc = test_or(test_loader,model)\n"
      ],
      "execution_count": 9,
      "outputs": [
        {
          "output_type": "stream",
          "name": "stdout",
          "text": [
            "Accuracy of the network on the 10000 test images: 98.63 %\n"
          ]
        }
      ]
    },
    {
      "cell_type": "markdown",
      "metadata": {
        "id": "DEQrdyLHsUIu"
      },
      "source": [
        "## 1.2: Implementing the FGSM attack (7 Points)\n",
        "\n",
        "We now want to attack the model trained in the previous step. We will start with the FGSM attack as a simple example. \n",
        "\n",
        "Please implement the FGSM attack mentioned in the lecture. \n",
        "\n",
        "More details: https://arxiv.org/pdf/1412.6572.pdf\n"
      ]
    },
    {
      "cell_type": "code",
      "metadata": {
        "id": "gcVZnUNbRKOz"
      },
      "source": [
        "#\n",
        "#\n",
        "# ------- Your Code -------\n",
        "#\n",
        "#\n",
        "\n",
        "# FGSM attack code\n",
        "def fgsm_attack(image, epsilon, data_grad):\n",
        "    # Collect the element-wise sign of the data gradient\n",
        "    sign_data_grad = data_grad.sign()\n",
        "    # Create the perturbed image by adjusting each pixel of the input image\n",
        "    perturbed_image = image + epsilon*sign_data_grad\n",
        "    # Adding clipping to maintain [0,1] range\n",
        "    perturbed_image = torch.clamp(perturbed_image, 0, 1) #?????\n",
        "    # Return the perturbed image\n",
        "    return perturbed_image"
      ],
      "execution_count": 62,
      "outputs": []
    },
    {
      "cell_type": "markdown",
      "metadata": {
        "id": "RNpI3oUoO1wE"
      },
      "source": [
        "## 1.3: Adversarial sample set (7 Points)\n",
        "\n",
        "* Please generate a dataset containing at least 1,000 adversarial examples using FGSM.\n",
        "\n",
        "* Please vary the perturbation budget (3 variants) and generate 1,000 adversarial examples for each. \n",
        "    * **Hint**: you can choose epsilons within, e.g., = [.05, .1, .15, .2, .25, .3],  using MNIST pixel values in the interval       [0, 1]\n",
        "\n",
        "* Compute the accuracy of each attack set. "
      ]
    },
    {
      "cell_type": "code",
      "metadata": {
        "id": "6vxdJyECxcNK"
      },
      "source": [
        "def test( model, device, test_loader, epsilon, dataset_size):\n",
        "\n",
        "    correct = 0\n",
        "    wrong = 0\n",
        "    adv_examples = []\n",
        "    total = 0\n",
        "    \n",
        "    for i, (data, target) in enumerate(test_loader):\n",
        "\n",
        "        data, target = data.to(device), target.to(device)\n",
        "        data.requires_grad = True\n",
        "\n",
        "        total += target.size(0)\n",
        "\n",
        "        # Forward pass\n",
        "        output = model(data)\n",
        "        init_pred = output.max(1, keepdim=True)[1]\n",
        "\n",
        "        # Don't attack if the initial prediction is wrong\n",
        "        for j in range(len(data)):\n",
        "          if init_pred[j].item() != target[j].item():\n",
        "            continue\n",
        "     \n",
        "        # Calculate the loss\n",
        "        loss = F.nll_loss(output, target)\n",
        "\n",
        "        # Zero all existing gradients\n",
        "        model.zero_grad()\n",
        "\n",
        "        # Calculate gradients of model in backward pass\n",
        "        loss.backward()\n",
        "       \n",
        "        # FGSM Attack\n",
        "        data_grad = data.grad.data\n",
        "        #plt.plot(data.squeeze().detach().cpu().numpy()  )\n",
        "        #plt.show()\n",
        "        perturbed_data = fgsm_attack(data, epsilon, data_grad)\n",
        "        \n",
        "        output = model(perturbed_data)\n",
        "\n",
        "        # New prediction\n",
        "        final_pred = output.max(1, keepdim=True)[1]     \n",
        "        \n",
        "        for k in range(len(data)):\n",
        "          if final_pred[k].item() == target[k].item():\n",
        "            correct += 1\n",
        "          else:\n",
        "            wrong += 1\n",
        "            if len(adv_examples) < dataset_size:\n",
        "               adv_ex = perturbed_data.squeeze().detach().cpu().numpy()\n",
        "               adv_examples.append( (init_pred[k].item(), final_pred[k].item(), adv_ex[k]) )\n",
        "    \n",
        "    final_acc = 100*correct/total\n",
        "    print(\"Epsilon: {}\\tTest Accuracy = {} / {} = {}\".format(epsilon, correct, total, final_acc))\n",
        "   \n",
        "    return final_acc, adv_examples\n"
      ],
      "execution_count": 63,
      "outputs": []
    },
    {
      "cell_type": "code",
      "metadata": {
        "id": "EvYpo9p2O1wF",
        "colab": {
          "base_uri": "https://localhost:8080/"
        },
        "outputId": "6be745b2-cec6-4923-8b47-4fe7fb99890f"
      },
      "source": [
        "#\n",
        "#\n",
        "# ------- Your Code -------\n",
        "#\n",
        "#\n",
        "import timeit\n",
        "\n",
        "epsilons = [.05,.15, .3]\n",
        "dataset_size= 20\n",
        "\n",
        "accuracies = []\n",
        "adv_samples = []\n",
        "\n",
        "# Run test for each epsilon\n",
        "for eps in epsilons:\n",
        "    start = timeit.default_timer()\n",
        "    acc, ex = test(model, device, test_loader, eps, dataset_size)\n",
        "    stop = timeit.default_timer()\n",
        "    print('Time: ', stop - start) \n",
        "    accuracies.append(acc)\n",
        "    adv_samples.append(ex)\n",
        "\n"
      ],
      "execution_count": 64,
      "outputs": [
        {
          "output_type": "stream",
          "name": "stdout",
          "text": [
            "Epsilon: 0.05\tTest Accuracy = 7525 / 10000 = 75.25\n",
            "Time:  11.840313329999844\n",
            "Epsilon: 0.15\tTest Accuracy = 4571 / 10000 = 45.71\n",
            "Time:  11.583235525999953\n",
            "Epsilon: 0.3\tTest Accuracy = 976 / 10000 = 9.76\n",
            "Time:  11.570318932000191\n"
          ]
        }
      ]
    },
    {
      "cell_type": "code",
      "metadata": {
        "colab": {
          "base_uri": "https://localhost:8080/",
          "height": 295
        },
        "id": "Zh9hBlde5XVj",
        "outputId": "1bb0e49e-64a3-4dee-f155-a9ce709a94b6"
      },
      "source": [
        "plt.plot(epsilons, accuracies)\n",
        "plt.title(\"Accuracy vs Epsilon\")\n",
        "plt.xlabel(\"Epsilon\")\n",
        "plt.ylabel(\"Accuracy\")\n",
        "plt.show()"
      ],
      "execution_count": 65,
      "outputs": [
        {
          "output_type": "display_data",
          "data": {
            "image/png": "[encoded data removed]",
            "text/plain": [
              "<Figure size 432x288 with 1 Axes>"
            ]
          },
          "metadata": {
            "needs_background": "light"
          }
        }
      ]
    },
    {
      "cell_type": "markdown",
      "metadata": {
        "id": "Ex3qQp3JolD1"
      },
      "source": [
        "## 1.4: Visualizing the results (7 Points)\n",
        "\n",
        "* Please chose one sample for each class (for example the first when iterating the test data) and plot the (ten) adversarial examples as well as the predicted label (before and after the attack)\n",
        "\n",
        "* Please repeat the visualization for the three sets you have created "
      ]
    },
    {
      "cell_type": "code",
      "metadata": {
        "colab": {
          "base_uri": "https://localhost:8080/",
          "height": 370
        },
        "id": "tTI8l0-xR_Vd",
        "outputId": "cf004266-7ee7-4c02-c735-553b3ff755c9"
      },
      "source": [
        "count = 0\n",
        "nsamples = 10\n",
        "\n",
        "plt.figure(figsize=(10,5))\n",
        "for i in range(len(epsilons)+1):\n",
        "\n",
        "    for j in range(nsamples):\n",
        "        count += 1\n",
        "        plt.subplot(len(epsilons)+1,nsamples,count)\n",
        "        plt.xticks([], [])\n",
        "        plt.yticks([], [])\n",
        "        \n",
        "        if i == 0:\n",
        "          plt.imshow(or_image[j].squeeze(), cmap=\"gray\")\n",
        "          plt.title(\"{} -> {}\".format(original[j][0], original[j][1]))\n",
        "          if j == 0:\n",
        "             plt.ylabel(\"Original\", fontsize=14, color = 'b')\n",
        "\n",
        "        else:\n",
        "          orig,adv,ex = adv_samples[i-1][j]\n",
        "          plt.title(\"{} -> {}\".format(orig, adv))\n",
        "          plt.imshow(ex, cmap=\"gray\")\n",
        "          if j == 0:\n",
        "            plt.ylabel(\"Eps: {}\".format(epsilons[i-1]), fontsize=14, color = 'b')\n",
        "        \n",
        "plt.tight_layout()\n",
        "plt.show()"
      ],
      "execution_count": 66,
      "outputs": [
        {
          "output_type": "display_data",
          "data": {
            "image/png": "[encoded data removed]",
            "text/plain": [
              "<Figure size 720x360 with 40 Axes>"
            ]
          },
          "metadata": {}
        }
      ]
    },
    {
      "cell_type": "code",
      "metadata": {
        "id": "eGkp0B0PO1wJ"
      },
      "source": [
        "#\n",
        "#\n",
        "# ------- Your Code -------\n",
        "#\n",
        "#\n",
        "\n",
        "# template code (Please feel free to change this)\n",
        "# (each column corresponds to one attack method)\n",
        "col_titles = ['Ori','FGSM','Method 1', 'Method 2'] \n",
        "\n",
        "nsamples = 10\n",
        "nrows = nsamples\n",
        "ncols = len(col_titles)\n",
        "\n",
        "fig, axes = plt.subplots(nrows,ncols,figsize=(8,12))  # create the figure with subplots\n",
        "[ax.set_axis_off() for ax in axes.ravel()]  # remove the axis\n",
        "\n",
        "for ax, col in zip(axes[0], col_titles): # set up the title for each column\n",
        "    ax.set_title(col,fontdict={'fontsize':18,'color':'b'})\n",
        "\n",
        "for i in range(nsamples):\n",
        "   \n",
        "    axes[i,0].imshow(images_ori[i])\n",
        "    axes[i,1].imshow(adv_FGSM[i])\n",
        "    axes[i,2].imshow(adv_Method1[i])\n",
        "    axes[i,3].imshow(adv_Method2[i])\n",
        "\n",
        "plt.tight_layout()\n",
        "plt.show()               "
      ],
      "execution_count": null,
      "outputs": []
    },
    {
      "cell_type": "markdown",
      "metadata": {
        "id": "n02Hepp4Gays"
      },
      "source": [
        "## 1.5: Analyzing the results (5 Points)\n",
        "\n",
        "Please write a brief summary of your findings.  \n",
        "\n",
        "* Does the attack always succeed (the model makes wrong prediction on the adversarial sample)? What is the relationship between the attack success rate and the perturbation budget?\n",
        "* How about the computation cost of the attack? (you can report the time in second) \n",
        "* Does the attack require white-box access to the model?\n",
        "* Feel free to report your results via tables or figures, and mention any other interesting observations \n",
        "\n"
      ]
    },
    {
      "cell_type": "markdown",
      "metadata": {
        "id": "aqgmoWj6Gays"
      },
      "source": [
        "**Your answers go here**"
      ]
    },
    {
      "cell_type": "markdown",
      "metadata": {
        "id": "KJUmrv5Bymij"
      },
      "source": [
        "# 2. Defending an ML model (35 points) \n",
        "\n",
        "So far, we have focused on attacking an ML model. In this section, we want you to defend your model. \n"
      ]
    },
    {
      "cell_type": "markdown",
      "metadata": {
        "id": "0gHUFK6Mymik"
      },
      "source": [
        "## 2.1: Implementing the adversarial training defense (20 Points)\n",
        "\n",
        "* We would like to ask you to implement the adversarial training defense (https://arxiv.org/pdf/1412.6572.pdf) mentioned in the lecture. \n",
        "\n",
        "* You can use the **FGSM adversarial training** method (i.e., train on FGSM examples). \n",
        "\n",
        "* You can also check the adversarial training implementation in other papers, e.g., http://proceedings.mlr.press/v97/pang19a/pang19a.pdf \n",
        "\n",
        "* Choose a certain **maximum perturbation budget** during training that is in the middle of the range you have experimented with before. \n",
        "\n",
        "* We do not require the defense to work perfectly - but what we want you to understand is why it works or why it does not work.\n",
        "\n",
        "**Hint:** You can save the checkpoint of the defended model as we would need it to for the third part of this exercise.\n"
      ]
    },
    {
      "cell_type": "code",
      "metadata": {
        "id": "DD0UalSeymim"
      },
      "source": [
        "#\n",
        "#\n",
        "# ------- Your Code -------\n",
        "#\n",
        "#\n"
      ],
      "execution_count": null,
      "outputs": []
    },
    {
      "cell_type": "code",
      "metadata": {
        "colab": {
          "base_uri": "https://localhost:8080/",
          "height": 234
        },
        "id": "9amjcEaiLtql",
        "outputId": "162bc168-a593-48d2-fa2e-d2857d98e36c"
      },
      "source": [
        "def advTrain(torch_model, train_loader, test_loader,\n",
        "        nb_epochs=NB_EPOCHS, batch_size=BATCH_SIZE, train_end=-1, test_end=-1, learning_rate=LEARNING_RATE):\n",
        "    optimizer = optim.Adam(torch_model.parameters(), lr=learning_rate)\n",
        "    train_loss = []\n",
        "    total = 0\n",
        "    correct = 0\n",
        "    totalAdv = 0\n",
        "    correctAdv = 0\n",
        "    step = 0\n",
        "    # breakstep = 0\n",
        "    for _epoch in range(nb_epochs):\n",
        "      for xs, ys in train_loader:\n",
        "        #Normal Training\n",
        "        xs, ys = Variable(xs), Variable(ys)\n",
        "        if torch.cuda.is_available():\n",
        "          xs, ys = xs.cuda(), ys.cuda()\n",
        "        optimizer.zero_grad()\n",
        "        preds = torch_model(xs)\n",
        "        loss = F.nll_loss(preds, ys)\n",
        "        loss.backward()  # calc gradients\n",
        "        train_loss.append(loss.data.item())\n",
        "        optimizer.step()  # update gradients\n",
        "        preds_np = preds.cpu().detach().numpy()\n",
        "        correct += (np.argmax(preds_np, axis=1) == ys.cpu().detach().numpy()).sum()\n",
        "        total += train_loader.batch_size\n",
        "\n",
        "        #Adversarial Training\n",
        "        xs = fast_gradient_method(torch_model, xs, eps=0.3, norm=np.inf, clip_min=0., clip_max=1.)\n",
        "        xs, ys = Variable(xs), Variable(ys)\n",
        "        if torch.cuda.is_available():\n",
        "            xs, ys = xs.cuda(), ys.cuda()\n",
        "        optimizer.zero_grad()\n",
        "        preds = torch_model(xs)\n",
        "        loss = F.nll_loss(preds, ys)\n",
        "        loss.backward()  # calc gradients\n",
        "        train_loss.append(loss.data.item())\n",
        "        optimizer.step()  # update gradients\n",
        "        preds_np = preds.cpu().detach().numpy()\n",
        "        correctAdv += (np.argmax(preds_np, axis=1) == ys.cpu().detach().numpy()).sum()\n",
        "        totalAdv += train_loader.batch_size\n",
        "        \n",
        "        step += 1\n",
        "        if total % 1000 == 0:\n",
        "          acc = float(correct) / total\n",
        "          print('[%s] Clean Training accuracy: %.2f%%' % (step, acc * 100))\n",
        "          total = 0\n",
        "          correct = 0\n",
        "          accAdv = float(correctAdv) / totalAdv\n",
        "          print('[%s] Adv Training accuracy: %.2f%%' % (step, accAdv * 100))\n",
        "          totalAdv = 0\n",
        "          correctAdv = 0"
      ],
      "execution_count": null,
      "outputs": [
        {
          "output_type": "error",
          "ename": "NameError",
          "evalue": "ignored",
          "traceback": [
            "\u001b[0;31m---------------------------------------------------------------------------\u001b[0m",
            "\u001b[0;31mNameError\u001b[0m                                 Traceback (most recent call last)",
            "\u001b[0;32m<ipython-input-85-4bb4a69e0b68>\u001b[0m in \u001b[0;36m<module>\u001b[0;34m()\u001b[0m\n\u001b[1;32m      1\u001b[0m def advTrain(torch_model, train_loader, test_loader,\n\u001b[0;32m----> 2\u001b[0;31m         nb_epochs=NB_EPOCHS, batch_size=BATCH_SIZE, train_end=-1, test_end=-1, learning_rate=LEARNING_RATE):\n\u001b[0m\u001b[1;32m      3\u001b[0m     \u001b[0moptimizer\u001b[0m \u001b[0;34m=\u001b[0m \u001b[0moptim\u001b[0m\u001b[0;34m.\u001b[0m\u001b[0mAdam\u001b[0m\u001b[0;34m(\u001b[0m\u001b[0mtorch_model\u001b[0m\u001b[0;34m.\u001b[0m\u001b[0mparameters\u001b[0m\u001b[0;34m(\u001b[0m\u001b[0;34m)\u001b[0m\u001b[0;34m,\u001b[0m \u001b[0mlr\u001b[0m\u001b[0;34m=\u001b[0m\u001b[0mlearning_rate\u001b[0m\u001b[0;34m)\u001b[0m\u001b[0;34m\u001b[0m\u001b[0;34m\u001b[0m\u001b[0m\n\u001b[1;32m      4\u001b[0m     \u001b[0mtrain_loss\u001b[0m \u001b[0;34m=\u001b[0m \u001b[0;34m[\u001b[0m\u001b[0;34m]\u001b[0m\u001b[0;34m\u001b[0m\u001b[0;34m\u001b[0m\u001b[0m\n\u001b[1;32m      5\u001b[0m     \u001b[0mtotal\u001b[0m \u001b[0;34m=\u001b[0m \u001b[0;36m0\u001b[0m\u001b[0;34m\u001b[0m\u001b[0;34m\u001b[0m\u001b[0m\n",
            "\u001b[0;31mNameError\u001b[0m: name 'NB_EPOCHS' is not defined"
          ]
        }
      ]
    },
    {
      "cell_type": "code",
      "metadata": {
        "id": "T1FEG8IeKJP0"
      },
      "source": [
        "def train_model(dropout_s,model,learning_rate,reg,train_loader_nn,val_loader_nn,best_accuracy,num_epochs,total_train,correct_train,train_acc,val_accu_data,val_accu,learning_rate_decay,train_accu,loss_values):\n",
        "    # Loss and optimizer\n",
        "    criterion = nn.CrossEntropyLoss()\n",
        "    optimizer = torch.optim.Adam(model.parameters(), lr=learning_rate, weight_decay=reg)\n",
        "    lr = learning_rate\n",
        "    total_step = len(train_loader_nn)\n",
        "    # print(total_step)\n",
        "    for epoch in range(num_epochs):\n",
        "\n",
        "        for i, (images, labels) in enumerate(train_loader_nn):\n",
        "\n",
        "           images = images.to(device)\n",
        "           labels = labels.to(device)\n",
        "\n",
        "        # Forward pass\n",
        "           outputs = model(images)\n",
        "\n",
        "           loss = criterion(outputs, labels)\n",
        "          #  print(i)\n",
        "        # Backward and optimize\n",
        "           optimizer.zero_grad()\n",
        "           loss.backward()\n",
        "           optimizer.step()\n",
        "        \n",
        "           loss_ar.append(loss.item())\n",
        "           if (i+1) % 25 == 0:\n",
        "              print('Epoch [{}/{}], Step [{}/{}], Loss: {:.4f}'.format(epoch+1, num_epochs, i+1, total_step, loss.item()))\n",
        "              _, predicted_train = torch.max(outputs.data, 1)\n",
        "              loss_values.append(loss.item())\n",
        "              total_train += labels.size(0)\n",
        "              correct_train += (predicted_train == labels).sum().item() \n",
        "              # print(total_train,correct_train) \n",
        "\n",
        "        train_accu.append(100 * correct_train / total_train)\n",
        "        correct_train = 0\n",
        "        total_train = 0\n",
        "    # Code to update the lr\n",
        "        lr *= learning_rate_decay\n",
        "        update_lr(optimizer, lr)\n",
        "        model.eval()\n",
        "        with torch.no_grad():\n",
        "            correct = 0\n",
        "            total = 0\n",
        "            for images, labels in val_loader_nn:\n",
        "                images = images.to(device)\n",
        "                labels = labels.to(device)\n",
        "                outputs = model(images)\n",
        "                _, predicted = torch.max(outputs.data, 1)\n",
        "                total += labels.size(0)\n",
        "                correct += (predicted == labels).sum().item()\n",
        "                #############\n",
        "            print('Validataion accuracy is: {} %'.format(100 * correct / total))\n",
        "            val_accu_data = (100 * correct) / total\n",
        "            print(type(val_accu))\n",
        "            val_accu.append(val_accu_data)\n",
        "            # if val_accu_data < last:\n",
        "            #     count+= 1\n",
        "            # else:\n",
        "            #     count = 0\n",
        "            # last = val_accu_data\n",
        "            # cur_accuracy = val_accu_data\n",
        "            # if val_accu_data > best_accuracy:\n",
        "            #     best_accuracy = val_accu_data\n",
        "            #     best_model = model\n",
        "            #     print(\"best\")\n",
        "            #     torch.save(best_model.state_dict(),'./best_model.ckpt')\n",
        "    \n",
        "\n",
        "        model.train()\n",
        "    if(val_accu[num_epochs-1]> best_accuracy):\n",
        "        best_accuracy = val_accu[num_epochs-1]\n",
        "        torch.save(model.state_dict(),'./best_model'+str(dropout_s)+'.ckpt')                         \n",
        "        print(\"best model with val acc\"+ str(val_accu[num_epochs-1])+ \"is saved\")\n",
        "    return   val_accu,val_accu[num_epochs-1],train_accu,best_accuracy,loss_values"
      ],
      "execution_count": null,
      "outputs": []
    },
    {
      "cell_type": "markdown",
      "metadata": {
        "id": "JWu1A5vdGayt"
      },
      "source": [
        "## 2.2: Evaluation (10 Points)\n",
        "\n",
        "* Craft adversarial examples using the **defended** model. This entails at least 1,000 examples crafted via FGSM. \n",
        "    * Create one set using a budget that is **less than (within)** the one used in training.\n",
        "    * Create another set using a budget that is **higher than** the one used in training. \n",
        "    * You can use two values of epsilons from question 1.3 \n",
        "    \n",
        "* Evaluate the **defended** model on these two adversarial examples sets. \n"
      ]
    },
    {
      "cell_type": "code",
      "metadata": {
        "id": "IYToEOW_Gayt"
      },
      "source": [
        "#\n",
        "#\n",
        "# ------- Your Code -------\n",
        "#\n",
        "#\n",
        "\n",
        "print('Accuracy on the lower-budget adversarial samples (FGSM) %.2f'%acc_FGSM1)\n",
        "print('Accuracy on the lower-budget adversarial samples (FGSM) after defense %.2f'%acc_FGSM_defend1)\n",
        "\n",
        "print('Accuracy on the higher-budget adversarial samples (FGSM) %.2f'%acc_FGSM2)\n",
        "print('Accuracy on the higher-budget adversarial samples (FGSM) after defense %.2f'%acc_FGSM_defend2)"
      ],
      "execution_count": null,
      "outputs": []
    },
    {
      "cell_type": "markdown",
      "metadata": {
        "id": "KvQesTdnGayu"
      },
      "source": [
        "## 2.3 Discussion (5 points)\n",
        "\n",
        "* How successful was the defense against the attack compared to the undefended model? How do you interpret the difference?\n",
        "* How did the two sets differ?"
      ]
    },
    {
      "cell_type": "markdown",
      "metadata": {
        "id": "i9SS-RX1Gayu"
      },
      "source": [
        "**Your answers go here**"
      ]
    },
    {
      "cell_type": "markdown",
      "metadata": {
        "id": "qy41EaC6Gayu"
      },
      "source": [
        "# 3: I-FGSM attack (35 points) \n",
        "\n",
        "* FGSM is one of the simplest and earliest attacks. Since then, many more advanced attacks have been proposed. \n",
        "* One of them is the Iterative-FGSM (https://arxiv.org/pdf/1607.02533.pdf), where the attack is repeated multiple times.\n",
        "* In this part, we ask you to please implement the iterative FGSM attack. \n",
        "\n"
      ]
    },
    {
      "cell_type": "markdown",
      "metadata": {
        "id": "KP_bP709Gayu"
      },
      "source": [
        "## 3.1: Implementing the I-FGSM attack (10 Points)\n",
        "\n",
        "**Hints**: \n",
        "\n",
        "* Your code should have an attack loop. At each step, the FGSM attack that you have implemented before is computed using a small step.\n",
        "* After each step, you should perform a per-pixel clipping to make sure the image is in the allowed range, and that the perturbation is within budget.\n"
      ]
    },
    {
      "cell_type": "code",
      "metadata": {
        "id": "ksSHy4FvGayu"
      },
      "source": [
        "#\n",
        "#\n",
        "# ------- Your Code -------\n",
        "#\n",
        "#\n"
      ],
      "execution_count": null,
      "outputs": []
    },
    {
      "cell_type": "code",
      "metadata": {
        "id": "fZ4SxijDYOgL"
      },
      "source": [
        "# Also known as I-FGSM Attack\n",
        "def basic_iterative_attack(model, images, labels, scale, eps, alpha, iters, data_grad) :\n",
        "    #images = images.to(device)\n",
        "    #labels = labels.to(device)\n",
        "    \n",
        "    clamp_max = 255\n",
        "\n",
        "    \n",
        "    if iters == 0 :\n",
        "        # The paper said min(eps + 4, 1.25*eps) is used as iterations\n",
        "        iters = int(min(eps + 4, 1.25*eps))\n",
        "        print(\"Iters: \", iters)\n",
        "                \n",
        "    if scale :\n",
        "        clamp_max = clamp_max / 255\n",
        "        \n",
        "    for i in range(iters) :    \n",
        "        #images.requires_grad = True\n",
        "        #outputs = model(images)\n",
        "\n",
        "        #model.zero_grad()\n",
        "        #cost = F.cross_entropy(outputs, labels).to(device)\n",
        "        #cost.backward()\n",
        "        sign_data_grad = data_grad.sign()\n",
        "        attack_images = images + alpha*sign_data_grad\n",
        "        \n",
        "        # Clip attack images(X')\n",
        "        # min{255, X+eps, max{0, X-eps, X'}}\n",
        "        # = min{255, min{X+eps, max{max{0, X-eps}, X'}}}\n",
        "        \n",
        "        # a = max{0, X-eps}\n",
        "        a = torch.clamp(images - eps, min=0)\n",
        "        # b = max{a, X'}\n",
        "        b = (attack_images>=a).float()*attack_images + (a>attack_images).float()*a\n",
        "        # c = min{X+eps, b}\n",
        "        c = (b > images+eps).float()*(images+eps) + (images+eps >= b).float()*b\n",
        "        # d = min{255, c}\n",
        "        \n",
        "        images = torch.clamp(c, max=clamp_max).detach_()\n",
        "        \n",
        "            \n",
        "    return images"
      ],
      "execution_count": 59,
      "outputs": []
    },
    {
      "cell_type": "code",
      "metadata": {
        "id": "I-dlv8N7awZb"
      },
      "source": [
        "def test_i( model, device, test_loader, epsilon, scale, alpha, iters):\n",
        "\n",
        "    correct = 0\n",
        "    wrong = 0\n",
        "    adv_examples = []\n",
        "    total = 0\n",
        "    \n",
        "    for i, (data, target) in enumerate(test_loader):\n",
        "\n",
        "        data, target = data.to(device), target.to(device)\n",
        "        data.requires_grad = True\n",
        "\n",
        "        total += target.size(0)\n",
        "\n",
        "        # Forward pass\n",
        "        output = model(data)\n",
        "        init_pred = output.max(1, keepdim=True)[1]\n",
        "\n",
        "        # Don't attack if the initial prediction is wrong\n",
        "        for j in range(len(data)):\n",
        "          if init_pred[j].item() != target[j].item():\n",
        "            continue\n",
        "     \n",
        "        # Calculate the loss\n",
        "        loss = F.nll_loss(output, target)\n",
        "\n",
        "        # Zero all existing gradients\n",
        "        model.zero_grad()\n",
        "\n",
        "        # Calculate gradients of model in backward pass\n",
        "        loss.backward()\n",
        "       \n",
        "        # FGSM Attack\n",
        "        data_grad = data.grad.data\n",
        "        #perturbed_data = fgsm_attack(data, epsilon, data_grad)\n",
        "        perturbed_data = basic_iterative_attack(model, data, target, scale, epsilon, alpha, iters, data_grad)\n",
        "\n",
        "        output = model(perturbed_data)\n",
        "\n",
        "        # New prediction\n",
        "        final_pred = output.max(1, keepdim=True)[1]     \n",
        "        \n",
        "        for k in range(len(data)):\n",
        "          if final_pred[k].item() == target[k].item():\n",
        "            correct += 1\n",
        "          else:\n",
        "            wrong += 1\n",
        "            \n",
        "            if len(adv_examples) < dataset_size:\n",
        "               adv_ex = perturbed_data.squeeze().detach().cpu().numpy()\n",
        "               adv_examples.append( (init_pred[k].item(), final_pred[k].item(), adv_ex[k]) )\n",
        "    \n",
        "    print(\"WRONG: \", wrong)\n",
        "    final_acc = 100*correct/total\n",
        "    print(\"Epsilon: {}\\tTest Accuracy = {} / {} = {}\".format(epsilon, correct, total, final_acc))\n",
        "   \n",
        "    return final_acc, adv_examples\n"
      ],
      "execution_count": 39,
      "outputs": []
    },
    {
      "cell_type": "code",
      "metadata": {
        "colab": {
          "base_uri": "https://localhost:8080/"
        },
        "id": "gsVX6wvBdF6k",
        "outputId": "5cb464d3-6c76-4448-b230-49fcf6013810"
      },
      "source": [
        "correct = 0\n",
        "total = 0\n",
        "\n",
        "alpha = 1\n",
        "iters = 3\n",
        "\n",
        "# scale =\n",
        "# 0 : the images are scaled to [0, 255]\n",
        "# 1 : the images are scaled to [0, 1]\n",
        "scale = 1\n",
        "import timeit\n",
        "\n",
        "epsilons = [.05,.15, .3]\n",
        "dataset_size= 20\n",
        "\n",
        "i_accuracies = []\n",
        "i_adv_samples = []\n",
        "\n",
        "# Run test for each epsilon\n",
        "for eps in epsilons:\n",
        "    start = timeit.default_timer()\n",
        "    #i_acc, i_ex = test_i(model, device, test_loader, eps, dataset_size)\n",
        "    i_acc, i_ex = test_i(model, device, test_loader, eps, scale, alpha, iters)\n",
        "    stop = timeit.default_timer()\n",
        "    print('Time: ', stop - start) \n",
        "    i_accuracies.append(i_acc)\n",
        "    i_adv_samples.append(i_ex)"
      ],
      "execution_count": 60,
      "outputs": [
        {
          "output_type": "stream",
          "name": "stdout",
          "text": [
            "WRONG:  829\n",
            "Epsilon: 0.05\tTest Accuracy = 9171 / 10000 = 91.71\n",
            "Time:  11.789338874999885\n",
            "WRONG:  9511\n",
            "Epsilon: 0.15\tTest Accuracy = 489 / 10000 = 4.89\n",
            "Time:  11.639707358999658\n",
            "WRONG:  9167\n",
            "Epsilon: 0.3\tTest Accuracy = 833 / 10000 = 8.33\n",
            "Time:  11.722484091999831\n"
          ]
        }
      ]
    },
    {
      "cell_type": "code",
      "metadata": {
        "colab": {
          "base_uri": "https://localhost:8080/",
          "height": 370
        },
        "id": "JeWshyHCe9lS",
        "outputId": "04f4390b-6348-4911-d2e6-04d0e772af20"
      },
      "source": [
        "count = 0\n",
        "nsamples = 10\n",
        "\n",
        "plt.figure(figsize=(10,5))\n",
        "for i in range(len(epsilons)+1):\n",
        "\n",
        "    for j in range(nsamples):\n",
        "        count += 1\n",
        "        plt.subplot(len(epsilons)+1,nsamples,count)\n",
        "        plt.xticks([], [])\n",
        "        plt.yticks([], [])\n",
        "        \n",
        "        if i == 0:\n",
        "          plt.imshow(or_image[j].squeeze(), cmap=\"gray\")\n",
        "          plt.title(\"{} -> {}\".format(original[j][0], original[j][1]))\n",
        "          if j == 0:\n",
        "             plt.ylabel(\"Original\", fontsize=14, color = 'b')\n",
        "\n",
        "        else:\n",
        "          orig,adv,ex = i_adv_samples[i-1][j]\n",
        "          plt.title(\"{} -> {}\".format(orig, adv))\n",
        "          plt.imshow(ex, cmap=\"gray\")\n",
        "          if j == 0:\n",
        "            plt.ylabel(\"Eps: {}\".format(epsilons[i-1]), fontsize=14, color = 'b')\n",
        "        \n",
        "plt.tight_layout()\n",
        "plt.show()"
      ],
      "execution_count": 61,
      "outputs": [
        {
          "output_type": "display_data",
          "data": {
            "image/png": "[encoded data removed]",
            "text/plain": [
              "<Figure size 720x360 with 40 Axes>"
            ]
          },
          "metadata": {}
        }
      ]
    },
    {
      "cell_type": "markdown",
      "metadata": {
        "id": "kZdKvh0qGayu"
      },
      "source": [
        "## 3.2: Attack the undefended model (5 Points)\n",
        "\n",
        "* We will first attack the **undefended model** (i.e., without adversarial training).\n",
        "\n",
        "* Choose one perturbation budget from Question **1.3** for comparison. \n",
        "\n",
        "    * Hint: A simple way to choose the small step is to divide the total budget by the number of steps (e.g., 10).\n",
        "\n",
        "* Please generate 1000 adversarial examples using the **undefended** model and the **I-FGSM** you implemented. \n",
        "\n",
        "* Please compute the accuracy of the adversarial set on the **undefended** model. "
      ]
    },
    {
      "cell_type": "code",
      "metadata": {
        "id": "qyxVl238Gayu"
      },
      "source": [
        "#\n",
        "#\n",
        "# ------- Your Code -------\n",
        "#\n",
        "#\n"
      ],
      "execution_count": null,
      "outputs": []
    },
    {
      "cell_type": "markdown",
      "metadata": {
        "id": "gVETKEjsGayv"
      },
      "source": [
        "### 3.2.1: Findings and comparison with FGSM (8 points)\n",
        "\n",
        "* Please report your findings. How successful was the attack? \n",
        "\n",
        "* What do you expect when increasing the number of steps? (you can experiment with different parameters of the attack and report your findings) \n",
        "\n",
        "* Compare with the basic FGSM. Using the same perturbation budget and using the same model, which attack is more successful? Why do you think this is the case? What about the computation time?\n",
        "\n",
        "* Feel free to report any interesting observations. "
      ]
    },
    {
      "cell_type": "markdown",
      "metadata": {
        "id": "P_ivWKefGayv"
      },
      "source": [
        "**Your answers go here**"
      ]
    },
    {
      "cell_type": "markdown",
      "metadata": {
        "id": "sbekYKt7Gayv"
      },
      "source": [
        "## 3.3: Attack the defended model (5 poinst) \n",
        "\n",
        "* In the previous question, we attacked the **undefended model**. \n",
        "\n",
        "* Now, we want to explore how successful the previous implemented defense (FGSM adversarial training) is againts this new attack. (we will not implement a new defense here, we will be reusing your previous checkpoint of the **defended model**)\n",
        "\n",
        "\n",
        "* Use the **defended model** to create one set of adversarial examples. Use a perturbation budget from Question **2.2** for comparison.  "
      ]
    },
    {
      "cell_type": "code",
      "metadata": {
        "id": "5VxR6TOeGayv"
      },
      "source": [
        "#\n",
        "#\n",
        "# ------- Your Code -------\n",
        "#\n",
        "#"
      ],
      "execution_count": null,
      "outputs": []
    },
    {
      "cell_type": "markdown",
      "metadata": {
        "id": "VD6FXQqXGayv"
      },
      "source": [
        "### 3.3.1: Discussion (7 points) \n",
        "* Please report your results. How successful was the attack on the defended model? \n",
        "* Compare it with the success of the FGSM attack on the defended model. What do you observe? How do you interpret the difference? \n",
        "* How do you think you can improve the defense against I-FGSM attack?\n",
        "\n",
        "\n",
        "* Feel free to state any interesting findings you encountered during this project."
      ]
    },
    {
      "cell_type": "markdown",
      "metadata": {
        "id": "TfepDgVLGayv"
      },
      "source": [
        "**Your answers go here**"
      ]
    }
  ]
}