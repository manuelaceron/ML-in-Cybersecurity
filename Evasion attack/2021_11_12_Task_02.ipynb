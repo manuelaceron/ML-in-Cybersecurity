{
  "cells": [
    {
      "cell_type": "markdown",
      "metadata": {
        "id": "4NzyqehHjUlG"
      },
      "source": [
        "# ML in Cybersecurity: Task II\n",
        "\n",
        "## Team\n",
        "  * **Team name**:  *fill this in*\n",
        "  * **Members**:  *fill this in. format: name1 (email1), name2 (email2), ...*\n",
        "\n",
        "\n",
        "## Logistics\n",
        "  * **Due date**: 25th Nov. 2021, 23:59:59 (email the completed notebook including outputs to mlcysec_ws2022_staff@lists.cispa.saarland)\n",
        "  * Email the completed notebook to mlcysec_ws2022_staff@lists.cispa.saarland \n",
        "  * Complete this in the previously established **teams of 3**\n",
        "  * Feel free to use the course forum to discuss.\n",
        "  \n",
        "  \n",
        "## About this Project\n",
        "In this project, we dive into the vulnerabilities of machine learning models and the difficulties of defending against them. To this end, we ask you to implement an evasion attack (craft adversarial examples) yourselves, and defend your own model.   \n",
        "\n",
        "\n",
        "## A Note on Grading\n",
        "The total number of points in this project is 100. We further provide the number of points achievable with each excercise. You should take particular care to document and visualize your results.\n",
        "\n",
        "Whenever possible, please use tools like tables or figures to compare the different findings\n",
        "\n",
        "\n",
        " \n",
        "## Filling-in the Notebook\n",
        "You'll be submitting this very notebook that is filled-in with (all) your code and analysis. Make sure you submit one that has been previously executed in-order. (So that results/graphs are already visible upon opening it). \n",
        "\n",
        "The notebook you submit **should compile** (or should be self-contained and sufficiently commented). Check tutorial 1 on how to set up the Python3 environment.\n",
        "\n",
        "It is extremely important that you **do not** re-order the existing sections. Apart from that, the code blocks that you need to fill-in are given by:\n",
        "```\n",
        "#\n",
        "#\n",
        "# ------- Your Code -------\n",
        "#\n",
        "#\n",
        "```\n",
        "Feel free to break this into multiple-cells. It's even better if you interleave explanations and code-blocks so that the entire notebook forms a readable \"story\".\n",
        "\n",
        "\n",
        "## Code of Honor\n",
        "We encourage discussing ideas and concepts with other students to help you learn and better understand the course content. However, the work you submit and present **must be original** and demonstrate your effort in solving the presented problems. **We will not tolerate** blatantly using existing solutions (such as from the internet), improper collaboration (e.g., sharing code or experimental data between groups) and plagiarism. If the honor code is not met, no points will be awarded.\n",
        "\n",
        " \n",
        "  ---"
      ]
    },
    {
      "cell_type": "code",
      "execution_count": 1,
      "metadata": {
        "id": "3ewNwfFvbFaR"
      },
      "outputs": [],
      "source": [
        "import time \n",
        " \n",
        "import numpy as np \n",
        "import matplotlib.pyplot as plt \n",
        "\n",
        "import json \n",
        "import time \n",
        "import pickle \n",
        "import sys \n",
        "import csv \n",
        "import os \n",
        "import os.path as osp \n",
        "import shutil \n",
        "\n",
        "import pandas as pd\n",
        "\n",
        "from IPython.display import display, HTML\n",
        " \n",
        "%matplotlib inline \n",
        "plt.rcParams['figure.figsize'] = (10.0, 8.0) # set default size of plots \n",
        "plt.rcParams['image.interpolation'] = 'nearest' \n",
        "plt.rcParams['image.cmap'] = 'gray' \n",
        " \n",
        "# for auto-reloading external modules \n",
        "# see http://stackoverflow.com/questions/1907993/autoreload-of-modules-in-ipython \n",
        "%load_ext autoreload\n",
        "%autoreload 2"
      ]
    },
    {
      "cell_type": "code",
      "execution_count": 2,
      "metadata": {
        "id": "640GrzbOevr0"
      },
      "outputs": [],
      "source": [
        "# Some suggestions of our libraries that might be helpful for this project\n",
        "from collections import Counter          # an even easier way to count\n",
        "from multiprocessing import Pool         # for multiprocessing\n",
        "from tqdm import tqdm                    # fancy progress bars\n",
        "\n",
        "# Load other libraries here.\n",
        "# Keep it minimal! We should be easily able to reproduce your code.\n",
        "# We only support sklearn and pytorch.\n",
        "import torchvision\n",
        "import torchvision.datasets as datasets\n",
        "import torchvision.transforms as transforms\n",
        "import torch.utils.data as data\n",
        "\n",
        "# We preload pytorch as an example\n",
        "import torch\n",
        "import torch.nn as nn\n",
        "import torch.nn.functional as F\n",
        "import torch.optim as optim\n",
        "from torch.utils.data import DataLoader, Dataset, TensorDataset\n",
        "\n",
        "import random\n",
        "import timeit\n"
      ]
    },
    {
      "cell_type": "code",
      "execution_count": 3,
      "metadata": {
        "id": "BKunz5kAzSKB"
      },
      "outputs": [],
      "source": [
        "log_interval = 10\n",
        "random_seed = 1\n",
        "torch.backends.cudnn.enabled = False\n",
        "torch.manual_seed(random_seed)\n",
        "rndm_state = 42"
      ]
    },
    {
      "cell_type": "code",
      "execution_count": 4,
      "metadata": {
        "colab": {
          "base_uri": "https://localhost:8080/"
        },
        "id": "GJZPEAWYMhYB",
        "outputId": "91f89b9a-c957-4c75-a405-dffa9d3b7ccf"
      },
      "outputs": [
        {
          "name": "stdout",
          "output_type": "stream",
          "text": [
            "cuda\n"
          ]
        }
      ],
      "source": [
        "compute_mode = 'gpu'\n",
        "\n",
        "if compute_mode == 'cpu':\n",
        "    device = torch.device('cpu')\n",
        "elif compute_mode == 'gpu':\n",
        "    # If you are using pytorch on the GPU cluster, you have to manually specify which GPU device to use\n",
        "    # It is extremely important that you *do not* spawn multi-GPU jobs.\n",
        "    os.environ[\"CUDA_VISIBLE_DEVICES\"] = '0'    # Set device ID here\n",
        "    device = torch.device('cuda')\n",
        "else:\n",
        "    raise ValueError('Unrecognized compute mode')\n",
        "\n",
        "print(device)"
      ]
    },
    {
      "cell_type": "markdown",
      "metadata": {
        "id": "nxi-lLD0mKHD"
      },
      "source": [
        "#### Helpers\n",
        "\n",
        "In case you choose to have some methods you plan to reuse during the notebook, define them here. This will avoid clutter and keep rest of the notebook succinct."
      ]
    },
    {
      "cell_type": "code",
      "execution_count": null,
      "metadata": {
        "id": "VBbigqdEmKd8"
      },
      "outputs": [],
      "source": [
        "#\n",
        "#\n",
        "# ------- Your Code -------\n",
        "#\n",
        "#"
      ]
    },
    {
      "cell_type": "code",
      "execution_count": 7,
      "metadata": {
        "id": "jPdGR4oTU8gC"
      },
      "outputs": [],
      "source": [
        "def visualize(samples):\n",
        "  count = 0\n",
        "  nsamples = 10\n",
        "\n",
        "  plt.figure(figsize=(10,8))\n",
        "  for i in range(len(epsilons)+1):\n",
        "\n",
        "      for j in range(nsamples):\n",
        "          count += 1\n",
        "          plt.subplot(len(epsilons)+1,nsamples,count)\n",
        "          plt.xticks([], [])\n",
        "          plt.yticks([], [])\n",
        "          \n",
        "          if i == 0:\n",
        "            plt.imshow(or_image[j].squeeze(), cmap=\"gray\")\n",
        "            plt.title(\"{} -> {}\".format(original[j][0], original[j][1]))\n",
        "            if j == 0:\n",
        "              plt.ylabel(\"Original\", fontsize=14, color = 'b')\n",
        "\n",
        "          else:\n",
        "            orig,adv,ex = samples[i-1][j]\n",
        "            plt.title(\"{} -> {}\".format(orig, adv))\n",
        "            plt.imshow(ex, cmap=\"gray\")\n",
        "            if j == 0:\n",
        "              plt.ylabel(\"Eps: {}\".format(epsilons[i-1]), fontsize=14, color = 'b')\n",
        "          \n",
        "  plt.tight_layout()\n",
        "  plt.show()"
      ]
    },
    {
      "cell_type": "code",
      "execution_count": 21,
      "metadata": {
        "id": "RNuRhldwAGra"
      },
      "outputs": [],
      "source": [
        "def visualize_ep(samples):\n",
        "  count = 0\n",
        "  nsamples = 10\n",
        "\n",
        "  plt.figure(figsize=(10,8))\n",
        "  for i in range(len(epsilons)):\n",
        "\n",
        "      for j in range(nsamples):\n",
        "          count += 1\n",
        "          plt.subplot(len(epsilons),nsamples,count)\n",
        "          plt.xticks([], [])\n",
        "          plt.yticks([], [])\n",
        "          \n",
        "          \"\"\"\n",
        "          if i == 0:\n",
        "            plt.imshow(or_image[j].squeeze(), cmap=\"gray\")\n",
        "            plt.title(\"{} -> {}\".format(original[j][0], original[j][1]))\n",
        "            if j == 0:\n",
        "              plt.ylabel(\"Original\", fontsize=14, color = 'b')\n",
        "          \n",
        "          else:\n",
        "          \"\"\"  \n",
        "          orig,adv,ex = samples[i][j]\n",
        "          plt.title(\"{} -> {}\".format(orig, adv))\n",
        "          plt.imshow(ex, cmap=\"gray\")\n",
        "          if j == 0:\n",
        "            plt.ylabel(\"Eps: {}\".format(epsilons[i]), fontsize=14, color = 'b')\n",
        "          \n",
        "  plt.tight_layout()\n",
        "  plt.show()"
      ]
    },
    {
      "cell_type": "code",
      "execution_count": 8,
      "metadata": {
        "id": "Zh9hBlde5XVj"
      },
      "outputs": [],
      "source": [
        "def plot_accuracy(epsilons, accuracies):\n",
        "  plt.plot(epsilons, accuracies, \"*-\")\n",
        "  plt.title(\"Accuracy vs Epsilon\")\n",
        "  plt.xlabel(\"Epsilon\")\n",
        "  plt.ylabel(\"Accuracy\")\n",
        "  plt.show()"
      ]
    },
    {
      "cell_type": "code",
      "execution_count": 9,
      "metadata": {
        "id": "bUGHUqfuEKMe"
      },
      "outputs": [],
      "source": [
        "def load_model(model):\n",
        "  # Define what device we are using\n",
        "  #print(\"CUDA Available: \",torch.cuda.is_available())\n",
        "  #device = torch.device(\"cuda\" if (use_cuda and torch.cuda.is_available()) else \"cpu\")\n",
        "\n",
        "  # Initialize the network\n",
        "  input_size =  1\n",
        "  hidden_layers = [20,144]\n",
        "  num_classes = 10\n",
        "  my_model = Net(input_size, hidden_layers, num_classes).to(device)\n",
        "\n",
        "  # Load the pretrained model\n",
        "  my_model.load_state_dict(torch.load(model, map_location='cpu'))\n",
        "\n",
        "  # Set the model in evaluation mode. In this case this is for the Dropout layers\n",
        "  my_model.eval()\n",
        "\n",
        "  return my_model\n"
      ]
    },
    {
      "cell_type": "code",
      "execution_count": 28,
      "metadata": {
        "id": "DPgxdJnOHzW0"
      },
      "outputs": [],
      "source": [
        "epsilons = [0, .01, .03, .05, .15, .3]\n",
        "epsilon_budget = epsilons[1:-1]\n",
        "dataset_size= 20"
      ]
    },
    {
      "cell_type": "markdown",
      "metadata": {
        "id": "n1pcmKkyjT7y"
      },
      "source": [
        "# 1. Attacking an ML-model (30 points) \n",
        "\n",
        "In this section, we implement an attack ourselves. First, however, you need a model you can attack. Feel free to choose the DNN/ConvNN from task 1.\n",
        "\n"
      ]
    },
    {
      "cell_type": "markdown",
      "metadata": {
        "id": "QaJv_d_Dp7OM"
      },
      "source": [
        "## 1.1: Setting up the model and data (4 Points)\n",
        "\n",
        "Load the MNIST data, as done in task 1. \n",
        "\n",
        "Re-use the model from task 1 here and train it until it achieves reasonable accuracy (>92%).\n",
        "\n",
        "If you have the saved checkpoint from task 1, you can load it directly. But please compute here the test accuracy using this checkpoint.  \n",
        "\n",
        "**Hint:** In order to save computation time for the rest of exercise, you might consider having a relatively small model here.\n",
        "\n",
        "**Hint**: You might want to save the trained model to save time later."
      ]
    },
    {
      "cell_type": "code",
      "execution_count": null,
      "metadata": {
        "id": "c688qdGtO1v-"
      },
      "outputs": [],
      "source": [
        "#\n",
        "#\n",
        "# ------- Your Code -------\n",
        "# Feel free to change this part depending on whether you would train a model or directly load a checkpoint \n",
        "#\n",
        "#\n",
        "\n",
        "# (1)load data \n",
        "# (2)define model\n",
        "# (3)define loss, optimizer \n",
        "# (4)train (You can re-use the trained model from project1)\n",
        "# (5)evaluate\n",
        "print('Epoch %d, Train acc: %f, Test acc: %f' % (epoch, train_acc, test_acc))"
      ]
    },
    {
      "cell_type": "code",
      "execution_count": 12,
      "metadata": {
        "colab": {
          "base_uri": "https://localhost:8080/",
          "height": 440,
          "referenced_widgets": [
            "9ba607feba424e98aad15c110e53d461",
            "45ae4f5fd19f40538579a826263ec39f",
            "1c684eb3bf33475486f07af6b4b2df00",
            "a75f090627794e198c69abc1017d07b7",
            "616c838fff664db087cf518fd47e4287",
            "d9afc04b5d3d4ef88f787b02f78f54b4",
            "0308a2d343f14b1e95bc699b13cf3441",
            "5ca91dbc052e4a0789a33adf4c9d37a0",
            "e0b1349c90b342449a9662d3c1790124",
            "e4b8fb49176e490f989a7ab563350fc0",
            "ec8822ee4cbc43c3b95944afefadf4c2",
            "a2c7878489334aaeb0d52c2d9b8b224f",
            "6ef4687c7adf4fed8683aa2336024f83",
            "3f6221fc350d4b698a85e2b59f2da665",
            "bdcd7ccc15004124a4e355bb9227f16a",
            "b5c75ac22eaa4d2782a9d47b2c09df07",
            "a4654f99d0b94577be785b3612308f4f",
            "f125a5f00bd0498ead30448fd1853e06",
            "88752b592e7a4c1a961f4b1ceefd2c81",
            "469cb3cba4d44a97868d4506a552f123",
            "d3da4b08380f4112bba917f9a440b5e0",
            "bc854ef9051246ffb2c02e5d800c43c4",
            "6c8f0e0f97f24c66b0a0fdc77ba28773",
            "6816f94202c346b0a0cb29cde4a05bfb",
            "718d65c934584ff2afe926c0b58d346c",
            "557191c6ee314a43ab1276f5963f3d07",
            "cf103b63cbbe4046bf4397eea0c2f9d8",
            "749de9e10d364455bb7813d336c6f10a",
            "cc23e47d90fa4b8e9d7ae43c6570ac78",
            "f33ef140889941ec90b6b4e073597b44",
            "f08a77eabce74221aef641578ba0a8c5",
            "3f468461cf294c589288e381a5869a1c",
            "b311feffb0cb4a4a98b6bc72ae48e424",
            "5cb21b8e44e14386a4236354f7e5c21e",
            "03313a2ab43d41bdb95ef8d8c0330f31",
            "8498290f2b224e2e94168d93c55161ec",
            "d5507cb65987497393b2f5ec8ca49ec5",
            "87cc7262f15044498481b20149cdcf77",
            "952c874839ec47d0b6edfa9ebd46f4ef",
            "2ea0d4815cfd41449f7882e954800fc5",
            "50629a4483b24186947f3ff4f50491f0",
            "591c492501f141a2a7fddce6ad2b8283",
            "29d2227918c7473abd346d90120a843e",
            "0510355240d14d1eae078dc208df8b5c"
          ]
        },
        "id": "3dFANsT6GgWo",
        "outputId": "301c235d-7f6d-4140-ce2d-a0e2a070fb91"
      },
      "outputs": [
        {
          "name": "stdout",
          "output_type": "stream",
          "text": [
            "Downloading http://yann.lecun.com/exdb/mnist/train-images-idx3-ubyte.gz\n",
            "Downloading http://yann.lecun.com/exdb/mnist/train-images-idx3-ubyte.gz to ./data/MNIST/raw/train-images-idx3-ubyte.gz\n"
          ]
        },
        {
          "data": {
            "application/vnd.jupyter.widget-view+json": {
              "model_id": "9ba607feba424e98aad15c110e53d461",
              "version_major": 2,
              "version_minor": 0
            },
            "text/plain": [
              "  0%|          | 0/9912422 [00:00<?, ?it/s]"
            ]
          },
          "metadata": {},
          "output_type": "display_data"
        },
        {
          "name": "stdout",
          "output_type": "stream",
          "text": [
            "Extracting ./data/MNIST/raw/train-images-idx3-ubyte.gz to ./data/MNIST/raw\n",
            "\n",
            "Downloading http://yann.lecun.com/exdb/mnist/train-labels-idx1-ubyte.gz\n",
            "Downloading http://yann.lecun.com/exdb/mnist/train-labels-idx1-ubyte.gz to ./data/MNIST/raw/train-labels-idx1-ubyte.gz\n"
          ]
        },
        {
          "data": {
            "application/vnd.jupyter.widget-view+json": {
              "model_id": "a2c7878489334aaeb0d52c2d9b8b224f",
              "version_major": 2,
              "version_minor": 0
            },
            "text/plain": [
              "  0%|          | 0/28881 [00:00<?, ?it/s]"
            ]
          },
          "metadata": {},
          "output_type": "display_data"
        },
        {
          "name": "stdout",
          "output_type": "stream",
          "text": [
            "Extracting ./data/MNIST/raw/train-labels-idx1-ubyte.gz to ./data/MNIST/raw\n",
            "\n",
            "Downloading http://yann.lecun.com/exdb/mnist/t10k-images-idx3-ubyte.gz\n",
            "Downloading http://yann.lecun.com/exdb/mnist/t10k-images-idx3-ubyte.gz to ./data/MNIST/raw/t10k-images-idx3-ubyte.gz\n"
          ]
        },
        {
          "data": {
            "application/vnd.jupyter.widget-view+json": {
              "model_id": "6c8f0e0f97f24c66b0a0fdc77ba28773",
              "version_major": 2,
              "version_minor": 0
            },
            "text/plain": [
              "  0%|          | 0/1648877 [00:00<?, ?it/s]"
            ]
          },
          "metadata": {},
          "output_type": "display_data"
        },
        {
          "name": "stdout",
          "output_type": "stream",
          "text": [
            "Extracting ./data/MNIST/raw/t10k-images-idx3-ubyte.gz to ./data/MNIST/raw\n",
            "\n",
            "Downloading http://yann.lecun.com/exdb/mnist/t10k-labels-idx1-ubyte.gz\n",
            "Downloading http://yann.lecun.com/exdb/mnist/t10k-labels-idx1-ubyte.gz to ./data/MNIST/raw/t10k-labels-idx1-ubyte.gz\n"
          ]
        },
        {
          "data": {
            "application/vnd.jupyter.widget-view+json": {
              "model_id": "5cb21b8e44e14386a4236354f7e5c21e",
              "version_major": 2,
              "version_minor": 0
            },
            "text/plain": [
              "  0%|          | 0/4542 [00:00<?, ?it/s]"
            ]
          },
          "metadata": {},
          "output_type": "display_data"
        },
        {
          "name": "stdout",
          "output_type": "stream",
          "text": [
            "Extracting ./data/MNIST/raw/t10k-labels-idx1-ubyte.gz to ./data/MNIST/raw\n",
            "\n",
            "10000 50000 10000\n"
          ]
        }
      ],
      "source": [
        "# (1) Load test data\n",
        "batch_size = 2000\n",
        "num_training= 50000\n",
        "num_validation =10000\n",
        "\n",
        "\n",
        "root = './data'\n",
        "if not os.path.exists(root):\n",
        "    os.mkdir(root)\n",
        "trans = transforms.Compose([transforms.ToTensor(), transforms.Normalize((0.5,), (1.0,))])\n",
        "\n",
        "#trans = transforms.Compose([transforms.ToTensor(), transforms.Compose([transforms.ToTensor()]) ])\n",
        "\n",
        "\n",
        "# if not exist, download mnist dataset\n",
        "test_dataset = torchvision.datasets.MNIST(root=root, train=False, transform=trans, download=True) #this\n",
        "test_loader = torch.utils.data.DataLoader(dataset=test_dataset, batch_size=batch_size, shuffle=False)\n",
        "\n",
        "train_val_dataset = torchvision.datasets.MNIST(root=root, train=True, transform=trans, download=True)\n",
        "\n",
        "mask = list(range(num_training))\n",
        "train_dataset = torch.utils.data.Subset(train_val_dataset, mask)\n",
        "mask = list(range(num_training, num_training + num_validation))\n",
        "val_dataset = torch.utils.data.Subset(train_val_dataset, mask) \n",
        "\n",
        "train_loader = torch.utils.data.DataLoader(dataset=train_dataset, batch_size=batch_size, shuffle=True)\n",
        "val_loader = torch.utils.data.DataLoader(dataset=val_dataset, batch_size=batch_size, shuffle=False)\n",
        "\n",
        "\n",
        "\n",
        "print(len(test_loader.dataset), len(train_loader.dataset), len(val_loader.dataset))"
      ]
    },
    {
      "cell_type": "code",
      "execution_count": 13,
      "metadata": {
        "id": "zKiWh6zHs97J"
      },
      "outputs": [],
      "source": [
        "# (2) Define Model\n",
        "\n",
        "use_cuda=True\n",
        "\n",
        "# LeNet Model definition\n",
        "class Net(nn.Module):\n",
        "    def __init__(self, input_size, hidden_layers, num_classes):\n",
        "        super(Net, self).__init__()\n",
        "        self.layers = []\n",
        "        self.layers.append(nn.Conv2d(input_size,hidden_layers[0],5))\n",
        "        self.layers.append(nn.ReLU())\n",
        "        self.layers.append(nn.MaxPool2d(stride = 1, kernel_size = 2))\n",
        "        self.layers.append(nn.Dropout(0.5))\n",
        "        self.layers.append(nn.Conv2d(hidden_layers[0],hidden_layers[1],5))\n",
        "        self.layers.append(nn.ReLU())\n",
        "        self.layers.append(nn.MaxPool2d(kernel_size = 2, stride = 1))\n",
        "        self.layers.append(nn.Dropout(0.5))\n",
        "        #self.layers.append(nn.Linear(hidden_layers[1],num_classes))\n",
        "        self.layers = nn.Sequential(*self.layers)\n",
        "        #self.f = nn.flatten()\n",
        "        self.fc = nn.Sequential(nn.Linear(46656,num_classes))\n",
        "        # self.fc2 = nn.Sequential(nn.Softmax())\n",
        "        self.fullnn = [self.layers,self.fc]\n",
        "\n",
        "    def forward(self, x):\n",
        "     \n",
        "        x = self.layers(x)\n",
        "        x = x.view(x.size(0), -1)\n",
        "        out1 = (self.fc(x))\n",
        "      \n",
        "        return out1"
      ]
    },
    {
      "cell_type": "code",
      "execution_count": 14,
      "metadata": {
        "id": "CCvMKxsJLVUT"
      },
      "outputs": [],
      "source": [
        "# (4) Load undefended model\n",
        "\n",
        "pretrained_model =\"/content/best_modelyes.ckpt\"\n",
        "undefended_model = load_model(pretrained_model)"
      ]
    },
    {
      "cell_type": "code",
      "execution_count": null,
      "metadata": {
        "id": "bzJP_WGrvHtR"
      },
      "outputs": [],
      "source": [
        "def test_clean_data(test_loader_nn,model):\n",
        "   original = []\n",
        "   original_img = []\n",
        "   with torch.no_grad():\n",
        "      correct = 0\n",
        "      total = 0\n",
        "      for i, (images, labels) in enumerate(test_loader_nn):\n",
        "          \n",
        "          images = images.to(device)\n",
        "         \n",
        "          labels = labels.to(device)\n",
        "          outputs = model(images)\n",
        "          _, predicted = torch.max(outputs.data, 1)\n",
        "          total += labels.size(0)\n",
        "          correct += (predicted == labels).sum().item()\n",
        "          \n",
        "          for j in range(len(images)):\n",
        "            #print(predicted[j])\n",
        "            original.append((labels[j].item(), predicted[j].item()))\n",
        "            original_img.append(images[j].cpu().detach().numpy()  )\n",
        "          \n",
        "          # if total == 1000:\n",
        "          #     break\n",
        "      acc = 100 * correct / total\n",
        "      print\n",
        "      print('Accuracy of the network on the {} test images: {} %'.format(total, acc))\n",
        "   return test_loader_nn,original, original_img, acc"
      ]
    },
    {
      "cell_type": "code",
      "execution_count": null,
      "metadata": {
        "colab": {
          "base_uri": "https://localhost:8080/"
        },
        "id": "huh4UTa6uXuj",
        "outputId": "c63b3b42-bfb1-4511-e26f-de0068210378"
      },
      "outputs": [
        {
          "name": "stdout",
          "output_type": "stream",
          "text": [
            "Accuracy of the network on the 10000 test images: 98.63 %\n"
          ]
        }
      ],
      "source": [
        "# (5) Evaluate model\n",
        "\n",
        "test_loader,original, or_image, test_acc = test_clean_data(test_loader,undefended_model)"
      ]
    },
    {
      "cell_type": "markdown",
      "metadata": {
        "id": "DEQrdyLHsUIu"
      },
      "source": [
        "## 1.2: Implementing the FGSM attack (7 Points)\n",
        "\n",
        "We now want to attack the model trained in the previous step. We will start with the FGSM attack as a simple example. \n",
        "\n",
        "Please implement the FGSM attack mentioned in the lecture. \n",
        "\n",
        "More details: https://arxiv.org/pdf/1412.6572.pdf\n"
      ]
    },
    {
      "cell_type": "code",
      "execution_count": 15,
      "metadata": {
        "id": "gcVZnUNbRKOz"
      },
      "outputs": [],
      "source": [
        "#\n",
        "#\n",
        "# ------- Your Code -------\n",
        "#\n",
        "#\n",
        "\n",
        "# FGSM attack code\n",
        "def fgsm_attack(image, epsilon, data_grad):\n",
        "    # Collect the element-wise sign of the data gradient\n",
        "    sign_data_grad = data_grad.sign()\n",
        "    # Create the perturbed image by adjusting each pixel of the input image\n",
        "    perturbed_image = image + epsilon*sign_data_grad\n",
        "    # Adding clipping to maintain [0,1] range\n",
        "    perturbed_image = torch.clamp(perturbed_image, 0, 1)\n",
        "    # Return the perturbed image\n",
        "    return perturbed_image"
      ]
    },
    {
      "cell_type": "markdown",
      "metadata": {
        "id": "RNpI3oUoO1wE"
      },
      "source": [
        "## 1.3: Adversarial sample set (7 Points)\n",
        "\n",
        "* Please generate a dataset containing at least 1,000 adversarial examples using FGSM.\n",
        "\n",
        "* Please vary the perturbation budget (3 variants) and generate 1,000 adversarial examples for each. \n",
        "    * **Hint**: you can choose epsilons within, e.g., = [.05, .1, .15, .2, .25, .3],  using MNIST pixel values in the interval       [0, 1]\n",
        "\n",
        "* Compute the accuracy of each attack set. "
      ]
    },
    {
      "cell_type": "code",
      "execution_count": 16,
      "metadata": {
        "id": "6vxdJyECxcNK"
      },
      "outputs": [],
      "source": [
        "def test_FGSM_attack(model, device, test_loader, epsilon, dataset_size):\n",
        "\n",
        "    correct = 0\n",
        "    wrong = 0\n",
        "    adv_examples = []\n",
        "    total = 0\n",
        "    \n",
        "    for i, (data, target) in enumerate(test_loader):\n",
        "\n",
        "        data, target = data.to(device), target.to(device)\n",
        "        data.requires_grad = True\n",
        "\n",
        "        total += target.size(0)\n",
        "\n",
        "        # Forward pass\n",
        "        output = model(data)\n",
        "        init_pred = output.max(1, keepdim=True)[1]\n",
        "\n",
        "        # Don't attack if the initial prediction is wrong\n",
        "        for j in range(len(data)):\n",
        "          if init_pred[j].item() != target[j].item():\n",
        "            continue\n",
        "     \n",
        "        # Calculate the loss\n",
        "        #loss = F.cross_entropy(output, target)\n",
        "        loss = F.nll_loss(output, target)\n",
        "\n",
        "        # Zero all existing gradients\n",
        "        model.zero_grad()\n",
        "\n",
        "        # Calculate gradients of model in backward pass\n",
        "        loss.backward()\n",
        "       \n",
        "        # FGSM Attack\n",
        "        data_grad = data.grad.data\n",
        "        perturbed_data = fgsm_attack(data, epsilon, data_grad)\n",
        "        \n",
        "        output = model(perturbed_data)\n",
        "\n",
        "        # New prediction\n",
        "        final_pred = output.max(1, keepdim=True)[1]     \n",
        "        \n",
        "        for k in range(len(data)):\n",
        "          if final_pred[k].item() == target[k].item():\n",
        "            correct += 1\n",
        "          else:\n",
        "            wrong += 1\n",
        "            if len(adv_examples) < dataset_size:\n",
        "               adv_ex = perturbed_data.squeeze().detach().cpu().numpy()\n",
        "               adv_examples.append( (init_pred[k].item(), final_pred[k].item(), adv_ex[k]) )\n",
        "    \n",
        "    final_acc = 100*correct/total\n",
        "    print(\"Epsilon: {}\\tTest Accuracy = {} / {} = {}\".format(epsilon, correct, total, final_acc))\n",
        "   \n",
        "    return final_acc, adv_examples\n"
      ]
    },
    {
      "cell_type": "code",
      "execution_count": 17,
      "metadata": {
        "colab": {
          "base_uri": "https://localhost:8080/"
        },
        "id": "EvYpo9p2O1wF",
        "outputId": "6195675f-9b7f-4e5b-d673-79865699a00a"
      },
      "outputs": [
        {
          "name": "stdout",
          "output_type": "stream",
          "text": [
            "Epsilon: 0\tTest Accuracy = 8531 / 10000 = 85.31\n",
            "Time:  11.932476027999996\n",
            "Epsilon: 0.01\tTest Accuracy = 8375 / 10000 = 83.75\n",
            "Time:  11.664943382000047\n",
            "Epsilon: 0.03\tTest Accuracy = 7957 / 10000 = 79.57\n",
            "Time:  11.642783017999932\n",
            "Epsilon: 0.05\tTest Accuracy = 7525 / 10000 = 75.25\n",
            "Time:  11.65385254399996\n",
            "Epsilon: 0.15\tTest Accuracy = 4571 / 10000 = 45.71\n",
            "Time:  11.64627980399996\n",
            "Epsilon: 0.3\tTest Accuracy = 976 / 10000 = 9.76\n",
            "Time:  11.669021527999917\n"
          ]
        }
      ],
      "source": [
        "#\n",
        "#\n",
        "# ------- Your Code -------\n",
        "#\n",
        "#\n",
        "\n",
        "accuracies = []\n",
        "adv_samples = []\n",
        "\n",
        "# Run test for each epsilon\n",
        "for eps in epsilons:\n",
        "    start = timeit.default_timer()\n",
        "    acc, ex = test_FGSM_attack(undefended_model, device, test_loader, eps, dataset_size)\n",
        "    stop = timeit.default_timer()\n",
        "    print('Time: ', stop - start) \n",
        "    accuracies.append(acc)\n",
        "    adv_samples.append(ex)\n",
        "\n"
      ]
    },
    {
      "cell_type": "markdown",
      "metadata": {
        "id": "hXUSB-ky8T_N"
      },
      "source": [
        "Cross Entropy Loss:\n",
        "\n",
        "Epsilon: 0.01\tTest Accuracy = 8359 / 10000 = 83.59\n",
        "Time:  11.665727322000748\n",
        "Epsilon: 0.03\tTest Accuracy = 7928 / 10000 = 79.28\n",
        "Time:  11.575951467000777\n",
        "Epsilon: 0.05\tTest Accuracy = 7450 / 10000 = 74.5\n",
        "Time:  11.553219006998916\n",
        "Epsilon: 0.15\tTest Accuracy = 4053 / 10000 = 40.53\n",
        "Time:  11.544930741001735\n",
        "Epsilon: 0.3\tTest Accuracy = 643 / 10000 = 6.43\n",
        "Time:  11.549330224999721\n",
        "\n",
        "nll_loss:\n",
        "\n",
        "Epsilon: 0.01\tTest Accuracy = 8375 / 10000 = 83.75\n",
        "Time:  11.858709494998038\n",
        "Epsilon: 0.03\tTest Accuracy = 7957 / 10000 = 79.57\n",
        "Time:  11.619363142999646\n",
        "Epsilon: 0.05\tTest Accuracy = 7525 / 10000 = 75.25\n",
        "Time:  11.57044908700118\n",
        "Epsilon: 0.15\tTest Accuracy = 4571 / 10000 = 45.71\n",
        "Time:  11.5351735990007\n",
        "Epsilon: 0.3\tTest Accuracy = 976 / 10000 = 9.76\n",
        "Time:  11.582646882998233"
      ]
    },
    {
      "cell_type": "code",
      "execution_count": 67,
      "metadata": {
        "colab": {
          "base_uri": "https://localhost:8080/",
          "height": 295
        },
        "id": "Ht3t_k2aiZ6j",
        "outputId": "9a156fc8-7dc4-412a-9f54-664d4f383d9c"
      },
      "outputs": [
        {
          "data": {
            "image/png": "[encoded data removed]",
            "text/plain": [
              "<Figure size 432x288 with 1 Axes>"
            ]
          },
          "metadata": {
            "needs_background": "light"
          },
          "output_type": "display_data"
        }
      ],
      "source": [
        "plot_accuracy(epsilons, accuracies)"
      ]
    },
    {
      "cell_type": "markdown",
      "metadata": {
        "id": "Ex3qQp3JolD1"
      },
      "source": [
        "## 1.4: Visualizing the results (7 Points)\n",
        "\n",
        "* Please chose one sample for each class (for example the first when iterating the test data) and plot the (ten) adversarial examples as well as the predicted label (before and after the attack)\n",
        "\n",
        "* Please repeat the visualization for the three sets you have created "
      ]
    },
    {
      "cell_type": "code",
      "execution_count": 22,
      "metadata": {
        "colab": {
          "base_uri": "https://localhost:8080/",
          "height": 578
        },
        "id": "9_OfysXNV11v",
        "outputId": "b7c555e2-60f7-4481-9850-ff8779b710e1"
      },
      "outputs": [
        {
          "data": {
            "image/png": "[encoded data removed]",
            "text/plain": [
              "<Figure size 720x576 with 60 Axes>"
            ]
          },
          "metadata": {},
          "output_type": "display_data"
        }
      ],
      "source": [
        "visualize_ep(adv_samples)"
      ]
    },
    {
      "cell_type": "code",
      "execution_count": null,
      "metadata": {
        "id": "eGkp0B0PO1wJ"
      },
      "outputs": [],
      "source": [
        "#\n",
        "#\n",
        "# ------- Your Code -------\n",
        "#\n",
        "#\n",
        "\n",
        "# template code (Please feel free to change this)\n",
        "# (each column corresponds to one attack method)\n",
        "col_titles = ['Ori','FGSM','Method 1', 'Method 2'] \n",
        "\n",
        "nsamples = 10\n",
        "nrows = nsamples\n",
        "ncols = len(col_titles)\n",
        "\n",
        "fig, axes = plt.subplots(nrows,ncols,figsize=(8,12))  # create the figure with subplots\n",
        "[ax.set_axis_off() for ax in axes.ravel()]  # remove the axis\n",
        "\n",
        "for ax, col in zip(axes[0], col_titles): # set up the title for each column\n",
        "    ax.set_title(col,fontdict={'fontsize':18,'color':'b'})\n",
        "\n",
        "for i in range(nsamples):\n",
        "   \n",
        "    axes[i,0].imshow(images_ori[i])\n",
        "    axes[i,1].imshow(adv_FGSM[i])\n",
        "    axes[i,2].imshow(adv_Method1[i])\n",
        "    axes[i,3].imshow(adv_Method2[i])\n",
        "\n",
        "plt.tight_layout()\n",
        "plt.show()               "
      ]
    },
    {
      "cell_type": "markdown",
      "metadata": {
        "id": "n02Hepp4Gays"
      },
      "source": [
        "## 1.5: Analyzing the results (5 Points)\n",
        "\n",
        "Please write a brief summary of your findings.  \n",
        "\n",
        "* Does the attack always succeed (the model makes wrong prediction on the adversarial sample)? What is the relationship between the attack success rate and the perturbation budget?\n",
        "* How about the computation cost of the attack? (you can report the time in second) \n",
        "* Does the attack require white-box access to the model?\n",
        "* Feel free to report your results via tables or figures, and mention any other interesting observations \n",
        "\n"
      ]
    },
    {
      "cell_type": "markdown",
      "metadata": {
        "id": "aqgmoWj6Gays"
      },
      "source": [
        "**Your answers go here**"
      ]
    },
    {
      "cell_type": "markdown",
      "metadata": {
        "id": "KJUmrv5Bymij"
      },
      "source": [
        "# 2. Defending an ML model (35 points) \n",
        "\n",
        "So far, we have focused on attacking an ML model. In this section, we want you to defend your model. \n"
      ]
    },
    {
      "cell_type": "markdown",
      "metadata": {
        "id": "0gHUFK6Mymik"
      },
      "source": [
        "## 2.1: Implementing the adversarial training defense (20 Points)\n",
        "\n",
        "* We would like to ask you to implement the adversarial training defense (https://arxiv.org/pdf/1412.6572.pdf) mentioned in the lecture. \n",
        "\n",
        "* You can use the **FGSM adversarial training** method (i.e., train on FGSM examples). \n",
        "\n",
        "* You can also check the adversarial training implementation in other papers, e.g., http://proceedings.mlr.press/v97/pang19a/pang19a.pdf \n",
        "\n",
        "* Choose a certain **maximum perturbation budget** during training that is in the middle of the range you have experimented with before. \n",
        "\n",
        "* We do not require the defense to work perfectly - but what we want you to understand is why it works or why it does not work.\n",
        "\n",
        "**Hint:** You can save the checkpoint of the defended model as we would need it to for the third part of this exercise.\n"
      ]
    },
    {
      "cell_type": "code",
      "execution_count": null,
      "metadata": {
        "id": "DD0UalSeymim"
      },
      "outputs": [],
      "source": [
        "#\n",
        "#\n",
        "# ------- Your Code -------\n",
        "#\n",
        "#\n"
      ]
    },
    {
      "cell_type": "code",
      "execution_count": 34,
      "metadata": {
        "id": "T1FEG8IeKJP0"
      },
      "outputs": [],
      "source": [
        "def train_adv_model(epsilon, model, learning_rate, reg, train_loader_nn, val_loader_nn, best_accuracy, num_epochs, total_train, correct_train, total_train_adv, correct_train_adv, train_acc, val_accu_data,val_accu,learning_rate_decay,train_accu,loss_values):\n",
        "    # Loss and optimizer\n",
        "    criterion = nn.CrossEntropyLoss()\n",
        "    optimizer = torch.optim.Adam(model.parameters(), lr=learning_rate, weight_decay=reg)\n",
        "    lr = learning_rate\n",
        "    total_step = len(train_loader_nn)\n",
        "    # print(total_step)\n",
        "    for epoch in range(num_epochs):\n",
        "\n",
        "        for i, (images, labels) in enumerate(train_loader_nn):\n",
        "\n",
        "           images = images.to(device)\n",
        "           labels = labels.to(device)\n",
        "           images.requires_grad = True\n",
        "        \n",
        "           # Normal Training\n",
        "\n",
        "           # Forward pass\n",
        "           outputs = model(images)\n",
        "           loss = criterion(outputs, labels)\n",
        "\n",
        "           # Backward and optimize\n",
        "           optimizer.zero_grad()\n",
        "           loss.backward()\n",
        "           optimizer.step()\n",
        "                 \n",
        "\n",
        "           #Adversarial Training\n",
        "           data_grad = images.grad.data\n",
        "           perturbed_data = fgsm_attack(images, random.choice(epsilon), data_grad)\n",
        "\n",
        "           adv_outputs = model(perturbed_data)\n",
        "           loss = criterion(adv_outputs, labels)\n",
        "\n",
        "           # Backward and optimize\n",
        "           optimizer.zero_grad()\n",
        "           loss.backward()\n",
        "           optimizer.step()\n",
        "          \n",
        "\n",
        "           \n",
        "           if (i+1) % 25 == 0:\n",
        "              print('Epoch [{}/{}], Step [{}/{}], Loss: {:.4f}'.format(epoch+1, num_epochs, i+1, total_step, loss.item()))\n",
        "              _, predicted_train = torch.max(outputs.data, 1)\n",
        "              loss_values.append(loss.item())\n",
        "\n",
        "              total_train += labels.size(0)\n",
        "              correct_train += (predicted_train == labels).sum().item() \n",
        "\n",
        "              _, predicted_train_adv = torch.max(adv_outputs.data, 1)\n",
        "              loss_values.append(loss.item())\n",
        "\n",
        "              total_train_adv += labels.size(0)\n",
        "              correct_train_adv += (predicted_train_adv == labels).sum().item() \n",
        "              \n",
        "              \n",
        "               \n",
        "\n",
        "        train_accu.append(100 * correct_train / total_train)\n",
        "        train_accu_adv.append(100 * correct_train_adv / total_train_adv)\n",
        "        #print('Train accu: ', train_accu, 'Train adv accu: ', train_accu_adv)\n",
        "\n",
        "        correct_train = 0\n",
        "        total_train = 0\n",
        "        correct_train_adv = 0\n",
        "        total_train_adv = 0\n",
        "\n",
        "\n",
        "        # Code to update the lr\n",
        "        lr *= learning_rate_decay\n",
        "        update_lr(optimizer, lr)\n",
        "        model.eval()\n",
        "        \n",
        "        with torch.no_grad():\n",
        "          correct = 0\n",
        "          total = 0\n",
        "          for i, (images, labels) in enumerate(val_loader_nn):\n",
        "                  images = images.to(device)\n",
        "                  labels = labels.to(device)\n",
        "\n",
        "                  #images.requires_grad = True\n",
        "                  #data_grad = images.grad.data\n",
        "                  #perturbed_data = fgsm_attack(images, random.choice(epsilon), data_grad)\n",
        "                  outputs = model(perturbed_data)\n",
        "\n",
        "                  outputs = model(images)\n",
        "                  _, predicted = torch.max(outputs.data, 1)\n",
        "                  total += labels.size(0)\n",
        "                  correct += (predicted == labels).sum().item()\n",
        "                  #############\n",
        "          print('Validataion accuracy is: {} %'.format(100 * correct / total))\n",
        "           \n",
        "        val_accu_data = (100 * correct) / total\n",
        "        val_accu.append(val_accu_data)\n",
        "            \n",
        "            # if val_accu_data < last:\n",
        "            #     count+= 1\n",
        "            # else:\n",
        "            #     count = 0\n",
        "            # last = val_accu_data\n",
        "            # cur_accuracy = val_accu_data\n",
        "            # if val_accu_data > best_accuracy:\n",
        "            #     best_accuracy = val_accu_data\n",
        "            #     best_model = model\n",
        "            #     print(\"best\")\n",
        "            #     torch.save(best_model.state_dict(),'./best_model.ckpt')\n",
        "    \n",
        "\n",
        "        model.train()\n",
        "        \n",
        "    if(val_accu[num_epochs-1]> best_accuracy):\n",
        "        best_accuracy = val_accu[num_epochs-1]\n",
        "        torch.save(model.state_dict(),'./defended_model'+'.ckpt')                         \n",
        "        print(\"best model with val acc\"+ str(val_accu[num_epochs-1])+ \"is saved\")\n",
        "    return   val_accu, val_accu[num_epochs-1], train_accu, train_accu_adv, best_accuracy,loss_values"
      ]
    },
    {
      "cell_type": "code",
      "execution_count": 36,
      "metadata": {
        "id": "HNYhlfUaXzJa"
      },
      "outputs": [],
      "source": [
        "#initialization of weights for conv2d layers\n",
        "\n",
        "def weights_init(m):\n",
        "    if type(m) == nn.Conv2d:\n",
        "        m.weight.data.normal_(0.0, 1e-3)\n",
        "\n",
        "#update learning rate after one step of backprop        \n",
        "def update_lr(optimizer, lr):\n",
        "    for param_group in optimizer.param_groups:\n",
        "        param_group['lr'] = lr"
      ]
    },
    {
      "cell_type": "code",
      "execution_count": 38,
      "metadata": {
        "id": "p0JXCFuCHZjm"
      },
      "outputs": [],
      "source": [
        "input_size =  1\n",
        "hidden_layers = [20,144]\n",
        "num_classes = 10\n",
        "scratch_model = Net(input_size, hidden_layers, num_classes).to(device)"
      ]
    },
    {
      "cell_type": "code",
      "execution_count": 39,
      "metadata": {
        "colab": {
          "base_uri": "https://localhost:8080/"
        },
        "id": "7nQ-Eo4NQutq",
        "outputId": "950ba925-443c-41fd-b77f-578dbc22bbe7"
      },
      "outputs": [
        {
          "name": "stdout",
          "output_type": "stream",
          "text": [
            "Epoch [1/10], Step [25/25], Loss: 0.6181\n",
            "Validataion accuracy is: 92.87 %\n",
            "Epoch [2/10], Step [25/25], Loss: 0.9012\n",
            "Validataion accuracy is: 97.07 %\n",
            "Epoch [3/10], Step [25/25], Loss: 0.7283\n",
            "Validataion accuracy is: 97.88 %\n",
            "Epoch [4/10], Step [25/25], Loss: 0.1974\n",
            "Validataion accuracy is: 98.13 %\n",
            "Epoch [5/10], Step [25/25], Loss: 0.1929\n",
            "Validataion accuracy is: 98.39 %\n",
            "Epoch [6/10], Step [25/25], Loss: 0.3759\n",
            "Validataion accuracy is: 98.56 %\n",
            "Epoch [7/10], Step [25/25], Loss: 0.1570\n",
            "Validataion accuracy is: 98.62 %\n",
            "Epoch [8/10], Step [25/25], Loss: 0.3990\n",
            "Validataion accuracy is: 98.76 %\n",
            "Epoch [9/10], Step [25/25], Loss: 0.1143\n",
            "Validataion accuracy is: 98.77 %\n",
            "Epoch [10/10], Step [25/25], Loss: 0.0723\n",
            "Validataion accuracy is: 98.75 %\n",
            "best model with val acc98.75is saved\n"
          ]
        }
      ],
      "source": [
        "num_epochs =10\n",
        "learning_rate = 0.001\n",
        "reg = 0.001\n",
        "learning_rate_decay = 0.95\n",
        "best_accuracy = 0\n",
        "total_train = 0\n",
        "correct_train = 0\n",
        "total_train_adv = 0\n",
        "correct_train_adv = 0\n",
        "train_accu = []\n",
        "train_accu_adv = []\n",
        "val_accu = []\n",
        "val_accu_data = 0\n",
        "loss_values = []\n",
        "loss_ar = []\n",
        "loss_history = []\n",
        "\n",
        "\n",
        "val_acc_list, val_accu, train_accu, train_accu_adv, best, loss_history = train_adv_model(epsilon_budget, scratch_model, learning_rate, reg, train_loader, val_loader, best_accuracy, num_epochs,\n",
        "                                                                   total_train, correct_train, total_train_adv, correct_train_adv, train_accu, val_accu_data, val_accu, learning_rate_decay, train_accu, loss_values)\n",
        "  "
      ]
    },
    {
      "cell_type": "markdown",
      "metadata": {
        "id": "ZQnbj1ItrBCr"
      },
      "source": [
        "Epoch [1/10], Step [25/25], Loss: 0.1525\n",
        "Validataion accuracy is: 98.21 %\n",
        "Epoch [2/10], Step [25/25], Loss: 0.5885\n",
        "Validataion accuracy is: 98.56 %\n",
        "Epoch [3/10], Step [25/25], Loss: 0.1097\n",
        "Validataion accuracy is: 98.44 %\n",
        "Epoch [4/10], Step [25/25], Loss: 0.4534\n",
        "Validataion accuracy is: 98.78 %\n",
        "Epoch [5/10], Step [25/25], Loss: 0.0908\n",
        "Validataion accuracy is: 98.78 %\n",
        "Epoch [6/10], Step [25/25], Loss: 0.1000\n",
        "Validataion accuracy is: 98.86 %\n",
        "Epoch [7/10], Step [25/25], Loss: 0.1114\n",
        "Validataion accuracy is: 98.81 %\n",
        "Epoch [8/10], Step [25/25], Loss: 0.3744\n",
        "Validataion accuracy is: 98.78 %\n",
        "Epoch [9/10], Step [25/25], Loss: 0.3810\n",
        "Validataion accuracy is: 98.96 %\n",
        "Epoch [10/10], Step [25/25], Loss: 0.1308\n",
        "Validataion accuracy is: 98.96 %\n",
        "best model with val acc98.96is saved"
      ]
    },
    {
      "cell_type": "code",
      "execution_count": 41,
      "metadata": {
        "colab": {
          "base_uri": "https://localhost:8080/",
          "height": 312
        },
        "id": "nlu2nizLr9Qb",
        "outputId": "b06f5fd1-7be2-4d98-cc50-16d3e038e8fd"
      },
      "outputs": [
        {
          "data": {
            "text/plain": [
              "20"
            ]
          },
          "execution_count": 41,
          "metadata": {},
          "output_type": "execute_result"
        },
        {
          "data": {
            "image/png": "[encoded data removed]",
            "text/plain": [
              "<Figure size 432x288 with 1 Axes>"
            ]
          },
          "metadata": {
            "needs_background": "light"
          },
          "output_type": "display_data"
        }
      ],
      "source": [
        "#Loss\n",
        "plt.plot(loss_history)\n",
        "plt.title('Loss history of model ')\n",
        "plt.xlabel('Epochs')\n",
        "plt.ylabel('Loss')\n",
        "\n",
        "len(loss_history)"
      ]
    },
    {
      "cell_type": "markdown",
      "metadata": {
        "id": "JWu1A5vdGayt"
      },
      "source": [
        "## 2.2: Evaluation (10 Points)\n",
        "\n",
        "* Craft adversarial examples using the **defended** model. This entails at least 1,000 examples crafted via FGSM. \n",
        "    * Create one set using a budget that is **less than (within)** the one used in training.\n",
        "    * Create another set using a budget that is **higher than** the one used in training. \n",
        "    * You can use two values of epsilons from question 1.3 \n",
        "    \n",
        "* Evaluate the **defended** model on these two adversarial examples sets. \n"
      ]
    },
    {
      "cell_type": "code",
      "execution_count": null,
      "metadata": {
        "id": "IYToEOW_Gayt"
      },
      "outputs": [],
      "source": [
        "#\n",
        "#\n",
        "# ------- Your Code -------\n",
        "#\n",
        "#\n",
        "\n",
        "print('Accuracy on the lower-budget adversarial samples (FGSM) %.2f'%acc_FGSM1)\n",
        "print('Accuracy on the lower-budget adversarial samples (FGSM) after defense %.2f'%acc_FGSM_defend1)\n",
        "\n",
        "print('Accuracy on the higher-budget adversarial samples (FGSM) %.2f'%acc_FGSM2)\n",
        "print('Accuracy on the higher-budget adversarial samples (FGSM) after defense %.2f'%acc_FGSM_defend2)"
      ]
    },
    {
      "cell_type": "code",
      "execution_count": 56,
      "metadata": {
        "id": "lysGsulAE88h"
      },
      "outputs": [],
      "source": [
        "# Load defended trained model\n",
        "defended_pretrained_model = \"/content/defended_model.ckpt\"\n",
        "\n",
        "defended_model = load_model(defended_pretrained_model)"
      ]
    },
    {
      "cell_type": "code",
      "execution_count": 42,
      "metadata": {
        "id": "e_OCwVo3LnCH"
      },
      "outputs": [],
      "source": [
        "# Load defended trained model\n",
        "defended_model_scratch = \"/content/defended_model_scratch.ckpt\"\n",
        "\n",
        "defended_model_scratch = load_model(defended_model_scratch)"
      ]
    },
    {
      "cell_type": "code",
      "execution_count": 44,
      "metadata": {
        "colab": {
          "base_uri": "https://localhost:8080/"
        },
        "id": "cYCa3E68FMse",
        "outputId": "ea2a31eb-75ad-471e-9c57-a2d633aceede"
      },
      "outputs": [
        {
          "name": "stdout",
          "output_type": "stream",
          "text": [
            "Epsilon: 0\tTest Accuracy = 9845 / 10000 = 98.45\n",
            "Time:  11.767448561000037\n",
            "Epsilon: 0.01\tTest Accuracy = 9821 / 10000 = 98.21\n",
            "Time:  11.656499466999776\n",
            "Epsilon: 0.03\tTest Accuracy = 9768 / 10000 = 97.68\n",
            "Time:  11.66492348499969\n",
            "Epsilon: 0.05\tTest Accuracy = 9716 / 10000 = 97.16\n",
            "Time:  11.6666395379998\n",
            "Epsilon: 0.15\tTest Accuracy = 9182 / 10000 = 91.82\n",
            "Time:  11.66360101400005\n",
            "Epsilon: 0.3\tTest Accuracy = 6418 / 10000 = 64.18\n",
            "Time:  11.630163016000097\n"
          ]
        }
      ],
      "source": [
        "# Test defended model \n",
        "\n",
        "def_accuracies = []\n",
        "def_adv_samples = []\n",
        "\n",
        "# Run test for each epsilon\n",
        "for eps in epsilons:\n",
        "    start = timeit.default_timer()\n",
        "    acc, ex = test_FGSM_attack(defended_model_scratch, device, test_loader, eps, dataset_size)\n",
        "    stop = timeit.default_timer()\n",
        "    print('Time: ', stop - start) \n",
        "    def_accuracies.append(acc)\n",
        "    def_adv_samples.append(ex)"
      ]
    },
    {
      "cell_type": "code",
      "execution_count": 46,
      "metadata": {
        "colab": {
          "base_uri": "https://localhost:8080/",
          "height": 578
        },
        "id": "q4Nvir-aF_Go",
        "outputId": "db86c2d8-4101-4d1c-cd32-1d6128b70599"
      },
      "outputs": [
        {
          "data": {
            "image/png": "[encoded data removed]",
            "text/plain": [
              "<Figure size 720x576 with 60 Axes>"
            ]
          },
          "metadata": {},
          "output_type": "display_data"
        }
      ],
      "source": [
        "visualize_ep(def_adv_samples)"
      ]
    },
    {
      "cell_type": "code",
      "execution_count": 66,
      "metadata": {
        "colab": {
          "base_uri": "https://localhost:8080/",
          "height": 312
        },
        "id": "CwJ0iuWIGIfw",
        "outputId": "2d645874-75bd-4c0f-92d8-575846300f81"
      },
      "outputs": [
        {
          "data": {
            "text/plain": [
              "Text(0, 0.5, 'Accuracy')"
            ]
          },
          "execution_count": 66,
          "metadata": {},
          "output_type": "execute_result"
        },
        {
          "data": {
            "image/png": "[encoded data removed]",
            "text/plain": [
              "<Figure size 432x288 with 1 Axes>"
            ]
          },
          "metadata": {
            "needs_background": "light"
          },
          "output_type": "display_data"
        }
      ],
      "source": [
        "#Comparing accuracies\n",
        "plt.plot(epsilons, def_accuracies, \"*-\", label=\"Defended model accuracy\")\n",
        "plt.plot(epsilons, accuracies, \"*-\", label=\"Undefended model accuracy\")\n",
        "plt.legend(loc=\"lower left\")\n",
        "plt.title('Test Accuracy defending against FGSM attack')\n",
        "plt.xlabel('Epsilon')\n",
        "plt.ylabel('Accuracy')"
      ]
    },
    {
      "cell_type": "markdown",
      "metadata": {
        "id": "KvQesTdnGayu"
      },
      "source": [
        "## 2.3 Discussion (5 points)\n",
        "\n",
        "* How successful was the defense against the attack compared to the undefended model? How do you interpret the difference?\n",
        "* How did the two sets differ?"
      ]
    },
    {
      "cell_type": "markdown",
      "metadata": {
        "id": "i9SS-RX1Gayu"
      },
      "source": [
        "**Your answers go here**"
      ]
    },
    {
      "cell_type": "markdown",
      "metadata": {
        "id": "qy41EaC6Gayu"
      },
      "source": [
        "# 3: I-FGSM attack (35 points) \n",
        "\n",
        "* FGSM is one of the simplest and earliest attacks. Since then, many more advanced attacks have been proposed. \n",
        "* One of them is the Iterative-FGSM (https://arxiv.org/pdf/1607.02533.pdf), where the attack is repeated multiple times.\n",
        "* In this part, we ask you to please implement the iterative FGSM attack. \n",
        "\n"
      ]
    },
    {
      "cell_type": "markdown",
      "metadata": {
        "id": "KP_bP709Gayu"
      },
      "source": [
        "## 3.1: Implementing the I-FGSM attack (10 Points)\n",
        "\n",
        "**Hints**: \n",
        "\n",
        "* Your code should have an attack loop. At each step, the FGSM attack that you have implemented before is computed using a small step.\n",
        "* After each step, you should perform a per-pixel clipping to make sure the image is in the allowed range, and that the perturbation is within budget.\n"
      ]
    },
    {
      "cell_type": "code",
      "execution_count": null,
      "metadata": {
        "id": "ksSHy4FvGayu"
      },
      "outputs": [],
      "source": [
        "#\n",
        "#\n",
        "# ------- Your Code -------\n",
        "#\n",
        "#\n"
      ]
    },
    {
      "cell_type": "code",
      "execution_count": 48,
      "metadata": {
        "id": "fZ4SxijDYOgL"
      },
      "outputs": [],
      "source": [
        "# Also known as I-FGSM Attack\n",
        "def basic_iterative_attack(model, images, labels, eps, alpha, iters) :\n",
        "    \n",
        "    clamp_max = 1\n",
        "  \n",
        "    if iters == 0 :\n",
        "        # The paper said min(eps + 4, 1.25*eps) is used as iterations\n",
        "        iters = int(min(eps*255 + 4, 1.25*eps*255))\n",
        "        print(\"Iters: \", iters)\n",
        "        \n",
        "    for i in range(iters) :    \n",
        "        images.requires_grad = True\n",
        "        outputs = model(images)\n",
        "\n",
        "        model.zero_grad()\n",
        "        cost = F.cross_entropy(outputs, labels).to(device)\n",
        "        cost.backward()\n",
        "       \n",
        "        sign_data_grad = images.grad.data.sign()\n",
        "        attack_images = images + alpha*sign_data_grad\n",
        "        \n",
        "        # Clip attack images(X')\n",
        "        # min{255, X+eps, max{0, X-eps, X'}}\n",
        "        # = min{255, min{X+eps, max{max{0, X-eps}, X'}}}\n",
        "\n",
        "        \n",
        "        # a = max{0, X-eps}\n",
        "        a = torch.clamp(images - eps, min=0)\n",
        "        # b = max{a, X'}\n",
        "        b = (attack_images>=a).float()*attack_images + (a>attack_images).float()*a\n",
        "        # c = min{X+eps, b}\n",
        "        c = (b > images+eps).float()*(images+eps) + (images+eps >= b).float()*b\n",
        "        # d = min{255, c}\n",
        "\n",
        "       \n",
        "        images = torch.clamp(c, max=clamp_max).detach_()\n",
        "        \n",
        "            \n",
        "    return images"
      ]
    },
    {
      "cell_type": "code",
      "execution_count": 49,
      "metadata": {
        "id": "I-dlv8N7awZb"
      },
      "outputs": [],
      "source": [
        "def test_i_FGSM_attack( model, device, test_loader, epsilon, alpha, iters):\n",
        "\n",
        "    correct = 0\n",
        "    wrong = 0\n",
        "    adv_examples = []\n",
        "    init_pred = []\n",
        "    total = 0\n",
        "    \n",
        "    for i, (data, target) in enumerate(test_loader):\n",
        "\n",
        "        data, target = data.to(device), target.to(device)\n",
        "        #data.requires_grad = True\n",
        "\n",
        "        total += target.size(0)\n",
        "        \n",
        "        # Forward pass\n",
        "        output = model(data)\n",
        "        init_pred = output.max(1, keepdim=True)[1]\n",
        "\n",
        "        # Don't attack if the initial prediction is wrong\n",
        "        for j in range(len(data)):\n",
        "          if init_pred[j].item() != target[j].item():\n",
        "            continue\n",
        "             \n",
        "        # Calculate the loss\n",
        "        #loss = F.nll_loss(output, target)\n",
        "\n",
        "        # Zero all existing gradients\n",
        "        #model.zero_grad()\n",
        "\n",
        "        # Calculate gradients of model in backward pass\n",
        "        #loss.backward()\n",
        "       \n",
        "        # FGSM Attack\n",
        "        #data_grad = data.grad.data\n",
        "        #perturbed_data = fgsm_attack(data, epsilon, data_grad)\n",
        "        perturbed_data = basic_iterative_attack(model, data, target, epsilon, alpha, iters)\n",
        "        \n",
        "\n",
        "        output = model(perturbed_data)\n",
        "\n",
        "        # New prediction\n",
        "        final_pred = output.max(1, keepdim=True)[1]     \n",
        "        \n",
        "        for k in range(len(data)):\n",
        "          \n",
        "          if final_pred[k].item() == target[k].item():\n",
        "            correct += 1\n",
        "          else:\n",
        "            wrong += 1\n",
        "            \n",
        "            if len(adv_examples) < dataset_size:\n",
        "               adv_ex = perturbed_data.squeeze().detach().cpu().numpy()\n",
        "               adv_examples.append( (init_pred[k].item(), final_pred[k].item(), adv_ex[k]) )\n",
        "        \n",
        "    final_acc = 100*correct/total\n",
        "    print(\"Epsilon: {}\\tTest Accuracy = {} / {} = {}\".format(epsilon, correct, total, final_acc))\n",
        "   \n",
        "    return final_acc, adv_examples\n"
      ]
    },
    {
      "cell_type": "markdown",
      "metadata": {
        "id": "kZdKvh0qGayu"
      },
      "source": [
        "## 3.2: Attack the undefended model (5 Points)\n",
        "\n",
        "* We will first attack the **undefended model** (i.e., without adversarial training).\n",
        "\n",
        "* Choose one perturbation budget from Question **1.3** for comparison. \n",
        "\n",
        "    * Hint: A simple way to choose the small step is to divide the total budget by the number of steps (e.g., 10).\n",
        "\n",
        "* Please generate 1000 adversarial examples using the **undefended** model and the **I-FGSM** you implemented. \n",
        "\n",
        "* Please compute the accuracy of the adversarial set on the **undefended** model. "
      ]
    },
    {
      "cell_type": "code",
      "execution_count": null,
      "metadata": {
        "id": "qyxVl238Gayu"
      },
      "outputs": [],
      "source": [
        "#\n",
        "#\n",
        "# ------- Your Code -------\n",
        "#\n",
        "#\n"
      ]
    },
    {
      "cell_type": "code",
      "execution_count": 50,
      "metadata": {
        "colab": {
          "base_uri": "https://localhost:8080/"
        },
        "id": "gsVX6wvBdF6k",
        "outputId": "f28f466d-c2f5-42d4-eae9-71ba335aba1b"
      },
      "outputs": [
        {
          "name": "stdout",
          "output_type": "stream",
          "text": [
            "Epsilon: 0\tTest Accuracy = 9844 / 10000 = 98.44\n",
            "Time:  27.140283200999875\n",
            "Epsilon: 0.01\tTest Accuracy = 9821 / 10000 = 98.21\n",
            "Time:  26.985007701000086\n",
            "Epsilon: 0.03\tTest Accuracy = 9659 / 10000 = 96.59\n",
            "Time:  26.940079658000286\n",
            "Epsilon: 0.05\tTest Accuracy = 9392 / 10000 = 93.92\n",
            "Time:  27.147545245999936\n",
            "Epsilon: 0.15\tTest Accuracy = 2163 / 10000 = 21.63\n",
            "Time:  27.075982045999808\n",
            "Epsilon: 0.3\tTest Accuracy = 0 / 10000 = 0.0\n",
            "Time:  27.07683015800012\n"
          ]
        }
      ],
      "source": [
        "alpha = 1\n",
        "iters = 3\n",
        "\n",
        "i_accuracies = []\n",
        "i_adv_samples = []\n",
        "\n",
        "for eps in epsilons:\n",
        "      start = timeit.default_timer()\n",
        "      i_acc, i_ex = test_i_FGSM_attack(undefended_model, device, test_loader, eps, alpha, iters)\n",
        "      stop = timeit.default_timer()\n",
        "      print('Time: ', stop - start) \n",
        "      i_accuracies.append(i_acc)\n",
        "      i_adv_samples.append(i_ex)"
      ]
    },
    {
      "cell_type": "markdown",
      "metadata": {
        "id": "6PzzWGja6EBC"
      },
      "source": [
        "Alpha:  0.01\n",
        "Epsilon: 0.03\tTest Accuracy = 9780 / 10000 = 97.8\n",
        "Time:  26.846034820999193\n",
        "Epsilon: 0.05\tTest Accuracy = 9767 / 10000 = 97.67\n",
        "Time:  26.671735256999455\n",
        "Epsilon: 0.15\tTest Accuracy = 8777 / 10000 = 87.77\n",
        "Time:  26.612459320000198\n",
        "Epsilon: 0.3\tTest Accuracy = 7321 / 10000 = 73.21\n",
        "Time:  26.58964258299966\n",
        "Alpha:  0.1\n",
        "Epsilon: 0.03\tTest Accuracy = 9440 / 10000 = 94.4\n",
        "Time:  26.630646784999044\n",
        "Epsilon: 0.05\tTest Accuracy = 8529 / 10000 = 85.29\n",
        "Time:  26.674359378999725\n",
        "Epsilon: 0.15\tTest Accuracy = 299 / 10000 = 2.99\n",
        "Time:  26.58745281800111\n",
        "Epsilon: 0.3\tTest Accuracy = 13 / 10000 = 0.13\n",
        "Time:  26.592400249999628\n",
        "Alpha:  0.5\n",
        "Epsilon: 0.03\tTest Accuracy = 9440 / 10000 = 94.4\n",
        "Time:  26.601193934999174\n",
        "Epsilon: 0.05\tTest Accuracy = 8529 / 10000 = 85.29\n",
        "Time:  26.610644571001103\n",
        "Epsilon: 0.15\tTest Accuracy = 7 / 10000 = 0.07\n",
        "Time:  26.611473128999933\n",
        "Epsilon: 0.3\tTest Accuracy = 0 / 10000 = 0.0\n",
        "Time:  26.66198972299935\n",
        "Alpha:  1\n",
        "Epsilon: 0.03\tTest Accuracy = 9440 / 10000 = 94.4\n",
        "Time:  26.58092220400067\n",
        "Epsilon: 0.05\tTest Accuracy = 8529 / 10000 = 85.29\n",
        "Time:  26.653416377999747\n",
        "Epsilon: 0.15\tTest Accuracy = 7 / 10000 = 0.07\n",
        "Time:  26.634493793999354\n",
        "Epsilon: 0.3\tTest Accuracy = 0 / 10000 = 0.0\n",
        "Time:  26.60238400900016"
      ]
    },
    {
      "cell_type": "code",
      "execution_count": 65,
      "metadata": {
        "colab": {
          "base_uri": "https://localhost:8080/",
          "height": 295
        },
        "id": "2yJOQsB7Yqxq",
        "outputId": "3d7d8db9-13bd-4173-f7f1-b24f9821343c"
      },
      "outputs": [
        {
          "data": {
            "image/png": "[encoded data removed]",
            "text/plain": [
              "<Figure size 432x288 with 1 Axes>"
            ]
          },
          "metadata": {
            "needs_background": "light"
          },
          "output_type": "display_data"
        }
      ],
      "source": [
        "plot_accuracy(epsilons, i_accuracies)"
      ]
    },
    {
      "cell_type": "code",
      "execution_count": 64,
      "metadata": {
        "colab": {
          "base_uri": "https://localhost:8080/",
          "height": 578
        },
        "id": "HHGLewFK2PeQ",
        "outputId": "101173ea-b52a-47b6-ffe4-54ae8d74fa00"
      },
      "outputs": [
        {
          "data": {
            "image/png": "[encoded data removed]",
            "text/plain": [
              "<Figure size 720x576 with 60 Axes>"
            ]
          },
          "metadata": {},
          "output_type": "display_data"
        }
      ],
      "source": [
        "visualize_ep(i_adv_samples)"
      ]
    },
    {
      "cell_type": "markdown",
      "metadata": {
        "id": "gVETKEjsGayv"
      },
      "source": [
        "### 3.2.1: Findings and comparison with FGSM (8 points)\n",
        "\n",
        "* Please report your findings. How successful was the attack? \n",
        "\n",
        "* What do you expect when increasing the number of steps? (you can experiment with different parameters of the attack and report your findings) \n",
        "\n",
        "* Compare with the basic FGSM. Using the same perturbation budget and using the same model, which attack is more successful? Why do you think this is the case? What about the computation time?\n",
        "\n",
        "* Feel free to report any interesting observations. "
      ]
    },
    {
      "cell_type": "markdown",
      "metadata": {
        "id": "P_ivWKefGayv"
      },
      "source": [
        "**Your answers go here**"
      ]
    },
    {
      "cell_type": "markdown",
      "metadata": {
        "id": "sbekYKt7Gayv"
      },
      "source": [
        "## 3.3: Attack the defended model (5 poinst) \n",
        "\n",
        "* In the previous question, we attacked the **undefended model**. \n",
        "\n",
        "* Now, we want to explore how successful the previous implemented defense (FGSM adversarial training) is againts this new attack. (we will not implement a new defense here, we will be reusing your previous checkpoint of the **defended model**)\n",
        "\n",
        "\n",
        "* Use the **defended model** to create one set of adversarial examples. Use a perturbation budget from Question **2.2** for comparison.  "
      ]
    },
    {
      "cell_type": "code",
      "execution_count": 68,
      "metadata": {
        "colab": {
          "base_uri": "https://localhost:8080/"
        },
        "id": "5VxR6TOeGayv",
        "outputId": "16fed733-56db-4ffa-e734-5d253955e062"
      },
      "outputs": [
        {
          "name": "stdout",
          "output_type": "stream",
          "text": [
            "Epsilon: 0\tTest Accuracy = 9892 / 10000 = 98.92\n",
            "Time:  26.92619555300007\n",
            "Epsilon: 0.01\tTest Accuracy = 9838 / 10000 = 98.38\n",
            "Time:  26.68598758600001\n",
            "Epsilon: 0.03\tTest Accuracy = 9669 / 10000 = 96.69\n",
            "Time:  26.695963330999803\n",
            "Epsilon: 0.05\tTest Accuracy = 9313 / 10000 = 93.13\n",
            "Time:  26.731390816000385\n",
            "Epsilon: 0.15\tTest Accuracy = 1213 / 10000 = 12.13\n",
            "Time:  26.71026897399952\n",
            "Epsilon: 0.3\tTest Accuracy = 0 / 10000 = 0.0\n",
            "Time:  26.919272223999542\n"
          ]
        }
      ],
      "source": [
        "#\n",
        "#\n",
        "# ------- Your Code -------\n",
        "#\n",
        "#\n",
        "\n",
        "def_i_adv_accuracies = []\n",
        "def_i_adv_samples = []\n",
        "\n",
        "for eps in epsilons:\n",
        "      start = timeit.default_timer()\n",
        "      i_acc, i_ex = test_i_FGSM_attack(defended_model_scratch, device, test_loader, eps, alpha, iters)\n",
        "      stop = timeit.default_timer()\n",
        "      print('Time: ', stop - start) \n",
        "      def_i_adv_accuracies.append(i_acc)\n",
        "      def_i_adv_samples.append(i_ex)"
      ]
    },
    {
      "cell_type": "code",
      "execution_count": 69,
      "metadata": {
        "colab": {
          "base_uri": "https://localhost:8080/",
          "height": 312
        },
        "id": "N2pxPFn6RBqX",
        "outputId": "f28f33f0-f3d2-4d2e-aa5c-ca830f83c3de"
      },
      "outputs": [
        {
          "data": {
            "text/plain": [
              "Text(0, 0.5, 'Accuracy')"
            ]
          },
          "execution_count": 69,
          "metadata": {},
          "output_type": "execute_result"
        },
        {
          "data": {
            "image/png": "[encoded data removed]",
            "text/plain": [
              "<Figure size 432x288 with 1 Axes>"
            ]
          },
          "metadata": {
            "needs_background": "light"
          },
          "output_type": "display_data"
        }
      ],
      "source": [
        "# Comparing accuracies\n",
        "plt.plot(epsilons, def_i_adv_accuracies, \"*-\", label=\"Defended model accuracy\")\n",
        "plt.plot(epsilons, i_accuracies, \"*-\", label=\"Undefended model accuracy\")\n",
        "plt.legend(loc=\"upper right\")\n",
        "plt.title('Test Accuracy defending against I-FGSM attack')\n",
        "plt.xlabel('Epsilon')\n",
        "plt.ylabel('Accuracy')"
      ]
    },
    {
      "cell_type": "code",
      "execution_count": 70,
      "metadata": {
        "colab": {
          "base_uri": "https://localhost:8080/",
          "height": 312
        },
        "id": "46QJeSEdV0VN",
        "outputId": "2baebd61-68ab-410d-d869-56f0eb74f74c"
      },
      "outputs": [
        {
          "data": {
            "text/plain": [
              "Text(0, 0.5, 'Accuracy')"
            ]
          },
          "execution_count": 70,
          "metadata": {},
          "output_type": "execute_result"
        },
        {
          "data": {
            "image/png": "[encoded data removed]",
            "text/plain": [
              "<Figure size 432x288 with 1 Axes>"
            ]
          },
          "metadata": {
            "needs_background": "light"
          },
          "output_type": "display_data"
        }
      ],
      "source": [
        "# Comparing accuracies\n",
        "plt.plot(epsilons, i_accuracies,\"*-\", label=\"Undefended model accuracy I-FGSM\")\n",
        "plt.plot(epsilons, accuracies,\"*-\", label=\"Undefended model accuracy FGSM\")\n",
        "plt.legend(loc=\"upper right\")\n",
        "plt.title('Test Accuracy')\n",
        "plt.xlabel('Epsilon')\n",
        "plt.ylabel('Accuracy')"
      ]
    },
    {
      "cell_type": "markdown",
      "metadata": {
        "id": "VD6FXQqXGayv"
      },
      "source": [
        "### 3.3.1: Discussion (7 points) \n",
        "* Please report your results. How successful was the attack on the defended model? \n",
        "* Compare it with the success of the FGSM attack on the defended model. What do you observe? How do you interpret the difference? \n",
        "* How do you think you can improve the defense against I-FGSM attack?\n",
        "\n",
        "\n",
        "* Feel free to state any interesting findings you encountered during this project."
      ]
    },
    {
      "cell_type": "markdown",
      "metadata": {
        "id": "TfepDgVLGayv"
      },
      "source": [
        "**Your answers go here**"
      ]
    }
  ],
  "metadata": {
    "accelerator": "GPU",
    "colab": {
      "collapsed_sections": [],
      "name": "2021_11_12_Task_02 (1).ipynb",
      "provenance": []
    },
    "kernelspec": {
      "display_name": "Python 3 (ipykernel)",
      "language": "python",
      "name": "python3"
    },
    "language_info": {
      "codemirror_mode": {
        "name": "ipython",
        "version": 3
      },
      "file_extension": ".py",
      "mimetype": "text/x-python",
      "name": "python",
      "nbconvert_exporter": "python",
      "pygments_lexer": "ipython3",
      "version": "3.8.5"
    },
    "widgets": {
      "application/vnd.jupyter.widget-state+json": {
        "0308a2d343f14b1e95bc699b13cf3441": {
          "model_module": "@jupyter-widgets/base",
          "model_module_version": "1.2.0",
          "model_name": "LayoutModel",
          "state": {
            "_model_module": "@jupyter-widgets/base",
            "_model_module_version": "1.2.0",
            "_model_name": "LayoutModel",
            "_view_count": null,
            "_view_module": "@jupyter-widgets/base",
            "_view_module_version": "1.2.0",
            "_view_name": "LayoutView",
            "align_content": null,
            "align_items": null,
            "align_self": null,
            "border": null,
            "bottom": null,
            "display": null,
            "flex": null,
            "flex_flow": null,
            "grid_area": null,
            "grid_auto_columns": null,
            "grid_auto_flow": null,
            "grid_auto_rows": null,
            "grid_column": null,
            "grid_gap": null,
            "grid_row": null,
            "grid_template_areas": null,
            "grid_template_columns": null,
            "grid_template_rows": null,
            "height": null,
            "justify_content": null,
            "justify_items": null,
            "left": null,
            "margin": null,
            "max_height": null,
            "max_width": null,
            "min_height": null,
            "min_width": null,
            "object_fit": null,
            "object_position": null,
            "order": null,
            "overflow": null,
            "overflow_x": null,
            "overflow_y": null,
            "padding": null,
            "right": null,
            "top": null,
            "visibility": null,
            "width": null
          }
        },
        "03313a2ab43d41bdb95ef8d8c0330f31": {
          "model_module": "@jupyter-widgets/base",
          "model_module_version": "1.2.0",
          "model_name": "LayoutModel",
          "state": {
            "_model_module": "@jupyter-widgets/base",
            "_model_module_version": "1.2.0",
            "_model_name": "LayoutModel",
            "_view_count": null,
            "_view_module": "@jupyter-widgets/base",
            "_view_module_version": "1.2.0",
            "_view_name": "LayoutView",
            "align_content": null,
            "align_items": null,
            "align_self": null,
            "border": null,
            "bottom": null,
            "display": null,
            "flex": null,
            "flex_flow": null,
            "grid_area": null,
            "grid_auto_columns": null,
            "grid_auto_flow": null,
            "grid_auto_rows": null,
            "grid_column": null,
            "grid_gap": null,
            "grid_row": null,
            "grid_template_areas": null,
            "grid_template_columns": null,
            "grid_template_rows": null,
            "height": null,
            "justify_content": null,
            "justify_items": null,
            "left": null,
            "margin": null,
            "max_height": null,
            "max_width": null,
            "min_height": null,
            "min_width": null,
            "object_fit": null,
            "object_position": null,
            "order": null,
            "overflow": null,
            "overflow_x": null,
            "overflow_y": null,
            "padding": null,
            "right": null,
            "top": null,
            "visibility": null,
            "width": null
          }
        },
        "0510355240d14d1eae078dc208df8b5c": {
          "model_module": "@jupyter-widgets/base",
          "model_module_version": "1.2.0",
          "model_name": "LayoutModel",
          "state": {
            "_model_module": "@jupyter-widgets/base",
            "_model_module_version": "1.2.0",
            "_model_name": "LayoutModel",
            "_view_count": null,
            "_view_module": "@jupyter-widgets/base",
            "_view_module_version": "1.2.0",
            "_view_name": "LayoutView",
            "align_content": null,
            "align_items": null,
            "align_self": null,
            "border": null,
            "bottom": null,
            "display": null,
            "flex": null,
            "flex_flow": null,
            "grid_area": null,
            "grid_auto_columns": null,
            "grid_auto_flow": null,
            "grid_auto_rows": null,
            "grid_column": null,
            "grid_gap": null,
            "grid_row": null,
            "grid_template_areas": null,
            "grid_template_columns": null,
            "grid_template_rows": null,
            "height": null,
            "justify_content": null,
            "justify_items": null,
            "left": null,
            "margin": null,
            "max_height": null,
            "max_width": null,
            "min_height": null,
            "min_width": null,
            "object_fit": null,
            "object_position": null,
            "order": null,
            "overflow": null,
            "overflow_x": null,
            "overflow_y": null,
            "padding": null,
            "right": null,
            "top": null,
            "visibility": null,
            "width": null
          }
        },
        "1c684eb3bf33475486f07af6b4b2df00": {
          "model_module": "@jupyter-widgets/controls",
          "model_module_version": "1.5.0",
          "model_name": "HTMLModel",
          "state": {
            "_dom_classes": [],
            "_model_module": "@jupyter-widgets/controls",
            "_model_module_version": "1.5.0",
            "_model_name": "HTMLModel",
            "_view_count": null,
            "_view_module": "@jupyter-widgets/controls",
            "_view_module_version": "1.5.0",
            "_view_name": "HTMLView",
            "description": "",
            "description_tooltip": null,
            "layout": "IPY_MODEL_0308a2d343f14b1e95bc699b13cf3441",
            "placeholder": "​",
            "style": "IPY_MODEL_d9afc04b5d3d4ef88f787b02f78f54b4",
            "value": ""
          }
        },
        "29d2227918c7473abd346d90120a843e": {
          "model_module": "@jupyter-widgets/controls",
          "model_module_version": "1.5.0",
          "model_name": "DescriptionStyleModel",
          "state": {
            "_model_module": "@jupyter-widgets/controls",
            "_model_module_version": "1.5.0",
            "_model_name": "DescriptionStyleModel",
            "_view_count": null,
            "_view_module": "@jupyter-widgets/base",
            "_view_module_version": "1.2.0",
            "_view_name": "StyleView",
            "description_width": ""
          }
        },
        "2ea0d4815cfd41449f7882e954800fc5": {
          "model_module": "@jupyter-widgets/base",
          "model_module_version": "1.2.0",
          "model_name": "LayoutModel",
          "state": {
            "_model_module": "@jupyter-widgets/base",
            "_model_module_version": "1.2.0",
            "_model_name": "LayoutModel",
            "_view_count": null,
            "_view_module": "@jupyter-widgets/base",
            "_view_module_version": "1.2.0",
            "_view_name": "LayoutView",
            "align_content": null,
            "align_items": null,
            "align_self": null,
            "border": null,
            "bottom": null,
            "display": null,
            "flex": null,
            "flex_flow": null,
            "grid_area": null,
            "grid_auto_columns": null,
            "grid_auto_flow": null,
            "grid_auto_rows": null,
            "grid_column": null,
            "grid_gap": null,
            "grid_row": null,
            "grid_template_areas": null,
            "grid_template_columns": null,
            "grid_template_rows": null,
            "height": null,
            "justify_content": null,
            "justify_items": null,
            "left": null,
            "margin": null,
            "max_height": null,
            "max_width": null,
            "min_height": null,
            "min_width": null,
            "object_fit": null,
            "object_position": null,
            "order": null,
            "overflow": null,
            "overflow_x": null,
            "overflow_y": null,
            "padding": null,
            "right": null,
            "top": null,
            "visibility": null,
            "width": null
          }
        },
        "3f468461cf294c589288e381a5869a1c": {
          "model_module": "@jupyter-widgets/controls",
          "model_module_version": "1.5.0",
          "model_name": "DescriptionStyleModel",
          "state": {
            "_model_module": "@jupyter-widgets/controls",
            "_model_module_version": "1.5.0",
            "_model_name": "DescriptionStyleModel",
            "_view_count": null,
            "_view_module": "@jupyter-widgets/base",
            "_view_module_version": "1.2.0",
            "_view_name": "StyleView",
            "description_width": ""
          }
        },
        "3f6221fc350d4b698a85e2b59f2da665": {
          "model_module": "@jupyter-widgets/controls",
          "model_module_version": "1.5.0",
          "model_name": "HTMLModel",
          "state": {
            "_dom_classes": [],
            "_model_module": "@jupyter-widgets/controls",
            "_model_module_version": "1.5.0",
            "_model_name": "HTMLModel",
            "_view_count": null,
            "_view_module": "@jupyter-widgets/controls",
            "_view_module_version": "1.5.0",
            "_view_name": "HTMLView",
            "description": "",
            "description_tooltip": null,
            "layout": "IPY_MODEL_f125a5f00bd0498ead30448fd1853e06",
            "placeholder": "​",
            "style": "IPY_MODEL_a4654f99d0b94577be785b3612308f4f",
            "value": ""
          }
        },
        "45ae4f5fd19f40538579a826263ec39f": {
          "model_module": "@jupyter-widgets/base",
          "model_module_version": "1.2.0",
          "model_name": "LayoutModel",
          "state": {
            "_model_module": "@jupyter-widgets/base",
            "_model_module_version": "1.2.0",
            "_model_name": "LayoutModel",
            "_view_count": null,
            "_view_module": "@jupyter-widgets/base",
            "_view_module_version": "1.2.0",
            "_view_name": "LayoutView",
            "align_content": null,
            "align_items": null,
            "align_self": null,
            "border": null,
            "bottom": null,
            "display": null,
            "flex": null,
            "flex_flow": null,
            "grid_area": null,
            "grid_auto_columns": null,
            "grid_auto_flow": null,
            "grid_auto_rows": null,
            "grid_column": null,
            "grid_gap": null,
            "grid_row": null,
            "grid_template_areas": null,
            "grid_template_columns": null,
            "grid_template_rows": null,
            "height": null,
            "justify_content": null,
            "justify_items": null,
            "left": null,
            "margin": null,
            "max_height": null,
            "max_width": null,
            "min_height": null,
            "min_width": null,
            "object_fit": null,
            "object_position": null,
            "order": null,
            "overflow": null,
            "overflow_x": null,
            "overflow_y": null,
            "padding": null,
            "right": null,
            "top": null,
            "visibility": null,
            "width": null
          }
        },
        "469cb3cba4d44a97868d4506a552f123": {
          "model_module": "@jupyter-widgets/base",
          "model_module_version": "1.2.0",
          "model_name": "LayoutModel",
          "state": {
            "_model_module": "@jupyter-widgets/base",
            "_model_module_version": "1.2.0",
            "_model_name": "LayoutModel",
            "_view_count": null,
            "_view_module": "@jupyter-widgets/base",
            "_view_module_version": "1.2.0",
            "_view_name": "LayoutView",
            "align_content": null,
            "align_items": null,
            "align_self": null,
            "border": null,
            "bottom": null,
            "display": null,
            "flex": null,
            "flex_flow": null,
            "grid_area": null,
            "grid_auto_columns": null,
            "grid_auto_flow": null,
            "grid_auto_rows": null,
            "grid_column": null,
            "grid_gap": null,
            "grid_row": null,
            "grid_template_areas": null,
            "grid_template_columns": null,
            "grid_template_rows": null,
            "height": null,
            "justify_content": null,
            "justify_items": null,
            "left": null,
            "margin": null,
            "max_height": null,
            "max_width": null,
            "min_height": null,
            "min_width": null,
            "object_fit": null,
            "object_position": null,
            "order": null,
            "overflow": null,
            "overflow_x": null,
            "overflow_y": null,
            "padding": null,
            "right": null,
            "top": null,
            "visibility": null,
            "width": null
          }
        },
        "50629a4483b24186947f3ff4f50491f0": {
          "model_module": "@jupyter-widgets/controls",
          "model_module_version": "1.5.0",
          "model_name": "ProgressStyleModel",
          "state": {
            "_model_module": "@jupyter-widgets/controls",
            "_model_module_version": "1.5.0",
            "_model_name": "ProgressStyleModel",
            "_view_count": null,
            "_view_module": "@jupyter-widgets/base",
            "_view_module_version": "1.2.0",
            "_view_name": "StyleView",
            "bar_color": null,
            "description_width": ""
          }
        },
        "557191c6ee314a43ab1276f5963f3d07": {
          "model_module": "@jupyter-widgets/controls",
          "model_module_version": "1.5.0",
          "model_name": "FloatProgressModel",
          "state": {
            "_dom_classes": [],
            "_model_module": "@jupyter-widgets/controls",
            "_model_module_version": "1.5.0",
            "_model_name": "FloatProgressModel",
            "_view_count": null,
            "_view_module": "@jupyter-widgets/controls",
            "_view_module_version": "1.5.0",
            "_view_name": "ProgressView",
            "bar_style": "success",
            "description": "",
            "description_tooltip": null,
            "layout": "IPY_MODEL_f08a77eabce74221aef641578ba0a8c5",
            "max": 1648877,
            "min": 0,
            "orientation": "horizontal",
            "style": "IPY_MODEL_f33ef140889941ec90b6b4e073597b44",
            "value": 1648877
          }
        },
        "591c492501f141a2a7fddce6ad2b8283": {
          "model_module": "@jupyter-widgets/base",
          "model_module_version": "1.2.0",
          "model_name": "LayoutModel",
          "state": {
            "_model_module": "@jupyter-widgets/base",
            "_model_module_version": "1.2.0",
            "_model_name": "LayoutModel",
            "_view_count": null,
            "_view_module": "@jupyter-widgets/base",
            "_view_module_version": "1.2.0",
            "_view_name": "LayoutView",
            "align_content": null,
            "align_items": null,
            "align_self": null,
            "border": null,
            "bottom": null,
            "display": null,
            "flex": null,
            "flex_flow": null,
            "grid_area": null,
            "grid_auto_columns": null,
            "grid_auto_flow": null,
            "grid_auto_rows": null,
            "grid_column": null,
            "grid_gap": null,
            "grid_row": null,
            "grid_template_areas": null,
            "grid_template_columns": null,
            "grid_template_rows": null,
            "height": null,
            "justify_content": null,
            "justify_items": null,
            "left": null,
            "margin": null,
            "max_height": null,
            "max_width": null,
            "min_height": null,
            "min_width": null,
            "object_fit": null,
            "object_position": null,
            "order": null,
            "overflow": null,
            "overflow_x": null,
            "overflow_y": null,
            "padding": null,
            "right": null,
            "top": null,
            "visibility": null,
            "width": null
          }
        },
        "5ca91dbc052e4a0789a33adf4c9d37a0": {
          "model_module": "@jupyter-widgets/controls",
          "model_module_version": "1.5.0",
          "model_name": "ProgressStyleModel",
          "state": {
            "_model_module": "@jupyter-widgets/controls",
            "_model_module_version": "1.5.0",
            "_model_name": "ProgressStyleModel",
            "_view_count": null,
            "_view_module": "@jupyter-widgets/base",
            "_view_module_version": "1.2.0",
            "_view_name": "StyleView",
            "bar_color": null,
            "description_width": ""
          }
        },
        "5cb21b8e44e14386a4236354f7e5c21e": {
          "model_module": "@jupyter-widgets/controls",
          "model_module_version": "1.5.0",
          "model_name": "HBoxModel",
          "state": {
            "_dom_classes": [],
            "_model_module": "@jupyter-widgets/controls",
            "_model_module_version": "1.5.0",
            "_model_name": "HBoxModel",
            "_view_count": null,
            "_view_module": "@jupyter-widgets/controls",
            "_view_module_version": "1.5.0",
            "_view_name": "HBoxView",
            "box_style": "",
            "children": [
              "IPY_MODEL_8498290f2b224e2e94168d93c55161ec",
              "IPY_MODEL_d5507cb65987497393b2f5ec8ca49ec5",
              "IPY_MODEL_87cc7262f15044498481b20149cdcf77"
            ],
            "layout": "IPY_MODEL_03313a2ab43d41bdb95ef8d8c0330f31"
          }
        },
        "616c838fff664db087cf518fd47e4287": {
          "model_module": "@jupyter-widgets/controls",
          "model_module_version": "1.5.0",
          "model_name": "HTMLModel",
          "state": {
            "_dom_classes": [],
            "_model_module": "@jupyter-widgets/controls",
            "_model_module_version": "1.5.0",
            "_model_name": "HTMLModel",
            "_view_count": null,
            "_view_module": "@jupyter-widgets/controls",
            "_view_module_version": "1.5.0",
            "_view_name": "HTMLView",
            "description": "",
            "description_tooltip": null,
            "layout": "IPY_MODEL_ec8822ee4cbc43c3b95944afefadf4c2",
            "placeholder": "​",
            "style": "IPY_MODEL_e4b8fb49176e490f989a7ab563350fc0",
            "value": " 9913344/? [00:00&lt;00:00, 45520607.33it/s]"
          }
        },
        "6816f94202c346b0a0cb29cde4a05bfb": {
          "model_module": "@jupyter-widgets/base",
          "model_module_version": "1.2.0",
          "model_name": "LayoutModel",
          "state": {
            "_model_module": "@jupyter-widgets/base",
            "_model_module_version": "1.2.0",
            "_model_name": "LayoutModel",
            "_view_count": null,
            "_view_module": "@jupyter-widgets/base",
            "_view_module_version": "1.2.0",
            "_view_name": "LayoutView",
            "align_content": null,
            "align_items": null,
            "align_self": null,
            "border": null,
            "bottom": null,
            "display": null,
            "flex": null,
            "flex_flow": null,
            "grid_area": null,
            "grid_auto_columns": null,
            "grid_auto_flow": null,
            "grid_auto_rows": null,
            "grid_column": null,
            "grid_gap": null,
            "grid_row": null,
            "grid_template_areas": null,
            "grid_template_columns": null,
            "grid_template_rows": null,
            "height": null,
            "justify_content": null,
            "justify_items": null,
            "left": null,
            "margin": null,
            "max_height": null,
            "max_width": null,
            "min_height": null,
            "min_width": null,
            "object_fit": null,
            "object_position": null,
            "order": null,
            "overflow": null,
            "overflow_x": null,
            "overflow_y": null,
            "padding": null,
            "right": null,
            "top": null,
            "visibility": null,
            "width": null
          }
        },
        "6c8f0e0f97f24c66b0a0fdc77ba28773": {
          "model_module": "@jupyter-widgets/controls",
          "model_module_version": "1.5.0",
          "model_name": "HBoxModel",
          "state": {
            "_dom_classes": [],
            "_model_module": "@jupyter-widgets/controls",
            "_model_module_version": "1.5.0",
            "_model_name": "HBoxModel",
            "_view_count": null,
            "_view_module": "@jupyter-widgets/controls",
            "_view_module_version": "1.5.0",
            "_view_name": "HBoxView",
            "box_style": "",
            "children": [
              "IPY_MODEL_718d65c934584ff2afe926c0b58d346c",
              "IPY_MODEL_557191c6ee314a43ab1276f5963f3d07",
              "IPY_MODEL_cf103b63cbbe4046bf4397eea0c2f9d8"
            ],
            "layout": "IPY_MODEL_6816f94202c346b0a0cb29cde4a05bfb"
          }
        },
        "6ef4687c7adf4fed8683aa2336024f83": {
          "model_module": "@jupyter-widgets/base",
          "model_module_version": "1.2.0",
          "model_name": "LayoutModel",
          "state": {
            "_model_module": "@jupyter-widgets/base",
            "_model_module_version": "1.2.0",
            "_model_name": "LayoutModel",
            "_view_count": null,
            "_view_module": "@jupyter-widgets/base",
            "_view_module_version": "1.2.0",
            "_view_name": "LayoutView",
            "align_content": null,
            "align_items": null,
            "align_self": null,
            "border": null,
            "bottom": null,
            "display": null,
            "flex": null,
            "flex_flow": null,
            "grid_area": null,
            "grid_auto_columns": null,
            "grid_auto_flow": null,
            "grid_auto_rows": null,
            "grid_column": null,
            "grid_gap": null,
            "grid_row": null,
            "grid_template_areas": null,
            "grid_template_columns": null,
            "grid_template_rows": null,
            "height": null,
            "justify_content": null,
            "justify_items": null,
            "left": null,
            "margin": null,
            "max_height": null,
            "max_width": null,
            "min_height": null,
            "min_width": null,
            "object_fit": null,
            "object_position": null,
            "order": null,
            "overflow": null,
            "overflow_x": null,
            "overflow_y": null,
            "padding": null,
            "right": null,
            "top": null,
            "visibility": null,
            "width": null
          }
        },
        "718d65c934584ff2afe926c0b58d346c": {
          "model_module": "@jupyter-widgets/controls",
          "model_module_version": "1.5.0",
          "model_name": "HTMLModel",
          "state": {
            "_dom_classes": [],
            "_model_module": "@jupyter-widgets/controls",
            "_model_module_version": "1.5.0",
            "_model_name": "HTMLModel",
            "_view_count": null,
            "_view_module": "@jupyter-widgets/controls",
            "_view_module_version": "1.5.0",
            "_view_name": "HTMLView",
            "description": "",
            "description_tooltip": null,
            "layout": "IPY_MODEL_cc23e47d90fa4b8e9d7ae43c6570ac78",
            "placeholder": "​",
            "style": "IPY_MODEL_749de9e10d364455bb7813d336c6f10a",
            "value": ""
          }
        },
        "749de9e10d364455bb7813d336c6f10a": {
          "model_module": "@jupyter-widgets/controls",
          "model_module_version": "1.5.0",
          "model_name": "DescriptionStyleModel",
          "state": {
            "_model_module": "@jupyter-widgets/controls",
            "_model_module_version": "1.5.0",
            "_model_name": "DescriptionStyleModel",
            "_view_count": null,
            "_view_module": "@jupyter-widgets/base",
            "_view_module_version": "1.2.0",
            "_view_name": "StyleView",
            "description_width": ""
          }
        },
        "8498290f2b224e2e94168d93c55161ec": {
          "model_module": "@jupyter-widgets/controls",
          "model_module_version": "1.5.0",
          "model_name": "HTMLModel",
          "state": {
            "_dom_classes": [],
            "_model_module": "@jupyter-widgets/controls",
            "_model_module_version": "1.5.0",
            "_model_name": "HTMLModel",
            "_view_count": null,
            "_view_module": "@jupyter-widgets/controls",
            "_view_module_version": "1.5.0",
            "_view_name": "HTMLView",
            "description": "",
            "description_tooltip": null,
            "layout": "IPY_MODEL_2ea0d4815cfd41449f7882e954800fc5",
            "placeholder": "​",
            "style": "IPY_MODEL_952c874839ec47d0b6edfa9ebd46f4ef",
            "value": ""
          }
        },
        "87cc7262f15044498481b20149cdcf77": {
          "model_module": "@jupyter-widgets/controls",
          "model_module_version": "1.5.0",
          "model_name": "HTMLModel",
          "state": {
            "_dom_classes": [],
            "_model_module": "@jupyter-widgets/controls",
            "_model_module_version": "1.5.0",
            "_model_name": "HTMLModel",
            "_view_count": null,
            "_view_module": "@jupyter-widgets/controls",
            "_view_module_version": "1.5.0",
            "_view_name": "HTMLView",
            "description": "",
            "description_tooltip": null,
            "layout": "IPY_MODEL_0510355240d14d1eae078dc208df8b5c",
            "placeholder": "​",
            "style": "IPY_MODEL_29d2227918c7473abd346d90120a843e",
            "value": " 5120/? [00:00&lt;00:00, 126071.17it/s]"
          }
        },
        "88752b592e7a4c1a961f4b1ceefd2c81": {
          "model_module": "@jupyter-widgets/controls",
          "model_module_version": "1.5.0",
          "model_name": "ProgressStyleModel",
          "state": {
            "_model_module": "@jupyter-widgets/controls",
            "_model_module_version": "1.5.0",
            "_model_name": "ProgressStyleModel",
            "_view_count": null,
            "_view_module": "@jupyter-widgets/base",
            "_view_module_version": "1.2.0",
            "_view_name": "StyleView",
            "bar_color": null,
            "description_width": ""
          }
        },
        "952c874839ec47d0b6edfa9ebd46f4ef": {
          "model_module": "@jupyter-widgets/controls",
          "model_module_version": "1.5.0",
          "model_name": "DescriptionStyleModel",
          "state": {
            "_model_module": "@jupyter-widgets/controls",
            "_model_module_version": "1.5.0",
            "_model_name": "DescriptionStyleModel",
            "_view_count": null,
            "_view_module": "@jupyter-widgets/base",
            "_view_module_version": "1.2.0",
            "_view_name": "StyleView",
            "description_width": ""
          }
        },
        "9ba607feba424e98aad15c110e53d461": {
          "model_module": "@jupyter-widgets/controls",
          "model_module_version": "1.5.0",
          "model_name": "HBoxModel",
          "state": {
            "_dom_classes": [],
            "_model_module": "@jupyter-widgets/controls",
            "_model_module_version": "1.5.0",
            "_model_name": "HBoxModel",
            "_view_count": null,
            "_view_module": "@jupyter-widgets/controls",
            "_view_module_version": "1.5.0",
            "_view_name": "HBoxView",
            "box_style": "",
            "children": [
              "IPY_MODEL_1c684eb3bf33475486f07af6b4b2df00",
              "IPY_MODEL_a75f090627794e198c69abc1017d07b7",
              "IPY_MODEL_616c838fff664db087cf518fd47e4287"
            ],
            "layout": "IPY_MODEL_45ae4f5fd19f40538579a826263ec39f"
          }
        },
        "a2c7878489334aaeb0d52c2d9b8b224f": {
          "model_module": "@jupyter-widgets/controls",
          "model_module_version": "1.5.0",
          "model_name": "HBoxModel",
          "state": {
            "_dom_classes": [],
            "_model_module": "@jupyter-widgets/controls",
            "_model_module_version": "1.5.0",
            "_model_name": "HBoxModel",
            "_view_count": null,
            "_view_module": "@jupyter-widgets/controls",
            "_view_module_version": "1.5.0",
            "_view_name": "HBoxView",
            "box_style": "",
            "children": [
              "IPY_MODEL_3f6221fc350d4b698a85e2b59f2da665",
              "IPY_MODEL_bdcd7ccc15004124a4e355bb9227f16a",
              "IPY_MODEL_b5c75ac22eaa4d2782a9d47b2c09df07"
            ],
            "layout": "IPY_MODEL_6ef4687c7adf4fed8683aa2336024f83"
          }
        },
        "a4654f99d0b94577be785b3612308f4f": {
          "model_module": "@jupyter-widgets/controls",
          "model_module_version": "1.5.0",
          "model_name": "DescriptionStyleModel",
          "state": {
            "_model_module": "@jupyter-widgets/controls",
            "_model_module_version": "1.5.0",
            "_model_name": "DescriptionStyleModel",
            "_view_count": null,
            "_view_module": "@jupyter-widgets/base",
            "_view_module_version": "1.2.0",
            "_view_name": "StyleView",
            "description_width": ""
          }
        },
        "a75f090627794e198c69abc1017d07b7": {
          "model_module": "@jupyter-widgets/controls",
          "model_module_version": "1.5.0",
          "model_name": "FloatProgressModel",
          "state": {
            "_dom_classes": [],
            "_model_module": "@jupyter-widgets/controls",
            "_model_module_version": "1.5.0",
            "_model_name": "FloatProgressModel",
            "_view_count": null,
            "_view_module": "@jupyter-widgets/controls",
            "_view_module_version": "1.5.0",
            "_view_name": "ProgressView",
            "bar_style": "success",
            "description": "",
            "description_tooltip": null,
            "layout": "IPY_MODEL_e0b1349c90b342449a9662d3c1790124",
            "max": 9912422,
            "min": 0,
            "orientation": "horizontal",
            "style": "IPY_MODEL_5ca91dbc052e4a0789a33adf4c9d37a0",
            "value": 9912422
          }
        },
        "b311feffb0cb4a4a98b6bc72ae48e424": {
          "model_module": "@jupyter-widgets/base",
          "model_module_version": "1.2.0",
          "model_name": "LayoutModel",
          "state": {
            "_model_module": "@jupyter-widgets/base",
            "_model_module_version": "1.2.0",
            "_model_name": "LayoutModel",
            "_view_count": null,
            "_view_module": "@jupyter-widgets/base",
            "_view_module_version": "1.2.0",
            "_view_name": "LayoutView",
            "align_content": null,
            "align_items": null,
            "align_self": null,
            "border": null,
            "bottom": null,
            "display": null,
            "flex": null,
            "flex_flow": null,
            "grid_area": null,
            "grid_auto_columns": null,
            "grid_auto_flow": null,
            "grid_auto_rows": null,
            "grid_column": null,
            "grid_gap": null,
            "grid_row": null,
            "grid_template_areas": null,
            "grid_template_columns": null,
            "grid_template_rows": null,
            "height": null,
            "justify_content": null,
            "justify_items": null,
            "left": null,
            "margin": null,
            "max_height": null,
            "max_width": null,
            "min_height": null,
            "min_width": null,
            "object_fit": null,
            "object_position": null,
            "order": null,
            "overflow": null,
            "overflow_x": null,
            "overflow_y": null,
            "padding": null,
            "right": null,
            "top": null,
            "visibility": null,
            "width": null
          }
        },
        "b5c75ac22eaa4d2782a9d47b2c09df07": {
          "model_module": "@jupyter-widgets/controls",
          "model_module_version": "1.5.0",
          "model_name": "HTMLModel",
          "state": {
            "_dom_classes": [],
            "_model_module": "@jupyter-widgets/controls",
            "_model_module_version": "1.5.0",
            "_model_name": "HTMLModel",
            "_view_count": null,
            "_view_module": "@jupyter-widgets/controls",
            "_view_module_version": "1.5.0",
            "_view_name": "HTMLView",
            "description": "",
            "description_tooltip": null,
            "layout": "IPY_MODEL_bc854ef9051246ffb2c02e5d800c43c4",
            "placeholder": "​",
            "style": "IPY_MODEL_d3da4b08380f4112bba917f9a440b5e0",
            "value": " 29696/? [00:00&lt;00:00, 717522.72it/s]"
          }
        },
        "bc854ef9051246ffb2c02e5d800c43c4": {
          "model_module": "@jupyter-widgets/base",
          "model_module_version": "1.2.0",
          "model_name": "LayoutModel",
          "state": {
            "_model_module": "@jupyter-widgets/base",
            "_model_module_version": "1.2.0",
            "_model_name": "LayoutModel",
            "_view_count": null,
            "_view_module": "@jupyter-widgets/base",
            "_view_module_version": "1.2.0",
            "_view_name": "LayoutView",
            "align_content": null,
            "align_items": null,
            "align_self": null,
            "border": null,
            "bottom": null,
            "display": null,
            "flex": null,
            "flex_flow": null,
            "grid_area": null,
            "grid_auto_columns": null,
            "grid_auto_flow": null,
            "grid_auto_rows": null,
            "grid_column": null,
            "grid_gap": null,
            "grid_row": null,
            "grid_template_areas": null,
            "grid_template_columns": null,
            "grid_template_rows": null,
            "height": null,
            "justify_content": null,
            "justify_items": null,
            "left": null,
            "margin": null,
            "max_height": null,
            "max_width": null,
            "min_height": null,
            "min_width": null,
            "object_fit": null,
            "object_position": null,
            "order": null,
            "overflow": null,
            "overflow_x": null,
            "overflow_y": null,
            "padding": null,
            "right": null,
            "top": null,
            "visibility": null,
            "width": null
          }
        },
        "bdcd7ccc15004124a4e355bb9227f16a": {
          "model_module": "@jupyter-widgets/controls",
          "model_module_version": "1.5.0",
          "model_name": "FloatProgressModel",
          "state": {
            "_dom_classes": [],
            "_model_module": "@jupyter-widgets/controls",
            "_model_module_version": "1.5.0",
            "_model_name": "FloatProgressModel",
            "_view_count": null,
            "_view_module": "@jupyter-widgets/controls",
            "_view_module_version": "1.5.0",
            "_view_name": "ProgressView",
            "bar_style": "success",
            "description": "",
            "description_tooltip": null,
            "layout": "IPY_MODEL_469cb3cba4d44a97868d4506a552f123",
            "max": 28881,
            "min": 0,
            "orientation": "horizontal",
            "style": "IPY_MODEL_88752b592e7a4c1a961f4b1ceefd2c81",
            "value": 28881
          }
        },
        "cc23e47d90fa4b8e9d7ae43c6570ac78": {
          "model_module": "@jupyter-widgets/base",
          "model_module_version": "1.2.0",
          "model_name": "LayoutModel",
          "state": {
            "_model_module": "@jupyter-widgets/base",
            "_model_module_version": "1.2.0",
            "_model_name": "LayoutModel",
            "_view_count": null,
            "_view_module": "@jupyter-widgets/base",
            "_view_module_version": "1.2.0",
            "_view_name": "LayoutView",
            "align_content": null,
            "align_items": null,
            "align_self": null,
            "border": null,
            "bottom": null,
            "display": null,
            "flex": null,
            "flex_flow": null,
            "grid_area": null,
            "grid_auto_columns": null,
            "grid_auto_flow": null,
            "grid_auto_rows": null,
            "grid_column": null,
            "grid_gap": null,
            "grid_row": null,
            "grid_template_areas": null,
            "grid_template_columns": null,
            "grid_template_rows": null,
            "height": null,
            "justify_content": null,
            "justify_items": null,
            "left": null,
            "margin": null,
            "max_height": null,
            "max_width": null,
            "min_height": null,
            "min_width": null,
            "object_fit": null,
            "object_position": null,
            "order": null,
            "overflow": null,
            "overflow_x": null,
            "overflow_y": null,
            "padding": null,
            "right": null,
            "top": null,
            "visibility": null,
            "width": null
          }
        },
        "cf103b63cbbe4046bf4397eea0c2f9d8": {
          "model_module": "@jupyter-widgets/controls",
          "model_module_version": "1.5.0",
          "model_name": "HTMLModel",
          "state": {
            "_dom_classes": [],
            "_model_module": "@jupyter-widgets/controls",
            "_model_module_version": "1.5.0",
            "_model_name": "HTMLModel",
            "_view_count": null,
            "_view_module": "@jupyter-widgets/controls",
            "_view_module_version": "1.5.0",
            "_view_name": "HTMLView",
            "description": "",
            "description_tooltip": null,
            "layout": "IPY_MODEL_b311feffb0cb4a4a98b6bc72ae48e424",
            "placeholder": "​",
            "style": "IPY_MODEL_3f468461cf294c589288e381a5869a1c",
            "value": " 1649664/? [00:00&lt;00:00, 16632194.06it/s]"
          }
        },
        "d3da4b08380f4112bba917f9a440b5e0": {
          "model_module": "@jupyter-widgets/controls",
          "model_module_version": "1.5.0",
          "model_name": "DescriptionStyleModel",
          "state": {
            "_model_module": "@jupyter-widgets/controls",
            "_model_module_version": "1.5.0",
            "_model_name": "DescriptionStyleModel",
            "_view_count": null,
            "_view_module": "@jupyter-widgets/base",
            "_view_module_version": "1.2.0",
            "_view_name": "StyleView",
            "description_width": ""
          }
        },
        "d5507cb65987497393b2f5ec8ca49ec5": {
          "model_module": "@jupyter-widgets/controls",
          "model_module_version": "1.5.0",
          "model_name": "FloatProgressModel",
          "state": {
            "_dom_classes": [],
            "_model_module": "@jupyter-widgets/controls",
            "_model_module_version": "1.5.0",
            "_model_name": "FloatProgressModel",
            "_view_count": null,
            "_view_module": "@jupyter-widgets/controls",
            "_view_module_version": "1.5.0",
            "_view_name": "ProgressView",
            "bar_style": "success",
            "description": "",
            "description_tooltip": null,
            "layout": "IPY_MODEL_591c492501f141a2a7fddce6ad2b8283",
            "max": 4542,
            "min": 0,
            "orientation": "horizontal",
            "style": "IPY_MODEL_50629a4483b24186947f3ff4f50491f0",
            "value": 4542
          }
        },
        "d9afc04b5d3d4ef88f787b02f78f54b4": {
          "model_module": "@jupyter-widgets/controls",
          "model_module_version": "1.5.0",
          "model_name": "DescriptionStyleModel",
          "state": {
            "_model_module": "@jupyter-widgets/controls",
            "_model_module_version": "1.5.0",
            "_model_name": "DescriptionStyleModel",
            "_view_count": null,
            "_view_module": "@jupyter-widgets/base",
            "_view_module_version": "1.2.0",
            "_view_name": "StyleView",
            "description_width": ""
          }
        },
        "e0b1349c90b342449a9662d3c1790124": {
          "model_module": "@jupyter-widgets/base",
          "model_module_version": "1.2.0",
          "model_name": "LayoutModel",
          "state": {
            "_model_module": "@jupyter-widgets/base",
            "_model_module_version": "1.2.0",
            "_model_name": "LayoutModel",
            "_view_count": null,
            "_view_module": "@jupyter-widgets/base",
            "_view_module_version": "1.2.0",
            "_view_name": "LayoutView",
            "align_content": null,
            "align_items": null,
            "align_self": null,
            "border": null,
            "bottom": null,
            "display": null,
            "flex": null,
            "flex_flow": null,
            "grid_area": null,
            "grid_auto_columns": null,
            "grid_auto_flow": null,
            "grid_auto_rows": null,
            "grid_column": null,
            "grid_gap": null,
            "grid_row": null,
            "grid_template_areas": null,
            "grid_template_columns": null,
            "grid_template_rows": null,
            "height": null,
            "justify_content": null,
            "justify_items": null,
            "left": null,
            "margin": null,
            "max_height": null,
            "max_width": null,
            "min_height": null,
            "min_width": null,
            "object_fit": null,
            "object_position": null,
            "order": null,
            "overflow": null,
            "overflow_x": null,
            "overflow_y": null,
            "padding": null,
            "right": null,
            "top": null,
            "visibility": null,
            "width": null
          }
        },
        "e4b8fb49176e490f989a7ab563350fc0": {
          "model_module": "@jupyter-widgets/controls",
          "model_module_version": "1.5.0",
          "model_name": "DescriptionStyleModel",
          "state": {
            "_model_module": "@jupyter-widgets/controls",
            "_model_module_version": "1.5.0",
            "_model_name": "DescriptionStyleModel",
            "_view_count": null,
            "_view_module": "@jupyter-widgets/base",
            "_view_module_version": "1.2.0",
            "_view_name": "StyleView",
            "description_width": ""
          }
        },
        "ec8822ee4cbc43c3b95944afefadf4c2": {
          "model_module": "@jupyter-widgets/base",
          "model_module_version": "1.2.0",
          "model_name": "LayoutModel",
          "state": {
            "_model_module": "@jupyter-widgets/base",
            "_model_module_version": "1.2.0",
            "_model_name": "LayoutModel",
            "_view_count": null,
            "_view_module": "@jupyter-widgets/base",
            "_view_module_version": "1.2.0",
            "_view_name": "LayoutView",
            "align_content": null,
            "align_items": null,
            "align_self": null,
            "border": null,
            "bottom": null,
            "display": null,
            "flex": null,
            "flex_flow": null,
            "grid_area": null,
            "grid_auto_columns": null,
            "grid_auto_flow": null,
            "grid_auto_rows": null,
            "grid_column": null,
            "grid_gap": null,
            "grid_row": null,
            "grid_template_areas": null,
            "grid_template_columns": null,
            "grid_template_rows": null,
            "height": null,
            "justify_content": null,
            "justify_items": null,
            "left": null,
            "margin": null,
            "max_height": null,
            "max_width": null,
            "min_height": null,
            "min_width": null,
            "object_fit": null,
            "object_position": null,
            "order": null,
            "overflow": null,
            "overflow_x": null,
            "overflow_y": null,
            "padding": null,
            "right": null,
            "top": null,
            "visibility": null,
            "width": null
          }
        },
        "f08a77eabce74221aef641578ba0a8c5": {
          "model_module": "@jupyter-widgets/base",
          "model_module_version": "1.2.0",
          "model_name": "LayoutModel",
          "state": {
            "_model_module": "@jupyter-widgets/base",
            "_model_module_version": "1.2.0",
            "_model_name": "LayoutModel",
            "_view_count": null,
            "_view_module": "@jupyter-widgets/base",
            "_view_module_version": "1.2.0",
            "_view_name": "LayoutView",
            "align_content": null,
            "align_items": null,
            "align_self": null,
            "border": null,
            "bottom": null,
            "display": null,
            "flex": null,
            "flex_flow": null,
            "grid_area": null,
            "grid_auto_columns": null,
            "grid_auto_flow": null,
            "grid_auto_rows": null,
            "grid_column": null,
            "grid_gap": null,
            "grid_row": null,
            "grid_template_areas": null,
            "grid_template_columns": null,
            "grid_template_rows": null,
            "height": null,
            "justify_content": null,
            "justify_items": null,
            "left": null,
            "margin": null,
            "max_height": null,
            "max_width": null,
            "min_height": null,
            "min_width": null,
            "object_fit": null,
            "object_position": null,
            "order": null,
            "overflow": null,
            "overflow_x": null,
            "overflow_y": null,
            "padding": null,
            "right": null,
            "top": null,
            "visibility": null,
            "width": null
          }
        },
        "f125a5f00bd0498ead30448fd1853e06": {
          "model_module": "@jupyter-widgets/base",
          "model_module_version": "1.2.0",
          "model_name": "LayoutModel",
          "state": {
            "_model_module": "@jupyter-widgets/base",
            "_model_module_version": "1.2.0",
            "_model_name": "LayoutModel",
            "_view_count": null,
            "_view_module": "@jupyter-widgets/base",
            "_view_module_version": "1.2.0",
            "_view_name": "LayoutView",
            "align_content": null,
            "align_items": null,
            "align_self": null,
            "border": null,
            "bottom": null,
            "display": null,
            "flex": null,
            "flex_flow": null,
            "grid_area": null,
            "grid_auto_columns": null,
            "grid_auto_flow": null,
            "grid_auto_rows": null,
            "grid_column": null,
            "grid_gap": null,
            "grid_row": null,
            "grid_template_areas": null,
            "grid_template_columns": null,
            "grid_template_rows": null,
            "height": null,
            "justify_content": null,
            "justify_items": null,
            "left": null,
            "margin": null,
            "max_height": null,
            "max_width": null,
            "min_height": null,
            "min_width": null,
            "object_fit": null,
            "object_position": null,
            "order": null,
            "overflow": null,
            "overflow_x": null,
            "overflow_y": null,
            "padding": null,
            "right": null,
            "top": null,
            "visibility": null,
            "width": null
          }
        },
        "f33ef140889941ec90b6b4e073597b44": {
          "model_module": "@jupyter-widgets/controls",
          "model_module_version": "1.5.0",
          "model_name": "ProgressStyleModel",
          "state": {
            "_model_module": "@jupyter-widgets/controls",
            "_model_module_version": "1.5.0",
            "_model_name": "ProgressStyleModel",
            "_view_count": null,
            "_view_module": "@jupyter-widgets/base",
            "_view_module_version": "1.2.0",
            "_view_name": "StyleView",
            "bar_color": null,
            "description_width": ""
          }
        }
      }
    }
  },
  "nbformat": 4,
  "nbformat_minor": 0
}
