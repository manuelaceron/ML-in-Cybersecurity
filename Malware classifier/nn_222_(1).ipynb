{
  "nbformat": 4,
  "nbformat_minor": 0,
  "metadata": {
    "colab": {
      "name": "nn_222 (1).ipynb",
      "provenance": [],
      "collapsed_sections": []
    },
    "kernelspec": {
      "name": "python3",
      "display_name": "Python 3"
    },
    "language_info": {
      "name": "python"
    },
    "accelerator": "GPU"
  },
  "cells": [
    {
      "cell_type": "markdown",
      "metadata": {
        "id": "bUHf4jhCYs7n"
      },
      "source": [
        ""
      ]
    },
    {
      "cell_type": "code",
      "metadata": {
        "id": "bA-kAwnlZBf_"
      },
      "source": [
        "import time \n",
        " \n",
        "import numpy as np \n",
        "import matplotlib.pyplot as plt \n",
        "\n",
        "import json \n",
        "import time \n",
        "import pickle \n",
        "import sys \n",
        "import csv \n",
        "import os \n",
        "import os.path as osp \n",
        "import shutil \n",
        "\n",
        "import pandas as pd\n",
        "\n",
        "from IPython.display import display, HTML\n",
        " \n",
        "%matplotlib inline \n",
        "plt.rcParams['figure.figsize'] = (10.0, 8.0) # set default size of plots \n",
        "plt.rcParams['image.interpolation'] = 'nearest' \n",
        "plt.rcParams['image.cmap'] = 'gray' \n",
        " \n",
        "# for auto-reloading external modules \n",
        "# see http://stackoverflow.com/questions/1907993/autoreload-of-modules-in-ipython \n",
        "%load_ext autoreload\n",
        "%autoreload 2"
      ],
      "execution_count": 1,
      "outputs": []
    },
    {
      "cell_type": "code",
      "metadata": {
        "id": "xG3WDIjXZCwu"
      },
      "source": [
        "# Load other libraries here.\n",
        "# Keep it minimal! We should be easily able to reproduce your code.\n",
        "\n",
        "# We only support sklearn and pytorch.\n",
        "\n",
        "# Please set random seed to have reproduceable results, e.g. torch.manual_seed(123)\n",
        "# import the necessary packages\n",
        "from sklearn.neighbors import KNeighborsClassifier\n",
        "from sklearn.metrics import classification_report\n",
        "from sklearn.datasets import fetch_openml\n",
        "from skimage import exposure\n",
        "import numpy as np\n",
        "import imutils\n",
        "import cv2\n",
        "import sklearn\n",
        "from sklearn.model_selection import train_test_split\n",
        "from sklearn.metrics import accuracy_score\n",
        "from sklearn.svm import SVC, LinearSVC\n",
        "\n",
        "import torch\n",
        "import torchvision\n",
        "import torchvision.transforms as transforms\n",
        "import torchvision.datasets as datasets\n",
        "import os\n",
        "import random\n",
        "import seaborn as sns\n",
        "from torch import nn\n"
      ],
      "execution_count": 2,
      "outputs": []
    },
    {
      "cell_type": "code",
      "metadata": {
        "id": "CekcEnv9ZHhq"
      },
      "source": [
        "log_interval = 10\n",
        "random_seed = 1\n",
        "torch.backends.cudnn.enabled = False\n",
        "torch.manual_seed(random_seed)\n",
        "rndm_state = 42"
      ],
      "execution_count": 3,
      "outputs": []
    },
    {
      "cell_type": "code",
      "metadata": {
        "colab": {
          "base_uri": "https://localhost:8080/"
        },
        "id": "BgMgcGnHwJcY",
        "outputId": "02bea98c-dfa0-459b-e21a-33016544e886"
      },
      "source": [
        "from google.colab import drive\n",
        "drive.mount('/content/drive')"
      ],
      "execution_count": 4,
      "outputs": [
        {
          "output_type": "stream",
          "name": "stdout",
          "text": [
            "Mounted at /content/drive\n"
          ]
        }
      ]
    },
    {
      "cell_type": "code",
      "metadata": {
        "colab": {
          "base_uri": "https://localhost:8080/"
        },
        "id": "GdMwldnRcLuz",
        "outputId": "7cbde226-e8ee-4c62-9c99-afc002e7f55b"
      },
      "source": [
        "device = torch.device('cuda' if torch.cuda.is_available() else 'cpu')\n",
        "print(device)\n",
        "traindata = torch.load('/content/drive/MyDrive/MLCS/mlcb_data/bigram/bigram_train7500.pt')\n",
        "validate = torch.load('/content/drive/MyDrive/MLCS/mlcb_data/bigram/bigram_val7500.pt')\n",
        "test = torch.load('/content/drive/MyDrive/MLCS/mlcb_data/bigram/bigram_test7500.pt')\n",
        "print(test[0][0])"
      ],
      "execution_count": 16,
      "outputs": [
        {
          "output_type": "stream",
          "name": "stdout",
          "text": [
            "cuda\n",
            "tensor([10164.,  1212.,   297.,  ...,     0.,     0.,     0.])\n"
          ]
        }
      ]
    },
    {
      "cell_type": "code",
      "metadata": {
        "id": "lyor78NHcISu"
      },
      "source": [
        "batch_size = 100\n",
        "num_epochs = 50\n",
        "num_epochs = int(num_epochs)\n",
        "reg=0.001"
      ],
      "execution_count": 17,
      "outputs": []
    },
    {
      "cell_type": "code",
      "metadata": {
        "id": "1gMhLwSfYxqM"
      },
      "source": [
        "\n",
        "train_loader_nn = torch.utils.data.DataLoader(dataset=traindata,\n",
        "                                           batch_size=batch_size,\n",
        "                                           shuffle=True)\n",
        "\n",
        "val_loader_nn = torch.utils.data.DataLoader(dataset=validate,\n",
        "                                           batch_size=batch_size,\n",
        "                                           shuffle=False)\n",
        "\n",
        "test_loader_nn = torch.utils.data.DataLoader(dataset=test,\n",
        "                                          batch_size=batch_size,\n",
        "                                          shuffle=False)\n"
      ],
      "execution_count": 18,
      "outputs": []
    },
    {
      "cell_type": "code",
      "metadata": {
        "id": "OO0DvPN8Zbtn"
      },
      "source": [
        "class Net(nn.Module):\n",
        "    def __init__(self, input_dim, hidden_dim, output_dim):\n",
        "        super(Net, self).__init__()\n",
        "        # Linear function\n",
        "        self.fc1 = nn.Linear(input_dim, hidden_dim[0]) \n",
        "        # Non-linearity\n",
        "        self.sigmoid1 = nn.Sigmoid()\n",
        "        self.drp1 = nn.Dropout(0.1)\n",
        "        # Linear function (readout)\n",
        "        self.fc2 = nn.Linear(hidden_dim[0], hidden_dim[1]) \n",
        "        self.sigmoid2 = nn.Sigmoid() \n",
        "        self.drp2 = nn.Dropout(0.1)\n",
        "\n",
        "        self.fc3 = nn.Linear(hidden_dim[1], hidden_dim[1]) \n",
        "        self.sigmoid3 = nn.Sigmoid() \n",
        "        self.drp3 = nn.Dropout(0.1)\n",
        "\n",
        "\n",
        "        self.fc4 = nn.Linear(hidden_dim[1], output_dim)  \n",
        "\n",
        "    def forward(self, x):\n",
        "        # Linear function  # LINEAR\n",
        "        out = self.fc1(x)\n",
        "\n",
        "        # Non-linearity  # NON-LINEAR\n",
        "        out = self.sigmoid1(out)\n",
        "        out = self.drp1(out)\n",
        "        # Linear function (readout)  # LINEAR\n",
        "        out = self.fc2(out)\n",
        "        out = self.sigmoid2(out)\n",
        "        out = self.drp2(out)\n",
        "        # Linear function (readout)  # LINEAR\n",
        "        out = self.fc3(out)\n",
        "        out = self.sigmoid3(out)\n",
        "        out = self.drp3(out)\n",
        "\n",
        "\n",
        "        out = self.fc4(out)\n",
        "        return out"
      ],
      "execution_count": 19,
      "outputs": []
    },
    {
      "cell_type": "code",
      "metadata": {
        "id": "1Odnaen1ig01"
      },
      "source": [
        "def weights_init(m):\n",
        "    if type(m) == nn.Linear:\n",
        "        m.weight.data.normal_(0.0, 1e-3)\n",
        "        m.bias.data.fill_(0.)"
      ],
      "execution_count": 20,
      "outputs": []
    },
    {
      "cell_type": "code",
      "metadata": {
        "id": "VDOBCenZdcVd"
      },
      "source": [
        "'''\n",
        "STEP 4: INSTANTIATE MODEL CLASS\n",
        "'''\n",
        "input_dim = 7501\n",
        "hidden_dim = [1000,800]\n",
        "output_dim = 10\n",
        "\n",
        "model = Net(input_dim, hidden_dim, output_dim)\n",
        "model.apply(weights_init)\n",
        "'''\n",
        "STEP 5: INSTANTIATE LOSS CLASS\n",
        "'''\n",
        "criterion = nn.CrossEntropyLoss()\n",
        "\n",
        "'''\n",
        "STEP 6: INSTANTIATE OPTIMIZER CLASS\n",
        "'''\n",
        "learning_rate = 2e-3\n",
        "learning_rate_decay = 0.95\n",
        "optimizer =torch.optim.Adam(model.parameters(), lr=learning_rate, weight_decay=reg)\n",
        "\n",
        "# optimizer = torch.optim.SGD(model.parameters(), lr=learning_rate)"
      ],
      "execution_count": 21,
      "outputs": []
    },
    {
      "cell_type": "code",
      "metadata": {
        "id": "MZH6Zp-_h0CD"
      },
      "source": [
        "def update_lr(optimizer, lr):\n",
        "    for param_group in optimizer.param_groups:\n",
        "        param_group['lr'] = lr"
      ],
      "execution_count": 22,
      "outputs": []
    },
    {
      "cell_type": "code",
      "metadata": {
        "colab": {
          "base_uri": "https://localhost:8080/"
        },
        "id": "byfAb0evchpa",
        "outputId": "a868e93b-5caa-42ec-d9cd-dc67c87c7542"
      },
      "source": [
        "loss_ar = []\n",
        "lr = learning_rate\n",
        "total_train = 0\n",
        "correct_train = 0\n",
        "for epoch in range(num_epochs):\n",
        "    for i, (images, labels) in enumerate(train_loader_nn):\n",
        "        # images = images.to(device)\n",
        "        # labels = labels.to(device)\n",
        "\n",
        "        # Forward pass\n",
        "        outputs = model(images)\n",
        "        labels = labels.type(torch.LongTensor)\n",
        "        loss = criterion(outputs, labels)\n",
        "\n",
        "        # Backward and optimize\n",
        "        optimizer.zero_grad()\n",
        "        loss.backward()\n",
        "        optimizer.step()\n",
        "        #####\n",
        "        \n",
        "        if (i+1) % 92 == 0:\n",
        "            print('Epoch [{}/{}], Loss: {:.4f}'.format(epoch+1, num_epochs, loss.item()))\n",
        "            _, predicted_train = torch.max(outputs.data, 1)\n",
        "            loss_ar.append(loss.item())\n",
        "            total_train += labels.size(0)\n",
        "            correct_train += (predicted_train == labels).sum().item()      \n",
        "    # train_accu.append(100 * correct_train / total_train)\n",
        "    correct_train = 0\n",
        "    total_train = 0\n",
        "    # Code to update the lr\n",
        "    lr *= learning_rate_decay\n",
        "    update_lr(optimizer, lr)\n",
        "    model.eval()\n",
        "    with torch.no_grad():\n",
        "        correct = 0\n",
        "        total = 0\n",
        "        for images, labels in val_loader_nn:\n",
        "            # images = images.to(device)\n",
        "            # labels = labels.to(device)\n",
        "            outputs = model(images)\n",
        "            _, predicted = torch.max(outputs.data, 1)\n",
        "            total += labels.size(0)\n",
        "            correct += (predicted == labels).sum().item()\n",
        "            #############\n",
        "        print('Validataion accuracy is: {} %'.format(100 * correct / total))\n",
        "        "
      ],
      "execution_count": 23,
      "outputs": [
        {
          "output_type": "stream",
          "name": "stdout",
          "text": [
            "Epoch [1/50], Loss: 0.8510\n",
            "Validataion accuracy is: 69.70770593445528 %\n",
            "Epoch [2/50], Loss: 0.7773\n",
            "Validataion accuracy is: 76.10717449069973 %\n",
            "Epoch [3/50], Loss: 0.7021\n",
            "Validataion accuracy is: 78.18866253321524 %\n",
            "Epoch [4/50], Loss: 0.5220\n",
            "Validataion accuracy is: 75.8414526129318 %\n",
            "Epoch [5/50], Loss: 0.4736\n",
            "Validataion accuracy is: 78.38795394154118 %\n",
            "Epoch [6/50], Loss: 0.5744\n",
            "Validataion accuracy is: 79.00797165633304 %\n",
            "Epoch [7/50], Loss: 0.7273\n",
            "Validataion accuracy is: 79.84942426926483 %\n",
            "Epoch [8/50], Loss: 0.5988\n",
            "Validataion accuracy is: 74.5792736935341 %\n",
            "Epoch [9/50], Loss: 0.8058\n",
            "Validataion accuracy is: 77.59078830823738 %\n",
            "Epoch [10/50], Loss: 0.6078\n",
            "Validataion accuracy is: 79.82728077945085 %\n",
            "Epoch [11/50], Loss: 0.7030\n",
            "Validataion accuracy is: 77.32506643046945 %\n",
            "Epoch [12/50], Loss: 0.6703\n",
            "Validataion accuracy is: 79.42869796279894 %\n",
            "Epoch [13/50], Loss: 0.5908\n",
            "Validataion accuracy is: 80.20372010628876 %\n",
            "Epoch [14/50], Loss: 0.4986\n",
            "Validataion accuracy is: 80.55801594331267 %\n",
            "Epoch [15/50], Loss: 0.4781\n",
            "Validataion accuracy is: 80.27015057573074 %\n",
            "Epoch [16/50], Loss: 0.5794\n",
            "Validataion accuracy is: 80.0044286979628 %\n",
            "Epoch [17/50], Loss: 0.4693\n",
            "Validataion accuracy is: 80.93445527015058 %\n",
            "Epoch [18/50], Loss: 0.5908\n",
            "Validataion accuracy is: 68.3126660761736 %\n",
            "Epoch [19/50], Loss: 0.4945\n",
            "Validataion accuracy is: 80.11514614703277 %\n",
            "Epoch [20/50], Loss: 0.6076\n",
            "Validataion accuracy is: 80.0265721877768 %\n",
            "Epoch [21/50], Loss: 0.6897\n",
            "Validataion accuracy is: 80.3808680248007 %\n",
            "Epoch [22/50], Loss: 0.8497\n",
            "Validataion accuracy is: 80.91231178033658 %\n",
            "Epoch [23/50], Loss: 0.6740\n",
            "Validataion accuracy is: 80.33658104517272 %\n",
            "Epoch [24/50], Loss: 0.5084\n",
            "Validataion accuracy is: 80.77945084145261 %\n",
            "Epoch [25/50], Loss: 0.6204\n",
            "Validataion accuracy is: 81.04517271922055 %\n",
            "Epoch [26/50], Loss: 0.5586\n",
            "Validataion accuracy is: 81.00088573959256 %\n",
            "Epoch [27/50], Loss: 0.5078\n",
            "Validataion accuracy is: 81.15589016829053 %\n",
            "Epoch [28/50], Loss: 0.5084\n",
            "Validataion accuracy is: 80.73516386182462 %\n",
            "Epoch [29/50], Loss: 0.5286\n",
            "Validataion accuracy is: 81.00088573959256 %\n",
            "Epoch [30/50], Loss: 0.4292\n",
            "Validataion accuracy is: 80.60230292294065 %\n",
            "Epoch [31/50], Loss: 0.4862\n",
            "Validataion accuracy is: 80.8680248007086 %\n",
            "Epoch [32/50], Loss: 0.4375\n",
            "Validataion accuracy is: 80.77945084145261 %\n",
            "Epoch [33/50], Loss: 0.4677\n",
            "Validataion accuracy is: 79.98228520814881 %\n",
            "Epoch [34/50], Loss: 0.4912\n",
            "Validataion accuracy is: 81.04517271922055 %\n",
            "Epoch [35/50], Loss: 0.4189\n",
            "Validataion accuracy is: 81.37732506643047 %\n",
            "Epoch [36/50], Loss: 0.3446\n",
            "Validataion accuracy is: 80.49158547387069 %\n",
            "Epoch [37/50], Loss: 0.5730\n",
            "Validataion accuracy is: 80.46944198405669 %\n",
            "Epoch [38/50], Loss: 0.6583\n",
            "Validataion accuracy is: 81.08945969884854 %\n",
            "Epoch [39/50], Loss: 0.3822\n",
            "Validataion accuracy is: 80.64658990256865 %\n",
            "Epoch [40/50], Loss: 0.4304\n",
            "Validataion accuracy is: 81.24446412754651 %\n",
            "Epoch [41/50], Loss: 0.4823\n",
            "Validataion accuracy is: 79.84942426926483 %\n",
            "Epoch [42/50], Loss: 0.4093\n",
            "Validataion accuracy is: 81.26660761736049 %\n",
            "Epoch [43/50], Loss: 0.3575\n",
            "Validataion accuracy is: 81.33303808680247 %\n",
            "Epoch [44/50], Loss: 0.4016\n",
            "Validataion accuracy is: 81.33303808680247 %\n",
            "Epoch [45/50], Loss: 0.4045\n",
            "Validataion accuracy is: 80.53587245349867 %\n",
            "Epoch [46/50], Loss: 0.5006\n",
            "Validataion accuracy is: 81.13374667847653 %\n",
            "Epoch [47/50], Loss: 0.3897\n",
            "Validataion accuracy is: 81.39946855624446 %\n",
            "Epoch [48/50], Loss: 0.3329\n",
            "Validataion accuracy is: 81.33303808680247 %\n",
            "Epoch [49/50], Loss: 0.4167\n",
            "Validataion accuracy is: 81.08945969884854 %\n",
            "Epoch [50/50], Loss: 0.4942\n",
            "Validataion accuracy is: 81.31089459698849 %\n"
          ]
        }
      ]
    },
    {
      "cell_type": "markdown",
      "metadata": {
        "id": "Tuq0zgp38opm"
      },
      "source": [
        "**bigram_train7500**\n",
        "\n",
        "Epoch [1/50], Loss: 0.6688\n",
        "Validataion accuracy is: 74.42426926483614 %\n",
        "Epoch [2/50], Loss: 0.6364\n",
        "Validataion accuracy is: 78.7643932683791 %\n",
        "Epoch [3/50], Loss: 0.6522\n",
        "Validataion accuracy is: 78.18866253321524 %\n",
        "Epoch [4/50], Loss: 0.7180\n",
        "Validataion accuracy is: 79.42869796279894 %\n",
        "Epoch [5/50], Loss: 0.6022\n",
        "Validataion accuracy is: 79.22940655447299 %\n",
        "Epoch [6/50], Loss: 0.5198\n",
        "Validataion accuracy is: 79.51727192205492 %\n",
        "Epoch [7/50], Loss: 0.4719\n",
        "Validataion accuracy is: 80.4251550044287 %\n",
        "Epoch [8/50], Loss: 0.4454\n",
        "Validataion accuracy is: 79.62798937112488 %\n",
        "Epoch [9/50], Loss: 0.3705\n",
        "Validataion accuracy is: 78.41009743135518 %\n",
        "Epoch [10/50], Loss: 0.5885\n",
        "Validataion accuracy is: 78.7422497785651 %\n",
        "Epoch [11/50], Loss: 0.4073\n",
        "Validataion accuracy is: 78.8086802480071 %\n",
        "Epoch [12/50], Loss: 0.3821\n",
        "Validataion accuracy is: 79.87156775907883 %\n",
        "Epoch [13/50], Loss: 0.5717\n",
        "Validataion accuracy is: 78.47652790079717 %\n",
        "Epoch [14/50], Loss: 0.5506\n",
        "Validataion accuracy is: 79.42869796279894 %\n",
        "Epoch [15/50], Loss: 0.5596\n",
        "Validataion accuracy is: 80.0044286979628 %\n",
        "Epoch [16/50], Loss: 0.4324\n",
        "Validataion accuracy is: 81.08945969884854 %\n",
        "Epoch [17/50], Loss: 0.7225\n",
        "Validataion accuracy is: 79.00797165633304 %\n",
        "Epoch [18/50], Loss: 0.4605\n",
        "Validataion accuracy is: 80.15943312666076 %\n",
        "Epoch [19/50], Loss: 0.4401\n",
        "Validataion accuracy is: 80.97874224977856 %\n",
        "Epoch [20/50], Loss: 0.4416\n",
        "Validataion accuracy is: 80.73516386182462 %\n",
        "Epoch [21/50], Loss: 0.5306\n",
        "Validataion accuracy is: 80.27015057573074 %\n",
        "Epoch [22/50], Loss: 0.4214\n",
        "Validataion accuracy is: 81.06731620903454 %\n",
        "Epoch [23/50], Loss: 0.4480\n",
        "Validataion accuracy is: 80.93445527015058 %\n",
        "Epoch [24/50], Loss: 0.5330\n",
        "Validataion accuracy is: 81.24446412754651 %\n",
        "Epoch [25/50], Loss: 0.5018\n",
        "Validataion accuracy is: 81.00088573959256 %\n",
        "Epoch [26/50], Loss: 0.3398\n",
        "Validataion accuracy is: 81.31089459698849 %\n",
        "Epoch [27/50], Loss: 0.4265\n",
        "Validataion accuracy is: 81.28875110717449 %\n",
        "Epoch [28/50], Loss: 0.4777\n",
        "Validataion accuracy is: 80.80159433126661 %\n",
        "Epoch [29/50], Loss: 0.5783\n",
        "Validataion accuracy is: 79.78299379982285 %\n",
        "Epoch [30/50], Loss: 0.4275\n",
        "Validataion accuracy is: 81.70947741364039 %\n",
        "Epoch [31/50], Loss: 0.4662\n",
        "Validataion accuracy is: 81.6209034543844 %\n",
        "Epoch [32/50], Loss: 0.4101\n",
        "Validataion accuracy is: 80.89016829052258 %\n",
        "Epoch [33/50], Loss: 0.5293\n",
        "Validataion accuracy is: 81.57661647475642 %\n",
        "Epoch [34/50], Loss: 0.3141\n",
        "Validataion accuracy is: 81.77590788308237 %\n",
        "Epoch [35/50], Loss: 0.4622\n",
        "Validataion accuracy is: 81.77590788308237 %\n",
        "Epoch [36/50], Loss: 0.4994\n",
        "Validataion accuracy is: 80.95659875996456 %\n",
        "Epoch [37/50], Loss: 0.4514\n",
        "Validataion accuracy is: 81.57661647475642 %\n",
        "Epoch [38/50], Loss: 0.4841\n",
        "Validataion accuracy is: 81.44375553587246 %\n",
        "Epoch [39/50], Loss: 0.5099\n",
        "Validataion accuracy is: 81.73162090345438 %\n",
        "Epoch [40/50], Loss: 0.2883\n",
        "Validataion accuracy is: 81.77590788308237 %\n",
        "Epoch [41/50], Loss: 0.4645\n",
        "Validataion accuracy is: 81.48804251550044 %\n",
        "Epoch [42/50], Loss: 0.4095\n",
        "Validataion accuracy is: 81.42161204605846 %\n",
        "Epoch [43/50], Loss: 0.3892\n",
        "Validataion accuracy is: 81.59875996457042 %\n",
        "Epoch [44/50], Loss: 0.3665\n",
        "Validataion accuracy is: 81.82019486271037 %\n",
        "Epoch [45/50], Loss: 0.4237\n",
        "Validataion accuracy is: 81.70947741364039 %\n",
        "Epoch [46/50], Loss: 0.6079\n",
        "Validataion accuracy is: 81.46589902568645 %\n",
        "Epoch [47/50], Loss: 0.4779\n",
        "Validataion accuracy is: 81.11160318866253 %\n",
        "Epoch [48/50], Loss: 0.3820\n",
        "Validataion accuracy is: 81.53232949512844 %\n",
        "Epoch [49/50], Loss: 0.5560\n",
        "Validataion accuracy is: 81.59875996457042 %\n",
        "Epoch [50/50], Loss: 0.4971\n",
        "Validataion accuracy is: 81.35518157661647 %\n",
        "\n",
        "\n",
        "Epoch [1/50], Loss: 0.9497\n",
        "Validataion accuracy is: 59.89813994685562 %\n",
        "Epoch [2/50], Loss: 0.9597\n",
        "Validataion accuracy is: 67.27192205491585 %\n",
        "Epoch [3/50], Loss: 0.9778\n",
        "Validataion accuracy is: 70.10628875110717 %\n",
        "Epoch [4/50], Loss: 0.8171\n",
        "Validataion accuracy is: 70.50487156775908 %\n",
        "Epoch [5/50], Loss: 0.8459\n",
        "Validataion accuracy is: 70.96988485385296 %\n",
        "Epoch [6/50], Loss: 0.8557\n",
        "Validataion accuracy is: 71.50132860938884 %\n",
        "Epoch [7/50], Loss: 0.6675\n",
        "Validataion accuracy is: 71.72276350752878 %\n",
        "Epoch [8/50], Loss: 0.8069\n",
        "Validataion accuracy is: 70.61558901682905 %\n",
        "Epoch [9/50], Loss: 1.0148\n",
        "Validataion accuracy is: 70.90345438441098 %\n",
        "Epoch [10/50], Loss: 0.4866\n",
        "Validataion accuracy is: 69.53055801594331 %\n",
        "Epoch [11/50], Loss: 0.7937\n",
        "Validataion accuracy is: 72.14348981399469 %\n",
        "Epoch [12/50], Loss: 0.6796\n",
        "Validataion accuracy is: 72.63064658990257 %\n",
        "Epoch [13/50], Loss: 0.7484\n",
        "Validataion accuracy is: 72.40921169176262 %\n",
        "Epoch [14/50], Loss: 0.6672\n",
        "Validataion accuracy is: 73.7378210806023 %\n",
        "Epoch [15/50], Loss: 0.5840\n",
        "Validataion accuracy is: 72.29849424269266 %\n",
        "Epoch [16/50], Loss: 1.0681\n",
        "Validataion accuracy is: 73.02922940655448 %\n",
        "Epoch [17/50], Loss: 0.7418\n",
        "Validataion accuracy is: 72.36492471213464 %\n",
        "Epoch [18/50], Loss: 0.7297\n",
        "Validataion accuracy is: 72.5199291408326 %\n",
        "Epoch [19/50], Loss: 0.7504\n",
        "Validataion accuracy is: 73.93711248892825 %\n",
        "Epoch [20/50], Loss: 0.6508\n",
        "Validataion accuracy is: 74.00354295837023 %\n",
        "Epoch [21/50], Loss: 0.5703\n",
        "Validataion accuracy is: 73.91496899911427 %\n",
        "Epoch [22/50], Loss: 0.8628\n",
        "Validataion accuracy is: 72.16563330380868 %\n",
        "Epoch [23/50], Loss: 0.8199\n",
        "Validataion accuracy is: 74.31355181576616 %\n",
        "Epoch [24/50], Loss: 0.7897\n",
        "Validataion accuracy is: 73.44995571302037 %\n",
        "Epoch [25/50], Loss: 0.6459\n",
        "Validataion accuracy is: 74.13640389725421 %\n",
        "Epoch [26/50], Loss: 0.7564\n",
        "Validataion accuracy is: 74.77856510186005 %\n",
        "Epoch [27/50], Loss: 0.6729\n",
        "Validataion accuracy is: 74.37998228520814 %\n",
        "Epoch [28/50], Loss: 0.5746\n",
        "Validataion accuracy is: 72.07705934455271 %\n",
        "Epoch [29/50], Loss: 0.6035\n",
        "Validataion accuracy is: 74.22497785651018 %\n",
        "Epoch [30/50], Loss: 0.6545\n",
        "Validataion accuracy is: 74.64570416297609 %\n",
        "Epoch [31/50], Loss: 0.7362\n",
        "Validataion accuracy is: 72.54207263064659 %\n",
        "Epoch [32/50], Loss: 0.7752\n",
        "Validataion accuracy is: 75.08857395925598 %\n",
        "Epoch [33/50], Loss: 0.6363\n",
        "Validataion accuracy is: 73.38352524357839 %\n",
        "Epoch [34/50], Loss: 0.8265\n",
        "Validataion accuracy is: 74.51284322409212 %\n",
        "Epoch [35/50], Loss: 0.7035\n",
        "Validataion accuracy is: 73.36138175376439 %\n",
        "Epoch [36/50], Loss: 0.5270\n",
        "Validataion accuracy is: 75.11071744906998 %\n",
        "Epoch [37/50], Loss: 0.6222\n",
        "Validataion accuracy is: 74.91142604074402 %\n",
        "Epoch [38/50], Loss: 0.7251\n",
        "Validataion accuracy is: 74.75642161204605 %\n",
        "Epoch [39/50], Loss: 0.5823\n",
        "Validataion accuracy is: 75.39858281665191 %\n",
        "Epoch [40/50], Loss: 1.0262\n",
        "Validataion accuracy is: 74.80070859167405 %\n",
        "Epoch [41/50], Loss: 0.5742\n",
        "Validataion accuracy is: 75.15500442869796 %\n",
        "Epoch [42/50], Loss: 0.6343\n",
        "Validataion accuracy is: 75.17714791851196 %\n",
        "Epoch [43/50], Loss: 0.6050\n",
        "Validataion accuracy is: 75.22143489813995 %\n",
        "Epoch [44/50], Loss: 0.6550\n",
        "Validataion accuracy is: 75.13286093888397 %\n",
        "Epoch [45/50], Loss: 0.5281\n",
        "Validataion accuracy is: 73.62710363153234 %\n",
        "Epoch [46/50], Loss: 0.6402\n",
        "Validataion accuracy is: 75.64216120460584 %\n",
        "Epoch [47/50], Loss: 0.5252\n",
        "Validataion accuracy is: 74.80070859167405 %\n",
        "Epoch [48/50], Loss: 0.6554\n",
        "Validataion accuracy is: 75.53144375553588 %\n",
        "Epoch [49/50], Loss: 0.7233\n",
        "Validataion accuracy is: 75.22143489813995 %\n",
        "Epoch [50/50], Loss: 0.7553\n",
        "Validataion accuracy is: 75.04428697962798 %"
      ]
    },
    {
      "cell_type": "code",
      "metadata": {
        "colab": {
          "base_uri": "https://localhost:8080/",
          "height": 282
        },
        "id": "cMDabYgVleTj",
        "outputId": "e436f43c-e227-49c5-d49a-9a9806534fb0"
      },
      "source": [
        "plt.plot(range(num_epochs),loss_ar)"
      ],
      "execution_count": 24,
      "outputs": [
        {
          "output_type": "execute_result",
          "data": {
            "text/plain": [
              "[<matplotlib.lines.Line2D at 0x7fed86c68a90>]"
            ]
          },
          "metadata": {},
          "execution_count": 24
        },
        {
          "output_type": "display_data",
          "data": {
            "image/png": "[encoded data removed]",
            "text/plain": [
              "<Figure size 432x288 with 1 Axes>"
            ]
          },
          "metadata": {
            "needs_background": "light"
          }
        }
      ]
    },
    {
      "cell_type": "code",
      "metadata": {
        "id": "wvmXdBRqZat3"
      },
      "source": [
        "def test(test_loader_nn,model):\n",
        "\n",
        "  with torch.no_grad():\n",
        "    correct = 0\n",
        "    total = 0\n",
        "    for images, labels in test_loader_nn:\n",
        "\n",
        "      # images = images.to(device)\n",
        "\n",
        "      # labels = labels.to(device)\n",
        "      outputs = model(images)\n",
        "      _, predicted = torch.max(outputs.data, 1)\n",
        "      total += labels.size(0)\n",
        "      correct += (predicted == labels).sum().item()\n",
        "\n",
        "# if total == 1000:\n",
        "# break\n",
        "\n",
        "\n",
        "\n",
        "  print('Accuracy of the network on the {} test images: {} %'.format(total, 100 * correct / total))\n",
        "  return test_loader_nn,predicted"
      ],
      "execution_count": 25,
      "outputs": []
    },
    {
      "cell_type": "code",
      "metadata": {
        "colab": {
          "base_uri": "https://localhost:8080/"
        },
        "id": "QhzHeRDVZ-Hn",
        "outputId": "42f934a1-40a7-49fb-df9e-127ae60b5ade"
      },
      "source": [
        "test(test_loader_nn,model)"
      ],
      "execution_count": 26,
      "outputs": [
        {
          "output_type": "stream",
          "name": "stdout",
          "text": [
            "Accuracy of the network on the 10000 test images: 82.62 %\n"
          ]
        },
        {
          "output_type": "execute_result",
          "data": {
            "text/plain": [
              "(<torch.utils.data.dataloader.DataLoader at 0x7fed87608f90>,\n",
              " tensor([4, 8, 9, 4, 7, 0, 2, 7, 4, 2, 3, 1, 3, 2, 7, 4, 3, 7, 9, 3, 4, 7, 7, 7,\n",
              "         7, 2, 1, 3, 9, 3, 4, 3, 4, 3, 8, 7, 7, 2, 7, 1, 7, 3, 4, 7, 3, 6, 8, 7,\n",
              "         9, 4, 7, 7, 3, 7, 3, 9, 4, 7, 7, 8, 4, 0, 6, 4, 4, 7, 7, 4, 2, 2, 4, 7,\n",
              "         7, 4, 7, 3, 4, 7, 9, 4, 7, 7, 7, 4, 9, 7, 7, 2, 7, 4, 2, 7, 3, 2, 7, 3,\n",
              "         3, 4, 2, 8]))"
            ]
          },
          "metadata": {},
          "execution_count": 26
        }
      ]
    },
    {
      "cell_type": "markdown",
      "metadata": {
        "id": "IwONOl859AOe"
      },
      "source": [
        "unigram 10\n",
        "Accuracy of the network on the 10000 test images: 75.51 %\n",
        "(<torch.utils.data.dataloader.DataLoader at 0x7ff4cf69a050>,\n",
        " tensor([7, 4, 9, 7, 7, 0, 2, 4, 7, 2, 3, 1, 3, 2, 7, 0, 3, 7, 9, 3, 4, 7, 7, 7,\n",
        "         7, 2, 1, 3, 9, 3, 4, 3, 7, 3, 8, 7, 7, 2, 7, 1, 7, 3, 4, 7, 3, 6, 8, 7,\n",
        "         9, 7, 7, 7, 3, 7, 3, 4, 4, 9, 7, 8, 7, 4, 6, 4, 7, 7, 7, 7, 2, 2, 4, 7,\n",
        "         7, 7, 7, 3, 0, 7, 9, 7, 7, 7, 7, 7, 9, 7, 7, 2, 7, 4, 2, 7, 3, 2, 7, 3,\n",
        "         3, 4, 2, 8]))"
      ]
    },
    {
      "cell_type": "markdown",
      "metadata": {
        "id": "0A_CUKYu9goK"
      },
      "source": [
        "bigram 10\n",
        "Accuracy of the network on the 10000 test images: 73.67 %\n",
        "(<torch.utils.data.dataloader.DataLoader at 0x7ff4ce8596d0>,\n",
        " tensor([7, 4, 9, 9, 7, 4, 2, 7, 7, 2, 3, 1, 3, 2, 7, 4, 3, 7, 9, 3, 4, 7, 7, 7,\n",
        "         7, 2, 1, 3, 9, 3, 8, 3, 7, 3, 8, 7, 7, 2, 7, 1, 4, 3, 4, 7, 3, 6, 8, 7,\n",
        "         9, 7, 7, 7, 3, 7, 3, 4, 4, 7, 7, 8, 7, 7, 6, 4, 7, 7, 7, 7, 2, 2, 4, 7,\n",
        "         7, 7, 7, 3, 4, 7, 9, 7, 7, 7, 7, 7, 9, 7, 7, 2, 7, 4, 2, 7, 3, 2, 7, 3,\n",
        "         3, 7, 2, 8]))\n",
        "\n",
        "bigram 1000\n",
        "Accuracy of the network on the 10000 test images: 82.02 %\n",
        "(<torch.utils.data.dataloader.DataLoader at 0x7f9a52490690>,\n",
        " tensor([4, 4, 9, 4, 7, 4, 2, 0, 4, 2, 3, 1, 3, 2, 7, 4, 3, 7, 9, 3, 4, 7, 7, 7,\n",
        "         7, 2, 1, 3, 9, 3, 4, 3, 4, 3, 8, 7, 7, 2, 7, 1, 4, 3, 4, 7, 3, 6, 8, 7,\n",
        "         9, 4, 7, 7, 3, 7, 3, 0, 4, 7, 7, 8, 4, 0, 6, 4, 4, 7, 7, 7, 2, 2, 4, 7,\n",
        "         7, 4, 7, 3, 4, 7, 9, 4, 7, 7, 7, 4, 9, 7, 7, 2, 7, 4, 2, 7, 3, 2, 7, 3,\n",
        "         3, 4, 2, 8]))\n",
        "\n",
        "bigram 5000\n",
        "Accuracy of the network on the 10000 test images: 82.37 %\n",
        "(<torch.utils.data.dataloader.DataLoader at 0x7f9a51e86f90>,\n",
        " tensor([4, 8, 9, 4, 7, 0, 2, 7, 4, 2, 3, 1, 3, 2, 7, 4, 3, 7, 9, 3, 4, 7, 7, 7,\n",
        "         7, 2, 1, 3, 9, 3, 0, 3, 4, 3, 8, 7, 7, 2, 7, 1, 7, 3, 4, 7, 3, 6, 8, 7,\n",
        "         9, 4, 7, 7, 3, 7, 3, 0, 4, 7, 7, 8, 4, 0, 6, 4, 4, 7, 7, 4, 2, 2, 4, 7,\n",
        "         7, 4, 7, 3, 4, 7, 9, 4, 7, 7, 7, 7, 9, 7, 7, 2, 7, 4, 2, 7, 3, 2, 7, 3,\n",
        "         3, 4, 2, 8]))         \n",
        "bigrams 7500\n",
        "Accuracy of the network on the 10000 test images: 82.59 %\n",
        "(<torch.utils.data.dataloader.DataLoader at 0x7f9a51e1c390>,\n",
        " tensor([4, 8, 9, 4, 7, 4, 2, 7, 4, 2, 3, 1, 3, 2, 7, 4, 3, 7, 9, 3, 4, 7, 7, 7,\n",
        "         7, 2, 1, 3, 9, 3, 0, 3, 4, 3, 8, 7, 7, 2, 7, 1, 7, 3, 4, 7, 3, 6, 8, 7,\n",
        "         9, 4, 7, 7, 3, 7, 3, 4, 4, 4, 7, 8, 4, 0, 6, 4, 4, 7, 7, 4, 2, 2, 4, 7,\n",
        "         7, 4, 7, 3, 4, 7, 9, 4, 7, 7, 7, 4, 9, 7, 7, 2, 7, 4, 2, 7, 3, 2, 7, 3,\n",
        "         3, 4, 2, 8]))\n",
        "\n",
        "bigrams 7500 - 4 layers NN with dropout\n",
        "Accuracy of the network on the 10000 test images: 82.62 %\n",
        "(<torch.utils.data.dataloader.DataLoader at 0x7fed87608f90>,\n",
        " tensor([4, 8, 9, 4, 7, 0, 2, 7, 4, 2, 3, 1, 3, 2, 7, 4, 3, 7, 9, 3, 4, 7, 7, 7,\n",
        "         7, 2, 1, 3, 9, 3, 4, 3, 4, 3, 8, 7, 7, 2, 7, 1, 7, 3, 4, 7, 3, 6, 8, 7,\n",
        "         9, 4, 7, 7, 3, 7, 3, 9, 4, 7, 7, 8, 4, 0, 6, 4, 4, 7, 7, 4, 2, 2, 4, 7,\n",
        "         7, 4, 7, 3, 4, 7, 9, 4, 7, 7, 7, 4, 9, 7, 7, 2, 7, 4, 2, 7, 3, 2, 7, 3,\n",
        "         3, 4, 2, 8]))"
      ]
    }
  ]
}